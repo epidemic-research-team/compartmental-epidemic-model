{
 "cells": [
  {
   "cell_type": "markdown",
   "metadata": {},
   "source": [
    "# COVID 19 - Compartmental Model Simulation"
   ]
  },
  {
   "cell_type": "markdown",
   "metadata": {},
   "source": [
    "## Model"
   ]
  },
  {
   "cell_type": "markdown",
   "metadata": {},
   "source": [
    "We define the following compartments:\n",
    "- **$S$** is individuals who are at risks of Covid-19 infection\n",
    "- **$I$** is infected individuals including asymptomatic and mild cases\n",
    "- **$G$** is infected people who developed more severe cases of symptoms and required hospitalization\n",
    "- **$P$** is those who recovered, and are seropositive and immune\n",
    "- **$N$** is individuals who are recovered, immune but seronegative"
   ]
  },
  {
   "cell_type": "markdown",
   "metadata": {},
   "source": [
    "We also introduce the attributes age ($a$), gender ($g$) and social activity group ($s$) differentiating individuals in a population."
   ]
  },
  {
   "cell_type": "markdown",
   "metadata": {},
   "source": [
    "Our model is formulated as a system of ordinary differential equations:"
   ]
  },
  {
   "cell_type": "markdown",
   "metadata": {},
   "source": [
    "\\begin{align*}\n",
    "\\tag{1}\n",
    "& \\dot{S}_{g,s,a} & = & -\\lambda_{g,s,a}(t)S_{g,s,a} + (P_{g,s,a} + N_{g,s,a})/DI_g + \\frac{1}{r}S_{g,s,a-1} - \\frac{1}{r}S_{g,s,a} + &\\\\\n",
    "&&& \\frac{1}{R}\\sum_{g,s}(S_{g,s,20} + I_{g,s,20} + G_{g,s,20} + P_{g,s,20} + N_{g,s,20}) \\times &\\\\\n",
    "&&& \\delta_1(a)(\\pi_1\\delta_1(s) + \\pi_2\\delta_2(s) + \\pi_3\\delta_3(s) + \\pi_4\\delta_4(s)) &\\\\ \\\\\n",
    "\\tag{2}\n",
    "& \\dot{I}_{g,s,a}  & = &  \\lambda_{g,s,a}(t)S_{g,s,a} - (1/WIP_g + 1/DAI_g)I_{g,s,a} + \\frac{1}{r}I_{g,s,a-1}-\\frac{1}{r}I_{g,s,a} &\\\\ \\\\\n",
    "\\tag{3}\n",
    "& \\dot{G}_{g,s,a}  & = &  I_{g,s,a}/WIP_g - G_{g,s,a}/DWT_g + \\frac{1}{r}G_{g,s,a-1} - \\frac{1}{r}G_{g,s,a} &\\\\ \\\\ \n",
    "\\tag{4}\n",
    "& \\dot{P}_{g,s,a}  & = &  PSC_g(I_{g,s,a}/DAI_g + G_{g,s,a}/DWT_g) - P_{g,s,a}/DI_g + \\frac{1}{r}P_{g,s,a-1} - \\frac{1}{r}P_{g,s,a} &\\\\ \\\\\n",
    "\\tag{5}\n",
    "& \\dot{N}_{g,s,a}  & = &  (1-PSC_g)(I_{g,s,a}/DAI_g + G_{g,s,a}/DWT_g) - N_{g,s,a}/DI_g + \\frac{1}{r}N_{g,s,a-1}-\\frac{1}{r}N_{g,s,a} &\\\\ \\\\\n",
    "\\end{align*}"
   ]
  },
  {
   "cell_type": "markdown",
   "metadata": {},
   "source": [
    "- $a$ : age - is 5-year band\n",
    "- $g$ : gender - male = 0, female = 1\n",
    "- $s$ : social intereaction category - active = 1, not active = 0"
   ]
  },
  {
   "cell_type": "markdown",
   "metadata": {},
   "source": [
    "$\n",
    "r = 5 * 365 = 1825 \\\\\n",
    "R = 2 * 2 * 1825 = 7300\n",
    "$"
   ]
  },
  {
   "cell_type": "markdown",
   "metadata": {},
   "source": [
    "An important metric used to characterised the epidemic is $\\mathcal{R}_0$ which is defined as:"
   ]
  },
  {
   "cell_type": "markdown",
   "metadata": {},
   "source": [
    "$$\n",
    "\\mathcal{R}_0 = \\tau \\cdot \\bar{c} \\cdot d\n",
    "$$"
   ]
  },
  {
   "cell_type": "markdown",
   "metadata": {},
   "source": [
    "$\\tau$ : the transmissibility (i.e., probability of infection given contact between a susceptible and infected individual)\n",
    "\n",
    "$\\bar{c}$ :  the average rate of contact between susceptible and infected individuals\n",
    "\n",
    "$d$ : the duration of infectiousness"
   ]
  },
  {
   "cell_type": "markdown",
   "metadata": {},
   "source": [
    "$\\mathcal{R}_0$ is estimated to be between $2.76$ and $3.25$."
   ]
  },
  {
   "cell_type": "markdown",
   "metadata": {},
   "source": [
    "## Code"
   ]
  },
  {
   "cell_type": "code",
   "execution_count": 1,
   "metadata": {},
   "outputs": [
    {
     "name": "stdout",
     "output_type": "stream",
     "text": [
      "Pixiedust database opened successfully\n"
     ]
    },
    {
     "data": {
      "text/html": [
       "\n",
       "        <div style=\"margin:10px\">\n",
       "            <a href=\"https://github.com/ibm-watson-data-lab/pixiedust\" target=\"_new\">\n",
       "                <img src=\"https://github.com/ibm-watson-data-lab/pixiedust/raw/master/docs/_static/pd_icon32.png\" style=\"float:left;margin-right:10px\"/>\n",
       "            </a>\n",
       "            <span>Pixiedust version 1.1.18</span>\n",
       "        </div>\n",
       "        "
      ],
      "text/plain": [
       "<IPython.core.display.HTML object>"
      ]
     },
     "metadata": {},
     "output_type": "display_data"
    }
   ],
   "source": [
    "import pixiedust"
   ]
  },
  {
   "cell_type": "code",
   "execution_count": 2,
   "metadata": {},
   "outputs": [],
   "source": [
    "import numpy as np\n",
    "from scipy.integrate import odeint, solve_ivp\n",
    "import matplotlib.pyplot as plt\n",
    "%matplotlib inline\n",
    "\n",
    "np.random.seed(123)\n",
    "\n",
    "STATES = ['S', 'I', 'G', 'P', 'N']\n",
    "\n",
    "ages = np.arange(0, 101, 25, np.int32)\n",
    "\n",
    "A_CATEGORIES = [str(t) for t in zip(ages, ages[1:])]\n",
    "G_CATEGORIES = [\"male\", \"female\"]\n",
    "S_CATEGORIES = [\"high\", \"low\"]"
   ]
  },
  {
   "cell_type": "code",
   "execution_count": 3,
   "metadata": {
    "code_folding": [
     0,
     3,
     8,
     28,
     34,
     39,
     45,
     51,
     55
    ],
    "pixiedust": {
     "displayParams": {}
    }
   },
   "outputs": [],
   "source": [
    "def _np_divide_non_zero(a, b):\n",
    "    return np.divide(a, b, out=np.zeros_like(a), where=b!=0)\n",
    "\n",
    "def intensity(t, g, s, a, S, I, G, P, N, beta, c):\n",
    "    opposite_group_ratio = _np_divide_non_zero(I, (S + I + G + P + N))\n",
    "    infectious_interactions = np.sum(c[g,:, s,:, a,:] * opposite_group_ratio)\n",
    "    return beta[g] * infectious_interactions\n",
    "\n",
    "def dS(t, g, s, a, S=None, I=None, G=None, P=None, N=None, beta=None, c=None, di=None, sip=None, r=None, **kwargs):\n",
    "    dSdt = - intensity(t, g, s, a, S, I, G, P, N, beta, c) * S[g, s, a] + \\\n",
    "        (P[g, s, a] + N[g, s, a]) / di[g] - S[g, s, a] / r + int(bool(a)) * S[g, s, a-1] / r\n",
    "    \n",
    "    if a != 0:\n",
    "        return dSdt\n",
    "        \n",
    "    R = len(G_CATEGORIES) * len(S_CATEGORIES)\n",
    "    inflow = np.sum(\n",
    "        np.sum([\n",
    "            S[:,:,-1], \n",
    "            I[:,:,-1],\n",
    "            G[:,:,-1],\n",
    "            P[:,:,-1],\n",
    "            N[:,:,-1]\n",
    "        ]) * sip / r\n",
    "    )\n",
    "            \n",
    "    return dSdt + inflow / R\n",
    "\n",
    "def dI(t, g, s, a, S=None, I=None, G=None, P=None, N=None, beta=None, c=None, wip=None, dai=None, r=None, **kwargs):\n",
    "    dIdt = intensity(t, g, s, a, S, I, G, P, N, beta, c) * S[g, s, a] - \\\n",
    "        (1/wip[g] + 1/dai[g]) * I[g, s, a] - I[g, s, a] / r + int(bool(a)) * I[g, s, a-1] / r\n",
    "    \n",
    "    return dIdt\n",
    "\n",
    "def dG(t, g, s, a, I=None, G=None, wip=None, dwt=None, r=None, **kwargs):\n",
    "    dGdt = I[g, s, a] / wip[g] - G[g, s, a] / dwt[g] - G[g, s, a] / r + int(bool(a)) * G[g, s, a-1] / r\n",
    "    \n",
    "    return dGdt\n",
    "\n",
    "def dP(t, g, s, a, I=None, G=None, P=None, psc=None, dai=None, dwt=None, di=None, r=None, **kwargs):\n",
    "    dPdt = psc[g] * (I[g, s, a] / dai[g] + G[g, s, a] / dwt[g]) - P[g, s, a] / di[g] - \\\n",
    "        P[g, s, a] / r + int(bool(a)) * P[g, s, a-1] / r\n",
    "    \n",
    "    return dPdt\n",
    "\n",
    "def dN(t, g, s, a, I=None, G=None, N=None, psc=None, dai=None, dwt=None, di=None, r=None, **kwargs):\n",
    "    dNdt = (1-psc[g]) * (I[g, s, a] / dai[g] + G[g, s, a] / dwt[g]) - \\\n",
    "        N[g, s ,a]/di[g] - N[g, s, a] / r + int(bool(a)) * N[g, s, a-1] / r\n",
    "    \n",
    "    return dNdt\n",
    "\n",
    "DELTAS_FUNC = {\n",
    "    \"S\": dS, \"I\": dI, \"G\": dG, \"P\": dP, \"N\": dN\n",
    "}\n",
    "\n",
    "def system(y, t, params):\n",
    "    \"\"\"System of ODEs\n",
    "    \n",
    "    Params:\n",
    "        y (array) : the current state\n",
    "        t (float) : the current time\n",
    "        sip (array) : the proportion of people in each social interaction group (sum(sip) = 1)\n",
    "        beta (array) : the transmission probabilities\n",
    "        c (array) : mean per capita at which an individual interact with a new individual from g', s', a'\n",
    "        di (array) : duration of immunity\n",
    "        wip (array) : incubation period\n",
    "        dai (array) : duration of asymptomatic infection symptoms\n",
    "        dwt (array) : duration of treatment\n",
    "        psc (array) : probability of becoming seropositive\n",
    "        r (int) : the number of days for someone to move to the upper age category\n",
    "    \"\"\"\n",
    "    params = {k: v for k, v in zip(\n",
    "        [\"sip\", \"beta\", \"c\", \"di\", \"wip\", \"dai\", \"dwt\", \"psc\", \"r\"], \n",
    "        deflatten_params(params))\n",
    "    }\n",
    "    \n",
    "    states_ = y.reshape((len(STATES), len(G_CATEGORIES), len(S_CATEGORIES), len(A_CATEGORIES)))\n",
    "    states = {}\n",
    "    for i, state in enumerate(STATES):\n",
    "        states[state] = states_[i]\n",
    "        \n",
    "    deltas = {\n",
    "        state: np.empty((len(G_CATEGORIES), len(S_CATEGORIES), len(A_CATEGORIES)))\n",
    "        for state in STATES\n",
    "    }\n",
    "\n",
    "    lengths = [len(STATES), len(G_CATEGORIES), len(S_CATEGORIES), len(A_CATEGORIES)]\n",
    "    \n",
    "    ret = [None]*np.prod(lengths)\n",
    "    for i_state, state in enumerate(STATES):\n",
    "        for i_g in range(len(G_CATEGORIES)):\n",
    "            for i_s in range(len(S_CATEGORIES)):\n",
    "                for i_a in range(len(A_CATEGORIES)):\n",
    "                    idx = np.dot(\n",
    "                        [i_state, i_g, i_s, i_a], \n",
    "                        [np.prod(lengths[i:] + [1]) for i in range(1, len(lengths)+1)]\n",
    "                    )\n",
    "                    ret[idx] = DELTAS_FUNC[state](t, i_g, i_s, i_a, **states, **params)\n",
    "                    \n",
    "    return ret"
   ]
  },
  {
   "cell_type": "code",
   "execution_count": 4,
   "metadata": {
    "code_folding": [
     0
    ]
   },
   "outputs": [],
   "source": [
    "def generate_initial_state(n=100, infected_ratio=0.5, seed=123):\n",
    "    \"\"\"Generate a random initial state\n",
    "    \n",
    "    Params:\n",
    "        n (int): the population size\n",
    "        infected_ratio (float): the ratio of people infected in the population\n",
    "        seed (int): the random seed to use\n",
    "    \"\"\"\n",
    "    np.random.seed(seed)\n",
    "    \n",
    "    ages = np.random.randint(len(A_CATEGORIES), size=n)\n",
    "    genders = np.random.randint(len(G_CATEGORIES), size=n)\n",
    "    social_interactions = np.random.randint(len(S_CATEGORIES), size=n)\n",
    "    \n",
    "    initial_states = {\n",
    "        state: np.zeros((len(G_CATEGORIES), len(S_CATEGORIES), len(A_CATEGORIES)))\n",
    "        for state in STATES\n",
    "    }\n",
    "    \n",
    "    for i, (a, g, s) in enumerate(zip(ages, genders, social_interactions)):\n",
    "        if i < int(n*infected_ratio):\n",
    "            initial_states[\"I\"][g, s, a] += 1\n",
    "        else:\n",
    "            initial_states[\"S\"][g, s, a] += 1\n",
    "            \n",
    "    for state in STATES:\n",
    "        initial_states[state] = initial_states[state].flatten()\n",
    "        \n",
    "    return np.concatenate(tuple(initial_states[state] for state in STATES))"
   ]
  },
  {
   "cell_type": "code",
   "execution_count": 5,
   "metadata": {
    "code_folding": [
     0
    ]
   },
   "outputs": [],
   "source": [
    "def generate_social_interaction_matrix(flatten=False):\n",
    "    ret = np.ones((\n",
    "        len(G_CATEGORIES), len(G_CATEGORIES), \n",
    "        len(S_CATEGORIES), len(S_CATEGORIES),\n",
    "        len(A_CATEGORIES), len(A_CATEGORIES)\n",
    "    ))\n",
    "    \n",
    "    if flatten:\n",
    "        return ret.flatten()\n",
    "    return ret"
   ]
  },
  {
   "cell_type": "code",
   "execution_count": 6,
   "metadata": {
    "code_folding": [
     0,
     3
    ]
   },
   "outputs": [],
   "source": [
    "def flatten_params(*params):\n",
    "    return np.hstack([p.flatten() if isinstance(p, (np.ndarray,)) else p for p in params])\n",
    "\n",
    "def deflatten_params(params):\n",
    "    shapes = np.array([\n",
    "        (len(S_CATEGORIES),),\n",
    "        (len(G_CATEGORIES),),\n",
    "        (len(G_CATEGORIES), len(G_CATEGORIES), len(S_CATEGORIES), len(S_CATEGORIES), len(A_CATEGORIES), len(A_CATEGORIES)),\n",
    "        (len(G_CATEGORIES),),\n",
    "        (len(G_CATEGORIES),),\n",
    "        (len(G_CATEGORIES),),\n",
    "        (len(G_CATEGORIES),),\n",
    "        (2,),\n",
    "        1\n",
    "    ])\n",
    "    \n",
    "    length_parameters = [\n",
    "        np.prod(s) if s != 1 else s\n",
    "        for s in shapes\n",
    "    ]\n",
    "    \n",
    "    split_indices = np.cumsum(length_parameters)\n",
    "    \n",
    "    return tuple(\n",
    "        a.reshape(s) if s != 1 else a[0] \n",
    "        for s, a in zip(shapes, np.split(params, split_indices[:-1]))\n",
    "    )"
   ]
  },
  {
   "cell_type": "code",
   "execution_count": 7,
   "metadata": {
    "code_folding": [
     3,
     15,
     17,
     25,
     46
    ],
    "pixiedust": {
     "displayParams": {}
    }
   },
   "outputs": [],
   "source": [
    "state0 = generate_initial_state()\n",
    "t = np.linspace(0, 100, 101)\n",
    "\n",
    "args = flatten_params(*(\n",
    "    np.array([0.8, 0.2]),                  # sip\n",
    "    np.array([0.4, 0.2]),                  # beta\n",
    "    generate_social_interaction_matrix(),  # c\n",
    "    np.array([2, 2]),                      # di\n",
    "    np.array([7, 7]),                      # wip\n",
    "    np.array([3, 3]),                      # dai\n",
    "    np.array([14, 14]),                    # dwt\n",
    "    np.array([0.5, 0.5]),                  # psc\n",
    "    1825.,                                 # r\n",
    "))\n",
    "\n",
    "class CompartmentModel(object):\n",
    "    \n",
    "    def __init__(self, times, state0=None):\n",
    "        self.times = times\n",
    "        self.state0 = state0 if state0 is not None else generate_initial_state()\n",
    "        \n",
    "    def run(self, *args):\n",
    "        return odeint(system, state0, t, args=(args,), rtol=1e-6, atol=1e-6)\n",
    "    \n",
    "    @staticmethod\n",
    "    def _build_history(sol):\n",
    "        \"\"\"Reconstruct the history from the output of the ODE solver\n",
    "\n",
    "        Params:\n",
    "            sol (array): the output of the ODE solver\n",
    "\n",
    "        Returns:\n",
    "            hist (array): the array of shape (len(t), len(G), len(S), len(A))\n",
    "        \"\"\"\n",
    "        hists = {\n",
    "            state: [] for state in STATES\n",
    "        }\n",
    "\n",
    "        for t, states_t in enumerate(sol):\n",
    "            for state, vals in zip(STATES, np.array_split(states_t, len(STATES))):\n",
    "                hists[state].append(\n",
    "                    vals.reshape((len(G_CATEGORIES), len(S_CATEGORIES), len(A_CATEGORIES)))\n",
    "                )\n",
    "\n",
    "        return {s : np.array(h) for s, h in hists.items()}\n",
    "    \n",
    "    def plot(self, sol, gender, social_interaction, age, obs=None):\n",
    "        G = G_CATEGORIES.index(gender)\n",
    "        S = S_CATEGORIES.index(social_interaction)\n",
    "        A = A_CATEGORIES.index(age)\n",
    "\n",
    "        plt.figure(figsize=(20,10))\n",
    "\n",
    "        if obs is not None:\n",
    "            obs_hists = self._build_history(obs)\n",
    "            plt.plot(self.times[1:], obs_hists[\"S\"][:, G, S, A], marker='o', color=\"C0\", linestyle='none')\n",
    "            plt.plot(self.times[1:], obs_hists[\"I\"][:, G, S, A], marker='o', color=\"C1\", linestyle='none')\n",
    "            plt.plot(self.times[1:], obs_hists[\"G\"][:, G, S, A], marker='o', color=\"C2\", linestyle='none')\n",
    "            plt.plot(self.times[1:], obs_hists[\"P\"][:, G, S, A], marker='o', color=\"C3\", linestyle='none')\n",
    "            plt.plot(self.times[1:], obs_hists[\"N\"][:, G, S, A], marker='o', color=\"C4\", linestyle='none')\n",
    "\n",
    "        hists = self._build_history(sol)\n",
    "        plt.plot(self.times, hists[\"S\"][:, G, S, A], color=\"C0\", label=f'$S(t)$')\n",
    "        plt.plot(self.times, hists[\"I\"][:, G, S, A], color=\"C1\", label=f'$I(t)$')\n",
    "        plt.plot(self.times, hists[\"G\"][:, G, S, A], color=\"C2\", label=f'$G(t)$')\n",
    "        plt.plot(self.times, hists[\"P\"][:, G, S, A], color=\"C3\", label=f'$P(t)$')\n",
    "        plt.plot(self.times, hists[\"N\"][:, G, S, A], color=\"C4\", label=f'$N(t)$')\n",
    "\n",
    "        plt.legend(loc='best')\n",
    "        plt.xlabel('t')\n",
    "        plt.grid()\n",
    "        plt.show()\n",
    "\n",
    "model = CompartmentModel(t, state0)\n",
    "sol = model.run(*args)"
   ]
  },
  {
   "cell_type": "code",
   "execution_count": 8,
   "metadata": {
    "code_folding": []
   },
   "outputs": [
    {
     "data": {
      "image/png": "[encoded data removed]",
      "text/plain": [
       "<Figure size 1440x720 with 1 Axes>"
      ]
     },
     "metadata": {
      "needs_background": "light"
     },
     "output_type": "display_data"
    }
   ],
   "source": [
    "# Observational model\n",
    "np.random.seed(123)\n",
    "\n",
    "obs = np.random.lognormal(\n",
    "    mean=np.log(sol[1::]), \n",
    "    sigma=np.random.uniform(0.1, 0.3, size=sol.shape[1])\n",
    ")\n",
    "    \n",
    "model.plot(sol, \"male\", \"high\", \"(25, 50)\", obs=obs)"
   ]
  },
  {
   "cell_type": "markdown",
   "metadata": {},
   "source": [
    "## Simulation"
   ]
  },
  {
   "cell_type": "code",
   "execution_count": 10,
   "metadata": {},
   "outputs": [],
   "source": [
    "import pymc3 as pm\n",
    "from pymc3.ode import DifferentialEquation\n",
    "import numpy as np\n",
    "import matplotlib.pyplot as plt\n",
    "from scipy.integrate import odeint\n",
    "import arviz as az\n",
    "import theano\n",
    "import theano.tensor as tt"
   ]
  },
  {
   "cell_type": "code",
   "execution_count": 11,
   "metadata": {
    "code_folding": []
   },
   "outputs": [],
   "source": [
    "def _tt_divide_non_zero(a, b):\n",
    "    return tt.switch(tt.eq(b, 0), 0, a / b)\n",
    "\n",
    "def intensity_(t, g, s, a, S, I, G, P, N, beta, c):\n",
    "    opposite_group_ratio = _tt_divide_non_zero(I, (S + I + G + P + N))\n",
    "    infectious_interactions = tt.sum(c[g,:, s,:, a,:] * opposite_group_ratio)\n",
    "    return beta[g] * infectious_interactions\n",
    "\n",
    "def dS_(t, g, s, a, S=None, I=None, G=None, P=None, N=None, beta=None, c=None, di=None, sip=None, r=None, **kwargs):\n",
    "    dSdt = - intensity_(t, g, s, a, S, I, G, P, N, beta, c) * S[g, s, a] + \\\n",
    "        (P[g, s, a] + N[g, s, a]) / di[g] - S[g, s, a] / r + int(bool(a)) * S[g, s, a-1] / r\n",
    "    \n",
    "    if a != 0:\n",
    "        return dSdt\n",
    "        \n",
    "    R = len(G_CATEGORIES) * len(S_CATEGORIES)\n",
    "    inflow = tt.sum(\n",
    "        tt.sum([\n",
    "            S[:,:,-1], \n",
    "            I[:,:,-1],\n",
    "            G[:,:,-1],\n",
    "            P[:,:,-1],\n",
    "            N[:,:,-1]\n",
    "        ]) * sip / r\n",
    "    )\n",
    "            \n",
    "    return dSdt + inflow / R\n",
    "\n",
    "def dI_(t, g, s, a, S=None, I=None, G=None, P=None, N=None, beta=None, c=None, wip=None, dai=None, r=None, **kwargs):\n",
    "    dIdt = intensity_(t, g, s, a, S, I, G, P, N, beta, c) * S[g, s, a] - \\\n",
    "        (1/wip[g] + 1/dai[g]) * I[g, s, a] - I[g, s, a] / r + int(bool(a)) * I[g, s, a-1] / r\n",
    "    \n",
    "    return dIdt\n",
    "\n",
    "def dG_(t, g, s, a, I=None, G=None, wip=None, dwt=None, r=None, **kwargs):\n",
    "    dGdt = I[g, s, a] / wip[g] - G[g, s, a] / dwt[g] - G[g, s, a] / r + int(bool(a)) * G[g, s, a-1] / r\n",
    "    \n",
    "    return dGdt\n",
    "\n",
    "def dP_(t, g, s, a, I=None, G=None, P=None, psc=None, dai=None, dwt=None, di=None, r=None, **kwargs):\n",
    "    dPdt = psc[g] * (I[g, s, a] / dai[g] + G[g, s, a] / dwt[g]) - P[g, s, a] / di[g] - \\\n",
    "        P[g, s, a] / r + int(bool(a)) * P[g, s, a-1] / r\n",
    "    \n",
    "    return dPdt\n",
    "\n",
    "def dN_(t, g, s, a, I=None, G=None, N=None, psc=None, dai=None, dwt=None, di=None, r=None, **kwargs):\n",
    "    dNdt = (1-psc[g]) * (I[g, s, a] / dai[g] + G[g, s, a] / dwt[g]) - \\\n",
    "        N[g, s ,a]/di[g] - N[g, s, a] / r + int(bool(a)) * N[g, s, a-1] / r\n",
    "    \n",
    "    return dNdt\n",
    "\n",
    "DELTAS_FUNC = {\n",
    "    \"S\": dS_, \"I\": dI_, \"G\": dG_, \"P\": dP_, \"N\": dN_\n",
    "}\n",
    "\n",
    "def system_(y, t, params):\n",
    "    \"\"\"System of ODEs\n",
    "    \n",
    "    Params:\n",
    "        y (array) : the current state\n",
    "        t (float) : the current time\n",
    "        sip (array) : the proportion of people in each social interaction group (sum(sip) = 1)\n",
    "        beta (array) : the transmission probabilities\n",
    "        c (array) : mean per capita at which an individual interact with a new individual from g', s', a'\n",
    "        di (array) : duration of immunity\n",
    "        wip (array) : incubation period\n",
    "        dai (array) : duration of asymptomatic infection symptoms\n",
    "        dwt (array) : duration of treatment\n",
    "        psc (array) : probability of becoming seropositive\n",
    "        r (int) : the number of days for someone to move to the upper age category\n",
    "    \"\"\"\n",
    "    \n",
    "    params = {k: v for k, v in zip(\n",
    "        [\"sip\", \"beta\", \"c\", \"di\", \"wip\", \"dai\", \"dwt\", \"psc\", \"r\"], \n",
    "        deflatten_params(params))\n",
    "    }\n",
    "    \n",
    "    states_ = y.reshape((len(STATES), len(G_CATEGORIES), len(S_CATEGORIES), len(A_CATEGORIES)))\n",
    "    states = {}\n",
    "    for i, state in enumerate(STATES):\n",
    "        states[state] = states_[i]\n",
    "        \n",
    "    deltas = {\n",
    "        state: np.empty((len(G_CATEGORIES), len(S_CATEGORIES), len(A_CATEGORIES)))\n",
    "        for state in STATES\n",
    "    }\n",
    "\n",
    "    lengths = [len(STATES), len(G_CATEGORIES), len(S_CATEGORIES), len(A_CATEGORIES)]\n",
    "    \n",
    "    ret = [None]*np.prod(lengths)\n",
    "    for i_state, state in enumerate(STATES):\n",
    "        for i_g in range(len(G_CATEGORIES)):\n",
    "            for i_s in range(len(S_CATEGORIES)):\n",
    "                for i_a in range(len(A_CATEGORIES)):\n",
    "                    idx = np.dot(\n",
    "                        [i_state, i_g, i_s, i_a], \n",
    "                        [np.prod(lengths[i:] + [1]) for i in range(1, len(lengths)+1)]\n",
    "                    )\n",
    "                    ret[idx] = DELTAS_FUNC[state](t, i_g, i_s, i_a, **states, **params)\n",
    "                    \n",
    "    return ret"
   ]
  },
  {
   "cell_type": "code",
   "execution_count": null,
   "metadata": {
    "code_folding": [],
    "pixiedust": {
     "displayParams": {}
    },
    "scrolled": true
   },
   "outputs": [],
   "source": [
    "with pm.Model() as sim_model:\n",
    "    sigma = pm.HalfCauchy('sigma', 1, shape=state0.shape[0])\n",
    "\n",
    "#     R0 = pm.Bound(pm.Normal, lower=1)('R0', 3., 0.25)\n",
    "    \n",
    "    # TODO : update the distributions\n",
    "    sip = tt.as_tensor_variable([0.8, 0.2]) # pm.Dirichlet('sip', np.ones((len(S_CATEGORIES),)))\n",
    "    beta = pm.Beta('beta', 3, 2, shape=len(G_CATEGORIES)) # tt.as_tensor_variable([0.4, 0.2])\n",
    "    di = tt.as_tensor_variable([2., 2.]) # pm.Exponential('di', 1/2, shape=len(G_CATEGORIES))\n",
    "    wip = tt.as_tensor_variable([7., 7.]) # pm.Exponential('wip', 1/7, shape=len(G_CATEGORIES))\n",
    "    dai = tt.as_tensor_variable([3., 3.]) # pm.Exponential('dai', 1/3, shape=len(G_CATEGORIES))\n",
    "    dwt = tt.as_tensor_variable([14., 14.]) # pm.Exponential('dwt', 1/14, shape=len(G_CATEGORIES))\n",
    "    psc = tt.as_tensor_variable([0.5, 0.5]) # pm.Dirichlet('psc', np.ones((len(G_CATEGORIES),)))\n",
    "    \n",
    "    c = tt.as_tensor_variable(generate_social_interaction_matrix(False))  # c\n",
    "    r = tt.as_tensor_variable(1825.)\n",
    "    \n",
    "    args_ = tt.concatenate([p.flatten() for p in [sip, beta, c, di, wip, dai, dwt, psc, r]])\n",
    "\n",
    "    y_hat = pm.ode.DifferentialEquation(\n",
    "        func=system_,\n",
    "        times=t,\n",
    "        n_states=len(state0), \n",
    "        n_theta=len(args)\n",
    "    )(\n",
    "        y0=state0,\n",
    "        theta=args_,\n",
    "        return_sens=True\n",
    "    )\n",
    "    \n",
    "    # Change likelihood\n",
    "    y_obs = pm.Normal(\"y_obs\", mu=y_hat[1::], sd=sigma, observed=obs)\n",
    "    \n",
    "    trace = pm.sample(2000, tune=1000)\n",
    "    "
   ]
  },
  {
   "cell_type": "code",
   "execution_count": null,
   "metadata": {},
   "outputs": [],
   "source": [
    "pm.traceplot(trace)"
   ]
  }
 ],
 "metadata": {
  "author": "mes",
  "hide_input": false,
  "kernelspec": {
   "display_name": "Python 3",
   "language": "python",
   "name": "python3"
  },
  "language_info": {
   "codemirror_mode": {
    "name": "ipython",
    "version": 3
   },
   "file_extension": ".py",
   "mimetype": "text/x-python",
   "name": "python",
   "nbconvert_exporter": "python",
   "pygments_lexer": "ipython3",
   "version": "3.7.3"
  },
  "latex_envs": {
   "LaTeX_envs_menu_present": true,
   "autoclose": false,
   "autocomplete": false,
   "bibliofile": "biblio.bib",
   "cite_by": "apalike",
   "current_citInitial": 1,
   "eqLabelWithNumbers": false,
   "eqNumInitial": 1,
   "hotkeys": {
    "equation": "Ctrl-E",
    "itemize": "Ctrl-I"
   },
   "labels_anchors": false,
   "latex_user_defs": false,
   "report_style_numbering": false,
   "user_envs_cfg": false
  },
  "toc": {
   "base_numbering": 1,
   "nav_menu": {
    "height": "106px",
    "width": "348px"
   },
   "number_sections": true,
   "sideBar": true,
   "skip_h1_title": false,
   "title_cell": "Table of Contents",
   "title_sidebar": "Contents",
   "toc_cell": false,
   "toc_position": {},
   "toc_section_display": true,
   "toc_window_display": false
  }
 },
 "nbformat": 4,
 "nbformat_minor": 4
}
