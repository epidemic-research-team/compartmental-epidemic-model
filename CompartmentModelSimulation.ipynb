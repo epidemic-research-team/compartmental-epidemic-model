{
 "cells": [
  {
   "cell_type": "markdown",
   "metadata": {},
   "source": [
    "# COVID 19 - Compartmental Model Simulation"
   ]
  },
  {
   "cell_type": "markdown",
   "metadata": {},
   "source": [
    "## Model"
   ]
  },
  {
   "cell_type": "markdown",
   "metadata": {},
   "source": [
    "We define the following compartments:\n",
    "- **$S$** is individuals who are at risks of Covid-19 infection\n",
    "- **$I$** is infected individuals including asymptomatic and mild cases\n",
    "- **$G$** is infected people who developed more severe cases of symptoms and required hospitalization\n",
    "- **$P$** is those who recovered, and are seropositive and immune\n",
    "- **$N$** is individuals who are recovered, immune but seronegative"
   ]
  },
  {
   "cell_type": "markdown",
   "metadata": {},
   "source": [
    "We also introduce the attributes age ($a$), gender ($g$) and social activity group ($s$) differentiating individuals in a population."
   ]
  },
  {
   "cell_type": "markdown",
   "metadata": {},
   "source": [
    "Our model is formulated as a system of ordinary differential equations:"
   ]
  },
  {
   "cell_type": "markdown",
   "metadata": {},
   "source": [
    "\\begin{align*}\n",
    "\\tag{1}\n",
    "& \\dot{S}_{g,s,a} & = & -\\lambda_{g,s,a}(t)S_{g,s,a} + (P_{g,s,a} + N_{g,s,a})/DI_g + \\frac{1}{r}S_{g,s,a-1} - \\frac{1}{r}S_{g,s,a} + &\\\\\n",
    "&&& \\frac{1}{R}\\sum_{g,s}(S_{g,s,20} + I_{g,s,20} + G_{g,s,20} + P_{g,s,20} + N_{g,s,20}) \\times &\\\\\n",
    "&&& \\delta_1(a)(\\pi_1\\delta_1(s) + \\pi_2\\delta_2(s) + \\pi_3\\delta_3(s) + \\pi_4\\delta_4(s)) &\\\\ \\\\\n",
    "\\tag{2}\n",
    "& \\dot{I}_{g,s,a}  & = &  \\lambda_{g,s,a}(t)S_{g,s,a} - (1/WIP_g + 1/DAI_g)I_{g,s,a} + \\frac{1}{r}I_{g,s,a-1}-\\frac{1}{r}I_{g,s,a} &\\\\ \\\\\n",
    "\\tag{3}\n",
    "& \\dot{G}_{g,s,a}  & = &  I_{g,s,a}/WIP_g - G_{g,s,a}/DWT_g + \\frac{1}{r}G_{g,s,a-1} - \\frac{1}{r}G_{g,s,a} &\\\\ \\\\ \n",
    "\\tag{4}\n",
    "& \\dot{P}_{g,s,a}  & = &  PSC_g(I_{g,s,a}/DAI_g + G_{g,s,a}/DWT_g) - P_{g,s,a}/DI_g + \\frac{1}{r}P_{g,s,a-1} - \\frac{1}{r}P_{g,s,a} &\\\\ \\\\\n",
    "\\tag{5}\n",
    "& \\dot{N}_{g,s,a}  & = &  (1-PSC_g)(I_{g,s,a}/DAI_g + G_{g,s,a}/DWT_g) - N_{g,s,a}/DI_g + \\frac{1}{r}N_{g,s,a-1}-\\frac{1}{r}N_{g,s,a} &\\\\ \\\\\n",
    "\\end{align*}"
   ]
  },
  {
   "cell_type": "markdown",
   "metadata": {},
   "source": [
    "- $a$ : age - is 5-year band\n",
    "- $g$ : gender - male = 0, female = 1\n",
    "- $s$ : social intereaction category - active = 1, not active = 0"
   ]
  },
  {
   "cell_type": "markdown",
   "metadata": {},
   "source": [
    "$\n",
    "r = 5 * 365 = 1825 \\\\\n",
    "R = 2 * 2 * 1825 = 7300\n",
    "$"
   ]
  },
  {
   "cell_type": "markdown",
   "metadata": {},
   "source": [
    "An important metric used to characterised the epidemic is $\\mathcal{R}_0$ which is defined as:"
   ]
  },
  {
   "cell_type": "markdown",
   "metadata": {},
   "source": [
    "$$\n",
    "\\mathcal{R}_0 = \\tau \\cdot \\bar{c} \\cdot d\n",
    "$$"
   ]
  },
  {
   "cell_type": "markdown",
   "metadata": {},
   "source": [
    "$\\tau$ : the transmissibility (i.e., probability of infection given contact between a susceptible and infected individual)\n",
    "\n",
    "$\\bar{c}$ :  the average rate of contact between susceptible and infected individuals\n",
    "\n",
    "$d$ : the duration of infectiousness"
   ]
  },
  {
   "cell_type": "markdown",
   "metadata": {},
   "source": [
    "$\\mathcal{R}_0$ is estimated to be between $2.76$ and $3.25$."
   ]
  },
  {
   "cell_type": "markdown",
   "metadata": {},
   "source": [
    "## Code"
   ]
  },
  {
   "cell_type": "code",
   "execution_count": 1,
   "metadata": {},
   "outputs": [
    {
     "name": "stdout",
     "output_type": "stream",
     "text": [
      "Pixiedust database opened successfully\n"
     ]
    },
    {
     "data": {
      "text/html": [
       "\n",
       "        <div style=\"margin:10px\">\n",
       "            <a href=\"https://github.com/ibm-watson-data-lab/pixiedust\" target=\"_new\">\n",
       "                <img src=\"https://github.com/ibm-watson-data-lab/pixiedust/raw/master/docs/_static/pd_icon32.png\" style=\"float:left;margin-right:10px\"/>\n",
       "            </a>\n",
       "            <span>Pixiedust version 1.1.18</span>\n",
       "        </div>\n",
       "        "
      ],
      "text/plain": [
       "<IPython.core.display.HTML object>"
      ]
     },
     "metadata": {},
     "output_type": "display_data"
    }
   ],
   "source": [
    "import pixiedust\n"
   ]
  },
  {
   "cell_type": "code",
   "execution_count": 2,
   "metadata": {},
   "outputs": [],
   "source": [
    "import numpy as np\n",
    "from scipy.integrate import odeint, solve_ivp\n",
    "import matplotlib.pyplot as plt\n",
    "%matplotlib inline\n",
    "\n",
    "STATES = ['S', 'I', 'G', 'P', 'N']\n",
    "\n",
    "ages = np.arange(0, 101, 5, np.int32)\n",
    "\n",
    "A_CATEGORIES = [str(t) for t in zip(ages, ages[1:])]\n",
    "G_CATEGORIES = [\"male\", \"female\"]\n",
    "S_CATEGORIES = [\"high\", \"low\"]"
   ]
  },
  {
   "cell_type": "code",
   "execution_count": 46,
   "metadata": {
    "code_folding": [
     0,
     18,
     40,
     41,
     46,
     51,
     52,
     57,
     58,
     63,
     67
    ],
    "pixiedust": {
     "displayParams": {}
    }
   },
   "outputs": [],
   "source": [
    "def intensity(t, g, s, a, S, I, G, P, N, beta, c):\n",
    "    infectious_interactions = 0\n",
    "    \n",
    "    for g_1 in range(len(G_CATEGORIES)):\n",
    "        for s_1 in range(len(S_CATEGORIES)):\n",
    "            for a_1 in range(len(A_CATEGORIES)):\n",
    "                opposite_group_sum = S[g_1, s_1, a_1] + \\\n",
    "                    I[g_1, s_1, a_1] + G[g_1, s_1, a_1] + \\\n",
    "                    P[g_1, s_1, a_1] + N[g_1, s_1, a_1]\n",
    "                \n",
    "                if not opposite_group_sum:\n",
    "                    continue\n",
    "\n",
    "                infectious_interactions += \\\n",
    "                    c[g, g_1, s, s_1, a, a_1] * I[g_1, s_1, a_1] / opposite_group_sum\n",
    "    \n",
    "    return beta[g] * infectious_interactions\n",
    "\n",
    "def dS(t, g, s, a, S=None, I=None, G=None, P=None, N=None, beta=None, c=None, di=None, sip=None, r=None, **kwargs):\n",
    "    dSdt = - intensity(t, g, s, a, S, I, G, P, N, beta, c) * S[g, s, a] + \\\n",
    "        (P[g, s, a] + N[g, s, a]) / di[g] - S[g, s, a] / r + int(bool(a)) * S[g, s, a-1] / r\n",
    "    \n",
    "    if a != 0:\n",
    "        return dSdt\n",
    "        \n",
    "    R = 0\n",
    "    inflow = 0\n",
    "    for g in range(len(G_CATEGORIES)):\n",
    "        for s in range(len(S_CATEGORIES)):\n",
    "            R += 1\n",
    "            inflow += (\n",
    "                S[g, s, len(A_CATEGORIES)-1] +\n",
    "                I[g, s, len(A_CATEGORIES)-1] +\n",
    "                G[g, s, len(A_CATEGORIES)-1] +\n",
    "                P[g, s, len(A_CATEGORIES)-1] +\n",
    "                N[g, s, len(A_CATEGORIES)-1]\n",
    "            ) * sip[s] / r\n",
    "            \n",
    "    return dSdt + inflow / R\n",
    "\n",
    "def dI(t, g, s, a, S=None, I=None, G=None, P=None, N=None, beta=None, c=None, wip=None, dai=None, r=None, **kwargs):\n",
    "    dIdt = intensity(t, g, s, a, S, I, G, P, N, beta, c) * S[g, s, a] - \\\n",
    "        (1/wip[g] + 1/dai[g]) * I[g, s, a] - I[g, s, a] / r + int(bool(a)) * I[g, s, a-1] / r\n",
    "    \n",
    "    return dIdt\n",
    "\n",
    "def dG(t, g, s, a, I=None, G=None, wip=None, dwt=None, r=None, **kwargs):\n",
    "    dGdt = I[g, s, a] / wip[g] - G[g, s, a] / dwt[g] - G[g, s, a] / r + int(bool(a)) * G[g, s, a-1] / r\n",
    "    \n",
    "    return dGdt\n",
    "\n",
    "def dP(t, g, s, a, I=None, G=None, P=None, psc=None, dai=None, dwt=None, di=None, r=None, **kwargs):\n",
    "    dPdt = psc[g] * (I[g, s, a] / dai[g] + G[g, s, a] / dwt[g]) - P[g, s, a] / di[g] - \\\n",
    "        P[g, s, a] / r + int(bool(a)) * P[g, s, a-1] / r\n",
    "    \n",
    "    return dPdt\n",
    "\n",
    "def dN(t, g, s, a, I=None, G=None, N=None, psc=None, dai=None, dwt=None, di=None, r=None, **kwargs):\n",
    "    dNdt = (1-psc[g]) * (I[g, s, a] / dai[g] + G[g, s, a] / dwt[g]) - \\\n",
    "        N[g, s ,a]/di[g] - N[g, s, a] / r + int(bool(a)) * N[g, s, a-1] / r\n",
    "    \n",
    "    return dNdt\n",
    "\n",
    "DELTAS_FUNC = {\n",
    "    \"S\": dS, \"I\": dI, \"G\": dG, \"P\": dP, \"N\": dN\n",
    "}\n",
    "\n",
    "def system(y, t, params):\n",
    "    \"\"\"System of ODEs\n",
    "    \n",
    "    Params:\n",
    "        y (array) : the current state\n",
    "        t (float) : the current time\n",
    "        sip (array) : the proportion of people in each social interaction group (sum(sip) = 1)\n",
    "        beta (array) : the transmission probabilities\n",
    "        c (array) : mean per capita at which an individual interact with a new individual from g', s', a'\n",
    "        di (array) : duration of immunity\n",
    "        wip (array) : incubation period\n",
    "        dai (array) : duration of asymptomatic infection symptoms\n",
    "        dwt (array) : duration of treatment\n",
    "        psc (array) : probability of becoming seropositive\n",
    "        r (int) : the number of days for someone to move to the upper age category\n",
    "    \"\"\"\n",
    "    params = {\n",
    "        \"sip\" : params[0], \n",
    "        \"beta\": params[1],\n",
    "        \"c\"   : params[2],\n",
    "        \"di\"  : params[3], \n",
    "        \"wip\" : params[4], \n",
    "        \"dai\" : params[5], \n",
    "        \"dwt\" : params[6], \n",
    "        \"psc\" : params[7], \n",
    "        \"r\"   : params[8]\n",
    "    }\n",
    "    \n",
    "    states_ = y.reshape((len(STATES), len(G_CATEGORIES), len(S_CATEGORIES), len(A_CATEGORIES)))\n",
    "    states = {}\n",
    "    for i, state in enumerate(STATES):\n",
    "        states[state] = states_[i]\n",
    "        \n",
    "    deltas = {\n",
    "        state: np.zeros((len(G_CATEGORIES), len(S_CATEGORIES), len(A_CATEGORIES))) \n",
    "        for state in STATES\n",
    "    }\n",
    "\n",
    "    for a in range(len(A_CATEGORIES)-1, -1, -1):\n",
    "        for g in range(len(G_CATEGORIES)-1, -1, -1):\n",
    "            for s in range(len(S_CATEGORIES)-1, -1, -1):\n",
    "                for state in STATES:\n",
    "                    deltas[state][g, s, a] = DELTAS_FUNC[state](t, g, s, a, **states, **params)\n",
    "                    \n",
    "    for state in STATES:\n",
    "        deltas[state] = deltas[state].flatten()\n",
    "        \n",
    "    ret = np.concatenate(tuple(deltas[state] for state in STATES))\n",
    "    return ret\n"
   ]
  },
  {
   "cell_type": "code",
   "execution_count": 5,
   "metadata": {
    "code_folding": [
     0
    ]
   },
   "outputs": [],
   "source": [
    "def generate_initial_state(n=100, infected_ratio=0.5, seed=123):\n",
    "    \"\"\"Generate a random initial state\n",
    "    \n",
    "    Params:\n",
    "        n (int): the population size\n",
    "        infected_ratio (float): the ratio of people infected in the population\n",
    "        seed (int): the random seed to use\n",
    "    \"\"\"\n",
    "    np.random.seed(seed)\n",
    "    \n",
    "    ages = np.random.randint(len(A_CATEGORIES), size=n)\n",
    "    genders = np.random.randint(len(G_CATEGORIES), size=n)\n",
    "    social_interactions = np.random.randint(len(S_CATEGORIES), size=n)\n",
    "    \n",
    "    initial_states = {\n",
    "        state: np.zeros((len(G_CATEGORIES), len(S_CATEGORIES), len(A_CATEGORIES)))\n",
    "        for state in STATES\n",
    "    }\n",
    "    \n",
    "    for i, (a, g, s) in enumerate(zip(ages, genders, social_interactions)):\n",
    "        if i < int(n*infected_ratio):\n",
    "            initial_states[\"I\"][g, s, a] += 1\n",
    "        else:\n",
    "            initial_states[\"S\"][g, s, a] += 1\n",
    "            \n",
    "    for state in STATES:\n",
    "        initial_states[state] = initial_states[state].flatten()\n",
    "        \n",
    "    return np.concatenate(tuple(initial_states[state] for state in STATES))"
   ]
  },
  {
   "cell_type": "code",
   "execution_count": 6,
   "metadata": {
    "code_folding": [
     0
    ]
   },
   "outputs": [],
   "source": [
    "def generate_social_interaction_matrix():\n",
    "    return np.ones((\n",
    "        len(G_CATEGORIES), len(G_CATEGORIES), \n",
    "        len(S_CATEGORIES), len(S_CATEGORIES),\n",
    "        len(A_CATEGORIES), len(A_CATEGORIES)\n",
    "    ))"
   ]
  },
  {
   "cell_type": "code",
   "execution_count": 7,
   "metadata": {
    "code_folding": [
     4
    ],
    "pixiedust": {
     "displayParams": {}
    }
   },
   "outputs": [],
   "source": [
    "state0 = generate_initial_state()\n",
    "\n",
    "c = generate_social_interaction_matrix()\n",
    "\n",
    "args = ((\n",
    "    [0.8, 0.2], # sip\n",
    "    [0.4, 0.2], # beta\n",
    "    c, # c\n",
    "    [2, 2], # di\n",
    "    [7, 7], # wip\n",
    "    [3, 3], # dai\n",
    "    [14, 14], # dwt\n",
    "    [0.5, 0.5], # psc\n",
    "    1825, # r\n",
    "),)\n",
    "\n",
    "\n",
    "t = np.linspace(0, 100, 101)\n",
    "sol = odeint(system, state0, t, args=args)"
   ]
  },
  {
   "cell_type": "code",
   "execution_count": 8,
   "metadata": {
    "code_folding": [
     0
    ]
   },
   "outputs": [],
   "source": [
    "def build_history(sol):\n",
    "    \"\"\"Reconstruct the history from the output of the ODE solver\n",
    "    \n",
    "    Params:\n",
    "        sol (array): the output of the ODE solver\n",
    "        \n",
    "    Returns:\n",
    "        hist (array): the array of shape (len(t), len(G), len(S), len(A))\n",
    "    \"\"\"\n",
    "    hists = {\n",
    "        state: [] for state in STATES\n",
    "    }\n",
    "    \n",
    "    for t, states_t in enumerate(sol):\n",
    "        for state, vals in zip(STATES, np.array_split(states_t, len(STATES))):\n",
    "            hists[state].append(\n",
    "                vals.reshape((len(G_CATEGORIES), len(S_CATEGORIES), len(A_CATEGORIES)))\n",
    "            )\n",
    "            \n",
    "    return {s : np.array(h) for s, h in hists.items()}\n",
    "\n",
    "hists = build_history(sol)"
   ]
  },
  {
   "cell_type": "markdown",
   "metadata": {},
   "source": [
    "## Simulation"
   ]
  },
  {
   "cell_type": "code",
   "execution_count": 40,
   "metadata": {},
   "outputs": [],
   "source": [
    "import pymc3 as pm\n",
    "from pymc3.ode import DifferentialEquation\n",
    "import numpy as np\n",
    "import matplotlib.pyplot as plt\n",
    "from scipy.integrate import odeint\n",
    "import arviz as az\n",
    "import theano"
   ]
  },
  {
   "cell_type": "code",
   "execution_count": 24,
   "metadata": {
    "code_folding": [
     8
    ]
   },
   "outputs": [
    {
     "data": {
      "image/png": "[encoded data removed]",
      "text/plain": [
       "<Figure size 1440x720 with 1 Axes>"
      ]
     },
     "metadata": {
      "needs_background": "light"
     },
     "output_type": "display_data"
    }
   ],
   "source": [
    "# Observational model.  Lognormal likelihood isn't appropriate, but we'll do it anyway\n",
    "obs = np.random.lognormal(\n",
    "    mean=np.log(sol[1::]), \n",
    "    sigma=np.random.uniform(0.1, 0.3, size=sol.shape[1])\n",
    ")\n",
    "\n",
    "obs_hists = build_history(obs)\n",
    "\n",
    "def plot(gender, social_interaction, age):\n",
    "    G = G_CATEGORIES.index(gender)\n",
    "    S = S_CATEGORIES.index(social_interaction)\n",
    "    A = A_CATEGORIES.index(age)\n",
    "\n",
    "    plt.figure(figsize=(20,10))\n",
    "\n",
    "    plt.plot(t[1:], obs_hists[\"S\"][:, G, S, A], marker='o', color=\"C0\", linestyle='none')\n",
    "    plt.plot(t[1:], obs_hists[\"I\"][:, G, S, A], marker='o', color=\"C1\", linestyle='none')\n",
    "    plt.plot(t[1:], obs_hists[\"G\"][:, G, S, A], marker='o', color=\"C2\", linestyle='none')\n",
    "    plt.plot(t[1:], obs_hists[\"P\"][:, G, S, A], marker='o', color=\"C3\", linestyle='none')\n",
    "    plt.plot(t[1:], obs_hists[\"N\"][:, G, S, A], marker='o', color=\"C4\", linestyle='none')\n",
    "\n",
    "    plt.plot(t, hists[\"S\"][:, G, S, A], color=\"C0\", label=f'$S(t)$')\n",
    "    plt.plot(t, hists[\"I\"][:, G, S, A], color=\"C1\", label=f'$I(t)$')\n",
    "    plt.plot(t, hists[\"G\"][:, G, S, A], color=\"C2\", label=f'$G(t)$')\n",
    "    plt.plot(t, hists[\"P\"][:, G, S, A], color=\"C3\", label=f'$P(t)$')\n",
    "    plt.plot(t, hists[\"N\"][:, G, S, A], color=\"C4\", label=f'$N(t)$')\n",
    "\n",
    "    plt.legend(loc='best')\n",
    "    plt.xlabel('t')\n",
    "    plt.grid()\n",
    "    plt.show()\n",
    "    \n",
    "plot(\"male\", \"high\", \"(25, 30)\")"
   ]
  },
  {
   "cell_type": "code",
   "execution_count": 67,
   "metadata": {},
   "outputs": [
    {
     "data": {
      "text/plain": [
       "TensorConstant{(2, 2, 2, ..20) of 1.0}"
      ]
     },
     "execution_count": 67,
     "metadata": {},
     "output_type": "execute_result"
    }
   ],
   "source": [
    "c_ = generate_social_interaction_matrix()\n",
    "theano.tensor.as_tensor_variable(generate_social_interaction_matrix())"
   ]
  },
  {
   "cell_type": "code",
   "execution_count": 70,
   "metadata": {
    "code_folding": [
     41,
     52,
     58
    ],
    "pixiedust": {
     "displayParams": {}
    }
   },
   "outputs": [],
   "source": [
    "def intensity_(t, g, s, a, S, I, G, P, N, beta, c):\n",
    "#     infectious_interactions = 0\n",
    "    \n",
    "#     for g_1 in range(len(G_CATEGORIES)):\n",
    "#         for s_1 in range(len(S_CATEGORIES)):\n",
    "#             for a_1 in range(len(A_CATEGORIES)):\n",
    "#                 opposite_group_sum = S[g_1, s_1, a_1] + \\\n",
    "#                     I[g_1, s_1, a_1] + G[g_1, s_1, a_1] + \\\n",
    "#                     P[g_1, s_1, a_1] + N[g_1, s_1, a_1]\n",
    "                \n",
    "#                 if not opposite_group_sum.non:\n",
    "#                     continue\n",
    "\n",
    "#                 infectious_interactions += \\\n",
    "#                     c[g, g_1, s, s_1, a, a_1] * I[g_1, s_1, a_1] / opposite_group_sum\n",
    "    \n",
    "#     return beta[g] * infectious_interactions\n",
    "    return 0.8\n",
    "\n",
    "def dS(t, g, s, a, S=None, I=None, G=None, P=None, N=None, beta=None, c=None, di=None, sip=None, r=None, **kwargs):\n",
    "    dSdt = - intensity_(t, g, s, a, S, I, G, P, N, beta, c) * S[g, s, a] + \\\n",
    "        (P[g, s, a] + N[g, s, a]) / (1/7) - S[g, s, a] / r + int(bool(a)) * S[g, s, a-1] / r\n",
    "    \n",
    "    if a != 0:\n",
    "        return dSdt\n",
    "        \n",
    "    R = 0\n",
    "    inflow = 0\n",
    "    for g in range(len(G_CATEGORIES)):\n",
    "        for s in range(len(S_CATEGORIES)):\n",
    "            R += 1\n",
    "            inflow += (\n",
    "                S[g, s, len(A_CATEGORIES)-1] +\n",
    "                I[g, s, len(A_CATEGORIES)-1] +\n",
    "                G[g, s, len(A_CATEGORIES)-1] +\n",
    "                P[g, s, len(A_CATEGORIES)-1] +\n",
    "                N[g, s, len(A_CATEGORIES)-1]\n",
    "            ) * sip[s] / r\n",
    "            \n",
    "    return dSdt + inflow / R\n",
    "\n",
    "def dI(t, g, s, a, S=None, I=None, G=None, P=None, N=None, beta=None, c=None, wip=None, dai=None, r=None, **kwargs):\n",
    "    dIdt = intensity_(t, g, s, a, S, I, G, P, N, beta, c) * S[g, s, a] - \\\n",
    "        (1/wip[g] + 1/dai[g]) * I[g, s, a] - I[g, s, a] / r + int(bool(a)) * I[g, s, a-1] / r\n",
    "    \n",
    "    return dIdt\n",
    "\n",
    "def dG(t, g, s, a, I=None, G=None, wip=None, dwt=None, r=None, **kwargs):\n",
    "    dGdt = I[g, s, a] / wip[g] - G[g, s, a] / dwt[g] - G[g, s, a] / r + int(bool(a)) * G[g, s, a-1] / r\n",
    "    \n",
    "    return dGdt\n",
    "\n",
    "def dP(t, g, s, a, I=None, G=None, P=None, psc=None, dai=None, dwt=None, di=None, r=None, **kwargs):\n",
    "    dPdt = psc[g] * (I[g, s, a] / dai[g] + G[g, s, a] / dwt[g]) - P[g, s, a] / di[g] - \\\n",
    "        P[g, s, a] / r + int(bool(a)) * P[g, s, a-1] / r\n",
    "    \n",
    "    return dPdt\n",
    "\n",
    "def dN(t, g, s, a, I=None, G=None, N=None, psc=None, dai=None, dwt=None, di=None, r=None, **kwargs):\n",
    "    dNdt = (1-psc[g]) * (I[g, s, a] / dai[g] + G[g, s, a] / dwt[g]) - \\\n",
    "        N[g, s ,a]/di[g] - N[g, s, a] / r + int(bool(a)) * N[g, s, a-1] / r\n",
    "    \n",
    "    return dNdt\n",
    "\n",
    "DELTAS_FUNC = {\n",
    "    \"S\": dS, \"I\": dI, \"G\": dG, \"P\": dP, \"N\": dN\n",
    "}\n",
    "\n",
    "def system_(y, t, params):\n",
    "    \"\"\"System of ODEs\n",
    "    \n",
    "    Params:\n",
    "        y (array) : the current state\n",
    "        t (float) : the current time\n",
    "        sip (array) : the proportion of people in each social interaction group (sum(sip) = 1)\n",
    "        beta (array) : the transmission probabilities\n",
    "        c (array) : mean per capita at which an individual interact with a new individual from g', s', a'\n",
    "        di (array) : duration of immunity\n",
    "        wip (array) : incubation period\n",
    "        dai (array) : duration of asymptomatic infection symptoms\n",
    "        dwt (array) : duration of treatment\n",
    "        psc (array) : probability of becoming seropositive\n",
    "        r (int) : the number of days for someone to move to the upper age category\n",
    "    \"\"\"\n",
    "    params = {\n",
    "        \"sip\" : params[0], \n",
    "        \"beta\": params[1],\n",
    "        \"c\"   : params[2],\n",
    "        \"di\"  : params[3], \n",
    "        \"wip\" : params[4], \n",
    "        \"dai\" : params[5], \n",
    "        \"dwt\" : params[6], \n",
    "        \"psc\" : params[7], \n",
    "        \"r\"   : params[8]\n",
    "    }\n",
    "    \n",
    "    states_ = y.reshape((len(STATES), len(G_CATEGORIES), len(S_CATEGORIES), len(A_CATEGORIES)))\n",
    "    states = {}\n",
    "    for i, state in enumerate(STATES):\n",
    "        states[state] = states_[i]\n",
    "        \n",
    "    deltas = {\n",
    "        state: np.zeros((len(G_CATEGORIES), len(S_CATEGORIES), len(A_CATEGORIES))) \n",
    "        for state in STATES\n",
    "    }\n",
    "\n",
    "    for a in range(len(A_CATEGORIES)-1, -1, -1):\n",
    "        for g in range(len(G_CATEGORIES)-1, -1, -1):\n",
    "            for s in range(len(S_CATEGORIES)-1, -1, -1):\n",
    "                for state in STATES:\n",
    "                    deltas[state][g, s, a] = DELTAS_FUNC[state](t, g, s, a, **states, **params)\n",
    "                    \n",
    "    for state in STATES:\n",
    "        deltas[state] = deltas[state].flatten()\n",
    "        \n",
    "    ret = np.concatenate(tuple(deltas[state] for state in STATES))\n",
    "    return ret\n"
   ]
  },
  {
   "cell_type": "code",
   "execution_count": 72,
   "metadata": {
    "pixiedust": {
     "displayParams": {}
    },
    "scrolled": true
   },
   "outputs": [
    {
     "ename": "ValueError",
     "evalue": "setting an array element with a sequence.",
     "output_type": "error",
     "traceback": [
      "\u001b[0;31m---------------------------------------------------------------------------\u001b[0m",
      "\u001b[0;31mTypeError\u001b[0m                                 Traceback (most recent call last)",
      "\u001b[0;31mTypeError\u001b[0m: float() argument must be a string or a number, not 'TensorVariable'",
      "\nThe above exception was the direct cause of the following exception:\n",
      "\u001b[0;31mValueError\u001b[0m                                Traceback (most recent call last)",
      "\u001b[0;32m<ipython-input-72-965d55c63138>\u001b[0m in \u001b[0;36m<module>\u001b[0;34m\u001b[0m\n\u001b[1;32m      6\u001b[0m     \u001b[0mn_states\u001b[0m\u001b[0;34m=\u001b[0m\u001b[0mlen\u001b[0m\u001b[0;34m(\u001b[0m\u001b[0mSTATES\u001b[0m\u001b[0;34m)\u001b[0m\u001b[0;34m,\u001b[0m\u001b[0;34m\u001b[0m\u001b[0;34m\u001b[0m\u001b[0m\n\u001b[1;32m      7\u001b[0m     \u001b[0mn_theta\u001b[0m\u001b[0;34m=\u001b[0m\u001b[0mlen\u001b[0m\u001b[0;34m(\u001b[0m\u001b[0margs\u001b[0m\u001b[0;34m)\u001b[0m\u001b[0;34m,\u001b[0m\u001b[0;34m\u001b[0m\u001b[0;34m\u001b[0m\u001b[0m\n\u001b[0;32m----> 8\u001b[0;31m     \u001b[0mt0\u001b[0m\u001b[0;34m=\u001b[0m\u001b[0;36m0\u001b[0m\u001b[0;34m,\u001b[0m\u001b[0;34m\u001b[0m\u001b[0;34m\u001b[0m\u001b[0m\n\u001b[0m\u001b[1;32m      9\u001b[0m )\n\u001b[1;32m     10\u001b[0m \u001b[0;34m\u001b[0m\u001b[0m\n",
      "\u001b[0;32m~/anaconda3/lib/python3.7/site-packages/pymc3/ode/ode.py\u001b[0m in \u001b[0;36m__init__\u001b[0;34m(self, func, times, n_states, n_theta, t0)\u001b[0m\n\u001b[1;32m     89\u001b[0m         \u001b[0;31m# Private\u001b[0m\u001b[0;34m\u001b[0m\u001b[0;34m\u001b[0m\u001b[0;34m\u001b[0m\u001b[0m\n\u001b[1;32m     90\u001b[0m         \u001b[0mself\u001b[0m\u001b[0;34m.\u001b[0m\u001b[0m_augmented_times\u001b[0m \u001b[0;34m=\u001b[0m \u001b[0mnp\u001b[0m\u001b[0;34m.\u001b[0m\u001b[0minsert\u001b[0m\u001b[0;34m(\u001b[0m\u001b[0mtimes\u001b[0m\u001b[0;34m,\u001b[0m \u001b[0;36m0\u001b[0m\u001b[0;34m,\u001b[0m \u001b[0mt0\u001b[0m\u001b[0;34m)\u001b[0m\u001b[0;34m.\u001b[0m\u001b[0mastype\u001b[0m\u001b[0;34m(\u001b[0m\u001b[0mfloatX\u001b[0m\u001b[0;34m)\u001b[0m\u001b[0;34m\u001b[0m\u001b[0;34m\u001b[0m\u001b[0m\n\u001b[0;32m---> 91\u001b[0;31m         \u001b[0mself\u001b[0m\u001b[0;34m.\u001b[0m\u001b[0m_augmented_func\u001b[0m \u001b[0;34m=\u001b[0m \u001b[0mutils\u001b[0m\u001b[0;34m.\u001b[0m\u001b[0maugment_system\u001b[0m\u001b[0;34m(\u001b[0m\u001b[0mfunc\u001b[0m\u001b[0;34m,\u001b[0m \u001b[0mself\u001b[0m\u001b[0;34m.\u001b[0m\u001b[0mn_states\u001b[0m\u001b[0;34m,\u001b[0m \u001b[0mself\u001b[0m\u001b[0;34m.\u001b[0m\u001b[0mn_theta\u001b[0m\u001b[0;34m)\u001b[0m\u001b[0;34m\u001b[0m\u001b[0;34m\u001b[0m\u001b[0m\n\u001b[0m\u001b[1;32m     92\u001b[0m         \u001b[0mself\u001b[0m\u001b[0;34m.\u001b[0m\u001b[0m_sens_ic\u001b[0m \u001b[0;34m=\u001b[0m \u001b[0mutils\u001b[0m\u001b[0;34m.\u001b[0m\u001b[0mmake_sens_ic\u001b[0m\u001b[0;34m(\u001b[0m\u001b[0mself\u001b[0m\u001b[0;34m.\u001b[0m\u001b[0mn_states\u001b[0m\u001b[0;34m,\u001b[0m \u001b[0mself\u001b[0m\u001b[0;34m.\u001b[0m\u001b[0mn_theta\u001b[0m\u001b[0;34m,\u001b[0m \u001b[0mfloatX\u001b[0m\u001b[0;34m)\u001b[0m\u001b[0;34m\u001b[0m\u001b[0;34m\u001b[0m\u001b[0m\n\u001b[1;32m     93\u001b[0m \u001b[0;34m\u001b[0m\u001b[0m\n",
      "\u001b[0;32m~/anaconda3/lib/python3.7/site-packages/pymc3/ode/utils.py\u001b[0m in \u001b[0;36maugment_system\u001b[0;34m(ode_func, n_states, n_theta)\u001b[0m\n\u001b[1;32m    103\u001b[0m \u001b[0;34m\u001b[0m\u001b[0m\n\u001b[1;32m    104\u001b[0m     \u001b[0;31m# Get symbolic representation of the ODEs by passing tensors for y, t and theta\u001b[0m\u001b[0;34m\u001b[0m\u001b[0;34m\u001b[0m\u001b[0;34m\u001b[0m\u001b[0m\n\u001b[0;32m--> 105\u001b[0;31m     \u001b[0myhat\u001b[0m \u001b[0;34m=\u001b[0m \u001b[0mode_func\u001b[0m\u001b[0;34m(\u001b[0m\u001b[0mt_y\u001b[0m\u001b[0;34m,\u001b[0m \u001b[0mt_t\u001b[0m\u001b[0;34m,\u001b[0m \u001b[0mt_p\u001b[0m\u001b[0;34m[\u001b[0m\u001b[0mn_states\u001b[0m\u001b[0;34m:\u001b[0m\u001b[0;34m]\u001b[0m\u001b[0;34m)\u001b[0m\u001b[0;34m\u001b[0m\u001b[0;34m\u001b[0m\u001b[0m\n\u001b[0m\u001b[1;32m    106\u001b[0m     \u001b[0;31m# Stack the results of the ode_func into a single tensor variable\u001b[0m\u001b[0;34m\u001b[0m\u001b[0;34m\u001b[0m\u001b[0;34m\u001b[0m\u001b[0m\n\u001b[1;32m    107\u001b[0m     \u001b[0;32mif\u001b[0m \u001b[0;32mnot\u001b[0m \u001b[0misinstance\u001b[0m\u001b[0;34m(\u001b[0m\u001b[0myhat\u001b[0m\u001b[0;34m,\u001b[0m \u001b[0;34m(\u001b[0m\u001b[0mlist\u001b[0m\u001b[0;34m,\u001b[0m \u001b[0mtuple\u001b[0m\u001b[0;34m)\u001b[0m\u001b[0;34m)\u001b[0m\u001b[0;34m:\u001b[0m\u001b[0;34m\u001b[0m\u001b[0;34m\u001b[0m\u001b[0m\n",
      "\u001b[0;32m<ipython-input-46-7ea868a8c82d>\u001b[0m in \u001b[0;36msystem\u001b[0;34m(y, t, params)\u001b[0m\n\u001b[1;32m    111\u001b[0m             \u001b[0;32mfor\u001b[0m \u001b[0ms\u001b[0m \u001b[0;32min\u001b[0m \u001b[0mrange\u001b[0m\u001b[0;34m(\u001b[0m\u001b[0mlen\u001b[0m\u001b[0;34m(\u001b[0m\u001b[0mS_CATEGORIES\u001b[0m\u001b[0;34m)\u001b[0m\u001b[0;34m-\u001b[0m\u001b[0;36m1\u001b[0m\u001b[0;34m,\u001b[0m \u001b[0;34m-\u001b[0m\u001b[0;36m1\u001b[0m\u001b[0;34m,\u001b[0m \u001b[0;34m-\u001b[0m\u001b[0;36m1\u001b[0m\u001b[0;34m)\u001b[0m\u001b[0;34m:\u001b[0m\u001b[0;34m\u001b[0m\u001b[0;34m\u001b[0m\u001b[0m\n\u001b[1;32m    112\u001b[0m                 \u001b[0;32mfor\u001b[0m \u001b[0mstate\u001b[0m \u001b[0;32min\u001b[0m \u001b[0mSTATES\u001b[0m\u001b[0;34m:\u001b[0m\u001b[0;34m\u001b[0m\u001b[0;34m\u001b[0m\u001b[0m\n\u001b[0;32m--> 113\u001b[0;31m                     \u001b[0mdeltas\u001b[0m\u001b[0;34m[\u001b[0m\u001b[0mstate\u001b[0m\u001b[0;34m]\u001b[0m\u001b[0;34m[\u001b[0m\u001b[0mg\u001b[0m\u001b[0;34m,\u001b[0m \u001b[0ms\u001b[0m\u001b[0;34m,\u001b[0m \u001b[0ma\u001b[0m\u001b[0;34m]\u001b[0m \u001b[0;34m=\u001b[0m \u001b[0mDELTAS_FUNC\u001b[0m\u001b[0;34m[\u001b[0m\u001b[0mstate\u001b[0m\u001b[0;34m]\u001b[0m\u001b[0;34m(\u001b[0m\u001b[0mt\u001b[0m\u001b[0;34m,\u001b[0m \u001b[0mg\u001b[0m\u001b[0;34m,\u001b[0m \u001b[0ms\u001b[0m\u001b[0;34m,\u001b[0m \u001b[0ma\u001b[0m\u001b[0;34m,\u001b[0m \u001b[0;34m**\u001b[0m\u001b[0mstates\u001b[0m\u001b[0;34m,\u001b[0m \u001b[0;34m**\u001b[0m\u001b[0mparams\u001b[0m\u001b[0;34m)\u001b[0m\u001b[0;34m\u001b[0m\u001b[0;34m\u001b[0m\u001b[0m\n\u001b[0m\u001b[1;32m    114\u001b[0m \u001b[0;34m\u001b[0m\u001b[0m\n\u001b[1;32m    115\u001b[0m     \u001b[0;32mfor\u001b[0m \u001b[0mstate\u001b[0m \u001b[0;32min\u001b[0m \u001b[0mSTATES\u001b[0m\u001b[0;34m:\u001b[0m\u001b[0;34m\u001b[0m\u001b[0;34m\u001b[0m\u001b[0m\n",
      "\u001b[0;31mValueError\u001b[0m: setting an array element with a sequence."
     ]
    }
   ],
   "source": [
    "#TODO: fix the `system` to work with `pymc3`\n",
    "\n",
    "sir_model = DifferentialEquation(\n",
    "    func=system,\n",
    "    times=t,\n",
    "    n_states=len(STATES),\n",
    "    n_theta=len(args),\n",
    "    t0=0,\n",
    ")\n",
    "\n",
    "with pm.Model() as model:\n",
    "    sigma = pm.HalfCauchy('sigma', 1, shape=len(STATES))\n",
    "\n",
    "#     R0 = pm.Bound(pm.Normal, lower=1)('R0', 3., 0.25)\n",
    "    \n",
    "    sip = pm.Dirichlet(np.ones((len(G_CATEGORIES),)))\n",
    "    beta = pm.Beta('beta', 3, 2, shape=len(G_CATEGORIES))\n",
    "    c_ = generate_social_interaction_matrix()\n",
    "    c = tt.tensor.as_tensor_variable(c_)\n",
    "    di = pm.Exponential('di', 1/2, shape=len(G_CATEGORIES))\n",
    "    wip = pm.Exponential('wip', 1/7, shape=len(G_CATEGORIES))\n",
    "    dai = pm.Exponential('dai', 1/3, shape=len(G_CATEGORIES))\n",
    "    dwt = pm.Exponential('dai', 1/14, shape=len(G_CATEGORIES))\n",
    "    psc = pm.Dirichlet(np.ones((len(G_CATEGORIES),)))\n",
    "    r = pm.Constant('r', 1825)\n",
    "    \n",
    "    args_ = (\n",
    "        sip, beta, c, di, wip, dai, dwt, psc, r,\n",
    "    )\n",
    "\n",
    "    ode_curves = sir_model(y0=state0, theta=args_)\n",
    "\n",
    "    Y = pm.Lognormal('sol', mu=pm.math.log(ode_curves), sd=sigma, observed=obs)\n",
    "\n",
    "    prior = pm.sample_prior_predictive()\n",
    "    trace = pm.sample(200, tune=100, target_accept=0.9)\n",
    "    posterior_predictive = pm.sample_posterior_predictive(trace)\n",
    "\n",
    "    data = az.from_pymc3(trace=trace, prior = prior, posterior_predictive = posterior_predictive)"
   ]
  },
  {
   "cell_type": "code",
   "execution_count": null,
   "metadata": {},
   "outputs": [],
   "source": []
  }
 ],
 "metadata": {
  "author": "mes",
  "hide_input": false,
  "kernelspec": {
   "display_name": "Python 3",
   "language": "python",
   "name": "python3"
  },
  "language_info": {
   "codemirror_mode": {
    "name": "ipython",
    "version": 3
   },
   "file_extension": ".py",
   "mimetype": "text/x-python",
   "name": "python",
   "nbconvert_exporter": "python",
   "pygments_lexer": "ipython3",
   "version": "3.7.3"
  },
  "latex_envs": {
   "LaTeX_envs_menu_present": true,
   "autoclose": false,
   "autocomplete": false,
   "bibliofile": "biblio.bib",
   "cite_by": "apalike",
   "current_citInitial": 1,
   "eqLabelWithNumbers": false,
   "eqNumInitial": 1,
   "hotkeys": {
    "equation": "Ctrl-E",
    "itemize": "Ctrl-I"
   },
   "labels_anchors": false,
   "latex_user_defs": false,
   "report_style_numbering": false,
   "user_envs_cfg": false
  },
  "toc": {
   "base_numbering": 1,
   "nav_menu": {},
   "number_sections": true,
   "sideBar": true,
   "skip_h1_title": false,
   "title_cell": "Table of Contents",
   "title_sidebar": "Contents",
   "toc_cell": false,
   "toc_position": {},
   "toc_section_display": true,
   "toc_window_display": false
  }
 },
 "nbformat": 4,
 "nbformat_minor": 4
}
