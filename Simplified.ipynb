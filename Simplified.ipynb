{
 "cells": [
  {
   "cell_type": "markdown",
   "metadata": {},
   "source": [
    "Maruyama approximation"
   ]
  },
  {
   "cell_type": "markdown",
   "metadata": {},
   "source": [
    "\\begin{equation*}\n",
    "X_{{n+1}} = X_{n} + a(X_{n}) \\Delta t + b(X_{n}) \\Delta W_{n}\n",
    "\\end{equation*}"
   ]
  },
  {
   "cell_type": "markdown",
   "metadata": {},
   "source": [
    "*Bayesian parameter inference for stochastic biochemical network models using particle Markov chain Monte Carlo, Andrew Golightly and Darren J. Wilkinson, (2011)*"
   ]
  },
  {
   "cell_type": "markdown",
   "metadata": {},
   "source": [
    "Our problem:"
   ]
  },
  {
   "cell_type": "markdown",
   "metadata": {},
   "source": [
    "\\begin{align*}\n",
    "\\tag{1}\n",
    "& \\dot{S} & = & -\\lambda S + \\frac{P}{di} + \\frac{N}{di}&\\\\ \\\\\n",
    "\\tag{2}\n",
    "& \\dot{I} & = &  \\lambda S - I \\frac{1}{wip} - I \\frac{1}{dai} &\\\\ \\\\\n",
    "\\tag{3}\n",
    "& \\dot{G} & = &  I \\frac{1}{wip} - G \\frac{1}{dwt} &\\\\ \\\\ \n",
    "\\tag{4}\n",
    "& \\dot{P} & = &  I \\frac{psc}{dai} + G \\frac{psc}{dwt} - P \\frac{1}{di} &\\\\ \\\\\n",
    "\\tag{5}\n",
    "& \\dot{N} & = &  I \\frac{1-psc}{dai} + G \\frac{1-psc}{dwt} - N \\frac{1}{di} &\\\\ \\\\\n",
    "\\end{align*}"
   ]
  },
  {
   "cell_type": "markdown",
   "metadata": {},
   "source": [
    "We define:"
   ]
  },
  {
   "cell_type": "markdown",
   "metadata": {},
   "source": [
    "\\begin{equation*}\n",
    "\\mathbf{X} = \\begin{bmatrix} S & I & G & P & N \\end{bmatrix}^T\n",
    "\\end{equation*}"
   ]
  },
  {
   "cell_type": "markdown",
   "metadata": {},
   "source": [
    "\\begin{equation*}\n",
    "\\mathbf{\\theta} = \\begin{bmatrix} \\lambda & di & wip & dai & dwt & psc \\end{bmatrix}^T\n",
    "\\end{equation*}"
   ]
  },
  {
   "cell_type": "markdown",
   "metadata": {},
   "source": [
    "#### Stoichiometry matrix"
   ]
  },
  {
   "cell_type": "markdown",
   "metadata": {},
   "source": [
    "\\begin{equation*}\n",
    "A = \\begin{bmatrix}\n",
    "    -1 & 1  & 1  & 0  & 0  & 0  & 0 & 0 & 0  & 0 & 0 \\\\\n",
    "    1  & 0  & 0  & -1 & -1 & 0  & 0 & 0 & 0  & 0 & 0 \\\\\n",
    "    0  & 0  & 0  & 1  & 0  & -1 & 0 & 0 & 0  & 0 & 0 \\\\\n",
    "    0  & 0  & 0  & 0  & 0  & 0  & 1 & 1 & -1 & 0 & 0 \\\\\n",
    "    0  & 0  & -1 & 0  & 0  & 0  & 0 & 0 & 0  & 1 & 1 \\\\\n",
    "\\end{bmatrix}\n",
    "\\end{equation*}"
   ]
  },
  {
   "cell_type": "markdown",
   "metadata": {},
   "source": [
    "\\begin{equation*}\n",
    "h = \\begin{bmatrix}\n",
    "    \\lambda S&\n",
    "    \\frac{P}{di}&\n",
    "    \\frac{N}{di}&\n",
    "    \\frac{I}{wip}&\n",
    "    \\frac{I}{dai}&\n",
    "    \\frac{G}{dwt}&\n",
    "    I\\frac{psc}{dai}&\n",
    "    G\\frac{psc}{dwt}&\n",
    "    \\frac{P}{di}&\n",
    "    I\\frac{1-psc}{dai}&\n",
    "    G\\frac{1-psc}{dwt}\n",
    "\\end{bmatrix}^T\n",
    "\\end{equation*}"
   ]
  },
  {
   "cell_type": "markdown",
   "metadata": {},
   "source": [
    "#### Drift"
   ]
  },
  {
   "cell_type": "markdown",
   "metadata": {},
   "source": [
    "\\begin{equation*}\n",
    "\\alpha(\\mathbf{X}, \\mathbf{\\theta}) = A \\cdot h(\\mathbf{X}, \\mathbf{\\theta})= \\begin{bmatrix}\n",
    "    -\\lambda S + \\frac{P}{di} + \\frac{N}{di} \\\\\n",
    "    \\lambda S - I \\frac{1}{wip} - I \\frac{1}{dai} \\\\\n",
    "    I \\frac{1}{wip} - G \\frac{1}{dwt} \\\\\n",
    "    I \\frac{psc}{dai} + G \\frac{psc}{dwt} - P \\frac{1}{di} \\\\\n",
    "    I \\frac{1-psc}{dai} + G \\frac{1-psc}{dwt} - N \\frac{1}{di}\n",
    "\\end{bmatrix}\n",
    "\\end{equation*}"
   ]
  },
  {
   "cell_type": "markdown",
   "metadata": {},
   "source": [
    "#### Diffusion"
   ]
  },
  {
   "cell_type": "markdown",
   "metadata": {},
   "source": [
    "\\begin{equation*}\n",
    "\\beta(\\mathbf{X}, \\mathbf{\\theta}) = A \\cdot diag(h(\\mathbf{X}, \\mathbf{\\theta})) \\cdot A^T = \\begin{bmatrix}\n",
    "    \\lambda S + \\frac{P}{di} + \\frac{N}{di} & -\\lambda S & 0 & 0 & -\\frac{N}{di} \\\\\n",
    "    -\\lambda S & \\lambda S + \\frac{I}{wip} + \\frac{I}{dai} & -\\frac{I}{wip} & 0 & 0 \\\\\n",
    "    0 & -\\frac{I}{wip} & \\frac{I}{wip} + \\frac{G}{dwt} & 0 & 0 \\\\\n",
    "    0 & 0 & 0 & I \\frac{psc}{dai} + G \\frac{psc}{dwt} + \\frac{P}{di} & 0 \\\\\n",
    "    -\\frac{N}{di} & 0 & 0 & 0 & \\frac{N}{di} + I \\frac{1-psc}{dai} + G \\frac{1-psc}{dwt}\n",
    "\\end{bmatrix}\n",
    "\\end{equation*}"
   ]
  },
  {
   "cell_type": "code",
   "execution_count": 181,
   "metadata": {
    "code_folding": [
     0,
     12
    ]
   },
   "outputs": [],
   "source": [
    "def alpha(xt, params):\n",
    "    S, I, G, P, N = [xt[:,i] for i in range(5)]\n",
    "    lambda_, di, wip, dai, dwt, psc = params\n",
    "    \n",
    "    return tf.concat([\n",
    "        - lambda_ * S + P / di + N / di,\n",
    "        lambda_ * S - I / wip - I / dai,\n",
    "        I / wip - G / dwt,\n",
    "        I * psc / dai + G * psc / dwt - P / di,\n",
    "        I * (1-psc) / dai + G * (1-psc) / dwt - N / di\n",
    "    ], 1)\n",
    "\n",
    "def beta(xt, params):\n",
    "    S, I, G, P, N = [xt[:,i] for i in range(5)]\n",
    "    lambda_, di, wip, dai, dwt, psc = params\n",
    "    \n",
    "    a11 = lambda_ * S + P / di + N / di\n",
    "    a12 = - lambda_ * S\n",
    "    a13 = tf.zeros_like(S)\n",
    "    a14 = tf.zeros_like(S)\n",
    "    a15 = - N / di\n",
    "    \n",
    "    a21 = - lambda_ * S\n",
    "    a22 = lambda_ * S + I / wip + I / dai\n",
    "    a23 = - I / wip\n",
    "    a24 = tf.zeros_like(S)\n",
    "    a25 = tf.zeros_like(S)\n",
    "    \n",
    "    a31 = tf.zeros_like(S)\n",
    "    a32 = - I / wip\n",
    "    a33 = I / wip + G / dwt\n",
    "    a34 = tf.zeros_like(S)\n",
    "    a35 = tf.zeros_like(S)\n",
    "    \n",
    "    a41 = tf.zeros_like(S)\n",
    "    a42 = tf.zeros_like(S)\n",
    "    a43 = tf.zeros_like(S)\n",
    "    a44 = I * psc / dai + G * psc / dwt + P / di\n",
    "    a45 = tf.zeros_like(S)\n",
    "    \n",
    "    a51 = - N /di\n",
    "    a52 = tf.zeros_like(S)\n",
    "    a53 = tf.zeros_like(S)\n",
    "    a54 = tf.zeros_like(S)\n",
    "    a55 = N / di + I * (1-psc) / dai + G * (1-psc) / dwt\n",
    "    \n",
    "    # we use Cholesky–Banachiewicz algo to compute the Cholesky matrix\n",
    "    l11 = tf.sqrt(a11)\n",
    "    zeros = tf.zeros_like(l11)\n",
    "    row1 = tf.concat([l11, zeros, zeros, zeros, zeros], 2)\n",
    "    \n",
    "    l21 = a21 / l11\n",
    "    l22 = tf.sqrt(a22 - tf.square(l21))\n",
    "    row2 = tf.concat([l21, l22, zeros, zeros, zeros], 2)\n",
    "    \n",
    "    l31 = a31 / l11\n",
    "    l32 = (a32 - l31*l21) / l22\n",
    "    l33 = tf.sqrt(a33 - tf.square(l31) - tf.square(l32))\n",
    "    row3 = tf.concat([l31, l32, l33, zeros, zeros], 2)\n",
    "    \n",
    "    l41 = a41 / l11\n",
    "    l42 = (a42 - l41*l21) / l22\n",
    "    l43 = (a43 - l41*l31 - l42*l32) / l33\n",
    "    l44 = tf.sqrt(a44 - tf.square(l41) - tf.square(l42) - tf.square(l43))\n",
    "    row4 = tf.concat([l41, l42, l43, l44, zeros], 2)\n",
    "    \n",
    "    l51 = a51 / l11\n",
    "    l52 = (a52 - l51*l21) / l22\n",
    "    l53 = (a53 - l51*l31 - l52*l32) / l33\n",
    "    l54 = (a54 - l51*l41 - l52*l42 - l53*l43) / l44\n",
    "    l55 = tf.sqrt(a55 - tf.square(l51) - tf.square(l52) - tf.square(l53) - tf.square(l54))\n",
    "    row5 = tf.concat([l51, l52, l53, l54, l55], 2)\n",
    "\n",
    "    #TODO check dims\n",
    "    \n",
    "    return tf.concat([row1, row2, row3, row4, row5], 1)"
   ]
  },
  {
   "cell_type": "markdown",
   "metadata": {},
   "source": [
    "### ELBO"
   ]
  },
  {
   "cell_type": "markdown",
   "metadata": {},
   "source": [
    "**Observation likelihood:**\n",
    "given the paths generated, we want to compute the likelihood of seeing the observation and this for each time step"
   ]
  },
  {
   "cell_type": "markdown",
   "metadata": {},
   "source": [
    "**ODE likelihood:** we use Euler-Maruyama assuming that $x_{t+1}-x_t \\sim \\mathcal{N}(\\alpha(x, \\theta)\\Delta t, \\beta(x, \\theta)\\Delta t)$ and compute the likelihood of seeing the $x_{diff} = x_{t+1}-x_{t}$ given the current parameters $\\theta$.\n",
    "\n",
    "$\\implies$ we are trying to match this distribution with our $q()$ distribution"
   ]
  },
  {
   "cell_type": "markdown",
   "metadata": {},
   "source": [
    "**Parameter likelihood:** given the current mean and variance of $\\theta$ what is the probability of seeing the current $\\theta$\n",
    "\n",
    "$\\implies$ we are trying to match this distribution to the prior distribution put on our parameters"
   ]
  },
  {
   "cell_type": "markdown",
   "metadata": {},
   "source": [
    "\\begin{equation*}\n",
    "q(\\hat{\\mu}, \\hat{\\sigma}|predicted) - ode(\\theta|predicted) - \n",
    "\\end{equation*}"
   ]
  },
  {
   "cell_type": "markdown",
   "metadata": {},
   "source": [
    "We wish to compute the posterior distribution:"
   ]
  },
  {
   "cell_type": "markdown",
   "metadata": {},
   "source": [
    "\\begin{equation*}\n",
    "p(\\theta, x|y) \\propto p(\\theta)p(x|\\theta)p(y|x, \\theta)\n",
    "\\end{equation*}"
   ]
  },
  {
   "cell_type": "markdown",
   "metadata": {},
   "source": [
    "#### $p(\\theta)$"
   ]
  },
  {
   "cell_type": "markdown",
   "metadata": {},
   "source": [
    "The prior on the parameters."
   ]
  },
  {
   "cell_type": "markdown",
   "metadata": {},
   "source": [
    "#### $p(x|\\theta)$"
   ]
  },
  {
   "cell_type": "markdown",
   "metadata": {},
   "source": [
    "We use a classical approach in the Monte Carlo litterature (Golightly & Wilkinson 2008) on SDE and introduce an approximation to the discretised diffusion process conditional on the parameters and observations at a single time. We want to create a path connecting 2 separate observations."
   ]
  },
  {
   "cell_type": "markdown",
   "metadata": {},
   "source": [
    "From Itô calculus we have the following:"
   ]
  },
  {
   "cell_type": "markdown",
   "metadata": {},
   "source": [
    "\\begin{equation*}\n",
    "{\\mathrm  {d}}X_{t}=\\alpha(X_{t}, \\theta)\\,{\\mathrm  {d}}t+\\beta(X_{t}, \\theta)\\,{\\mathrm  {d}}W_{t}\n",
    "\\end{equation*}"
   ]
  },
  {
   "cell_type": "markdown",
   "metadata": {},
   "source": [
    "We use the Chemical Langevin Equation (CLE) approximation to find $\\alpha(\\cdot)$ and $\\beta(\\cdot)$:"
   ]
  },
  {
   "cell_type": "markdown",
   "metadata": {},
   "source": [
    "\\begin{equation*}\n",
    "{\\mathrm  {d}}X_{\\tau_i} = A \\cdot h(X_{\\tau_i}, \\theta) {\\mathrm  {d}}\\tau + A \\cdot diag(h(X_{\\tau_i}, \\theta)) \\cdot A^{T} {\\mathrm  {d}}W_{\\tau}\n",
    "\\end{equation*}"
   ]
  },
  {
   "cell_type": "markdown",
   "metadata": {},
   "source": [
    "For discretisation of the diffusion we process we use the Euler-Maruyama approximation which consider that the difference between one observation to the next follows a Normal distribution of mean $\\alpha(X_{\\tau_i}, \\theta)\\Delta t$ and variance $\\beta(X_{\\tau_i}, \\theta)\\Delta t$."
   ]
  },
  {
   "cell_type": "markdown",
   "metadata": {},
   "source": [
    "\\begin{equation*}\n",
    "X_{\\tau_{i+1}} - X_{\\tau_{i}} \\sim \\mathcal{N}(\\alpha(X_{\\tau_{i}}, \\theta) \\Delta \\tau, \\beta(X_{\\tau_{i}}, \\theta)\\Delta \\tau)\n",
    "\\end{equation*}"
   ]
  },
  {
   "cell_type": "markdown",
   "metadata": {},
   "source": [
    "Thus we have:"
   ]
  },
  {
   "cell_type": "markdown",
   "metadata": {},
   "source": [
    "\\begin{equation*}\n",
    "\\boxed{p(x|\\theta) = \\prod_{i=0}^{m-1} \\varphi(x_{t+1} - x_t, \\alpha(x_{\\tau_{i}}, \\theta)\\Delta \\tau, \\beta(x_{\\tau_{i}}, \\theta)\\Delta \\tau)}\n",
    "\\end{equation*}"
   ]
  },
  {
   "cell_type": "markdown",
   "metadata": {},
   "source": [
    "#### $p(y|x, \\theta)$"
   ]
  },
  {
   "cell_type": "markdown",
   "metadata": {},
   "source": [
    "This is the probability of seeing our observations given the states $x$ and the parameters $\\theta$. Golightly & Wilkinson (2008) describe the observation equation as a function of the state equation and some noise:"
   ]
  },
  {
   "cell_type": "markdown",
   "metadata": {},
   "source": [
    "\\begin{equation*}\n",
    "Y(t) = X(t, \\theta) + \\varepsilon(t)\n",
    "\\end{equation*}\n",
    "\n",
    "where $\\varepsilon(t) \\sim \\mathcal{N}(0, \\Sigma)$, $\\Sigma=diag\\{\\sigma^2_i\\}$ for $i=1,...,d$. Note that for simplicity we will use $\\Sigma = \\mathbf{I}_d$"
   ]
  },
  {
   "cell_type": "markdown",
   "metadata": {},
   "source": [
    "We thus have $Y \\sim \\mathcal{N}(X(\\theta), \\Sigma)$ and we have the likelihood:"
   ]
  },
  {
   "cell_type": "markdown",
   "metadata": {},
   "source": [
    "\\begin{equation*}\n",
    "\\boxed{p(y|x, \\theta) = \\prod_{i=0}^{d} \\varphi(y_{t_{i}}; \\theta, x_{t_{i}}, \\Sigma)}\n",
    "\\end{equation*}"
   ]
  },
  {
   "cell_type": "markdown",
   "metadata": {},
   "source": [
    "#### Approximation"
   ]
  },
  {
   "cell_type": "markdown",
   "metadata": {},
   "source": [
    "We try to use Variational Approxiation due to performance considerations. That is we are trying to find an approximation $q(\\theta; \\phi)$ close to the wanted probability $p(\\theta|y)$. The objective is to find $\\phi$, minimising the Kullback-Liebler divergence between these two probability distributions. As Jordan et al. (1999) has shown, this corresponds at maximising the evidence lower bound:"
   ]
  },
  {
   "cell_type": "markdown",
   "metadata": {},
   "source": [
    "\\begin{equation*}\n",
    "\\mathbb{E}_{q_{\\phi}}[\\log p(\\theta, y) - \\log q(\\theta; \\phi)]\n",
    "\\end{equation*}"
   ]
  },
  {
   "cell_type": "markdown",
   "metadata": {},
   "source": [
    "In the conctext of ODE we are interested in finding the posterior $q(\\theta, x; \\phi)$ which is an approximation of our target prior $p(\\theta, x | y)$ and can be expressed:"
   ]
  },
  {
   "cell_type": "markdown",
   "metadata": {},
   "source": [
    "\\begin{equation*}\n",
    "q(\\theta, x; \\phi) = q(\\theta; \\phi_{\\theta})q(x|\\theta; \\phi_x)\n",
    "\\end{equation*}"
   ]
  },
  {
   "cell_type": "markdown",
   "metadata": {},
   "source": [
    "We note that these two factors can be seen as the approximation of $p(\\theta)$ and $p(x|\\theta)$. In the context of ODE we are thus trying to find two approximattions. One with respect to $\\theta$, that is find the $\\phi_{\\theta}$ that minimises $KL(q(\\theta; \\phi_{\\theta})||p(\\theta))$. And another one with respect to $x$ to minimise $KL(q(x|\\theta; \\phi_x)||p(x|\\theta))$. Having these two approximations will help us find the approximation of our posterior $p(\\theta, x|y)$."
   ]
  },
  {
   "cell_type": "markdown",
   "metadata": {},
   "source": [
    "Finding $q(\\theta; \\phi_{\\theta})$ is rather straightforward, we can use a mean-field approximation for this matter. Note that more complex techniques could be used, but the difficult part of the model lies in the following section so we decide to not spend too much time on this part."
   ]
  },
  {
   "cell_type": "markdown",
   "metadata": {},
   "source": [
    "Finding $q(x|\\theta; \\phi_x)$ is a bit more complex but we can use the same methodology than the one used to find $p(x|\\theta)$ whereby we leverage the "
   ]
  },
  {
   "cell_type": "markdown",
   "metadata": {},
   "source": [
    " "
   ]
  },
  {
   "cell_type": "markdown",
   "metadata": {},
   "source": [
    "#### Loss function"
   ]
  },
  {
   "cell_type": "markdown",
   "metadata": {},
   "source": [
    "Our loss function involves multiple components:\n",
    "- the divergence between $p(\\theta)$ and $q(\\theta; \\phi_{\\theta})$\n",
    "- the divergence between $p(x|\\theta)$ and $q(x|\\theta; \\phi_{x})$\n",
    "- the likelihood of seeing the data given the current parameter of the system $p(y|x, \\theta)$"
   ]
  },
  {
   "cell_type": "markdown",
   "metadata": {},
   "source": [
    "\\begin{equation*}\n",
    "loss = KL(p(\\theta)||q(\\theta; \\phi_{\\theta})) + KL(p(x|\\theta)||q(x|\\theta; \\phi_{x})) +  \\mathcal{L}(obs|x, \\theta)\n",
    "\\end{equation*}"
   ]
  },
  {
   "cell_type": "markdown",
   "metadata": {},
   "source": [
    " "
   ]
  },
  {
   "cell_type": "code",
   "execution_count": null,
   "metadata": {},
   "outputs": [],
   "source": [
    "def elbo(obs, paths, mu, sigma, params, prior_theta_dist, dt):\n",
    "    \"\"\"ELBO method to compute the loss to minimise\n",
    "    \n",
    "    Params\n",
    "    ------\n",
    "        obs (tf.Tensor(dim=(# samples, # observations))): the observations\n",
    "        paths (tf.Tensor(dim=(# samples, # states, # observations))): the x path generated \n",
    "                from the curve fitting exercise\n",
    "        mu (tf.Tensor(dim=(# samples, 1))): the mean values of the curve fitting\n",
    "        sigma (tf.Tensor(dim=(# samples, 1))): the std value of the curve fitting\n",
    "        params (dict): the dictionary containing the variables params, mean and std\n",
    "        prior_theta_dist (tfp.Distribution): the prior distribution for theta\n",
    "        dt (float): the time delta\n",
    "        \n",
    "    Returns\n",
    "    -------\n",
    "        loss (float): the loss value\n",
    "    \"\"\"\n",
    "    \n",
    "    # observation likelihood\n",
    "    obs_logprobs = tf.expand_dims(tf.zeros(1), 1)\n",
    "    for i in range(obs.shape[-1]):\n",
    "        obs_dist = tfd.MultivariateNormalDiag(paths[:, :, i])\n",
    "        obs_logprob = obs_dist.log_prob(obs[:, i])\n",
    "        obs_logprobs = tf.concat([\n",
    "            obs_logprobs,\n",
    "            tf.expand_dims(obs_logprob, 1)\n",
    "        ], 1)\n",
    "        \n",
    "    obs_logprob = tf.reduce_sum(obs_logprob)\n",
    "        \n",
    "        \n",
    "    # ode likelihood\n",
    "    x_t = paths[:, :, :-1]\n",
    "    x_t_plus_1 = paths[:, :, 1:]\n",
    "    \n",
    "    x_path_diff = x_t_plus_1 - x_t\n",
    "    x_diff = tf.concat([tf.reshape(x_path_diff[:, i, :], [-1, 1]) \n",
    "                        for i in range(x_path_diff.shape[1])], 1)\n",
    "    \n",
    "    x_t_param = tf.stack([\n",
    "        tf.reshape(x_t[:,i,:-1],(-1, 1)) for i in range(x_t.shape[1])\n",
    "    ], 1)\n",
    "\n",
    "    alpha_val = alpha(x_t_param, params['value'])\n",
    "    beta_val = beta(x_t_param, params['value'])\n",
    "\n",
    "    ## Euler-Maruyama\n",
    "    ode_dist = tfd.MultivariateNormalTriL(\n",
    "        loc=dt * alpha_val, \n",
    "        scale_tril=tf.sqrt(dt) * beta_val\n",
    "    )\n",
    "    ode_logprob = ode_dist.log_prob(x_diff)\n",
    "    \n",
    "    \n",
    "    # q distrib likelihood\n",
    "    x_path_mean = tf.concat([tf.reshape(x_t[:, i, :], [-1, 1]) \n",
    "                            for i in range(x_t.shape[1])], 1)\n",
    "    x_path_val = tf.concat([tf.reshape(x_t_plus_1[:, i, :], [-1, 1]) \n",
    "                            for i in range(x_t_plus_1.shape[1])], 1)\n",
    "\n",
    "    ## Euler-Maruyama\n",
    "    q_dist_x = tfd.TransformedDistribution(\n",
    "        distribution=tfd.MultivariateNormalTriL(\n",
    "            loc=x_path_mean + dt * mu, \n",
    "            scale_tril=tf.sqrt(dt) * sigma\n",
    "        ), \n",
    "        bijector=tfb.Softplus()\n",
    "    )\n",
    "\n",
    "    q_logprob_x = q_dist_x.log_prob(x_path_val)\n",
    "    \n",
    "    kl_x = tf.reduce_sum(tf.reshape(ode_logprob - q_logprob_x, [paths.shape[0], -1]), 1)\n",
    "    \n",
    "    # theta likelihood\n",
    "    theta_val = tf.concat(params['value'], 1)\n",
    "\n",
    "    q_theta_dist = tfd.MultivariateNormalDiag(\n",
    "        loc=params['mu'],\n",
    "        scale_diag=params['sigma']\n",
    "    )\n",
    "\n",
    "    prior_theta_loglik = prior_theta_dist.log_prob(theta_val)\n",
    "    q_theta_loglik = q_theta_dist.log_prob(theta_val)\n",
    "    kl_theta = prior_theta_loglik - q_theta_loglik\n",
    "    \n",
    "    # loss\n",
    "    loss = - (kl_x + kl_theta + obs_logprob) # we want to maximise the ELBO\n",
    "    mean_loss = tf.reduce_mean(loss, 0)\n",
    "    \n",
    "    return mean_loss"
   ]
  },
  {
   "cell_type": "markdown",
   "metadata": {},
   "source": [
    "----"
   ]
  },
  {
   "cell_type": "markdown",
   "metadata": {},
   "source": [
    "TODO: "
   ]
  },
  {
   "cell_type": "code",
   "execution_count": null,
   "metadata": {},
   "outputs": [],
   "source": []
  },
  {
   "cell_type": "code",
   "execution_count": 12,
   "metadata": {},
   "outputs": [],
   "source": [
    "import numpy as np\n",
    "import matplotlib.pyplot as plt"
   ]
  },
  {
   "cell_type": "code",
   "execution_count": 185,
   "metadata": {},
   "outputs": [
    {
     "data": {
      "text/plain": [
       "array([2.80104117, 2.06760356, 1.71678728, 1.519752  , 1.41148181,\n",
       "       1.29857278, 1.27016041, 1.22695974, 1.17189095, 1.16614779,\n",
       "       1.12695298, 1.1012704 , 1.05749356, 1.03615041, 1.00607013,\n",
       "       0.99874352, 0.98238381, 1.00281176, 0.96565932, 0.99254011,\n",
       "       0.96176698, 0.95434694, 0.97069245, 0.94877561, 0.95226573,\n",
       "       0.95195953, 0.94064689, 0.95527826, 0.93799316, 0.94497026,\n",
       "       0.98362845, 0.91061173, 0.94652162, 0.95570852, 0.9348896 ,\n",
       "       0.92749876, 0.90598237, 0.9178948 , 0.93248146, 0.93212938,\n",
       "       0.89558187, 0.95192011, 0.91844298, 0.97379033, 0.93604319,\n",
       "       0.95376289, 0.91205494, 0.93994464, 0.93984213, 0.90327863,\n",
       "       0.94603579, 0.91564944, 0.9364877 , 0.91708708, 0.9367608 ,\n",
       "       0.93480819, 0.92543156, 0.91513496, 0.92454856, 0.9107423 ,\n",
       "       0.92889546, 0.93827121, 0.94129805, 0.93547443, 0.91507036,\n",
       "       0.93925102, 0.92939488, 0.93963748, 0.94736802, 0.89803601,\n",
       "       0.91210008, 0.94996609, 0.91881743, 0.93845888, 0.95542035,\n",
       "       0.93758441, 0.89208831, 0.94143101, 0.91572738, 0.92728862,\n",
       "       0.94835138, 0.92256858, 0.92057088, 0.89788711, 0.93376955,\n",
       "       0.91924235, 0.916565  , 0.93243585, 0.94944005, 0.91023756,\n",
       "       0.95330051, 0.93056204, 0.93697744, 0.91425653, 0.93503443,\n",
       "       0.91071573, 0.9374444 , 0.90323321, 0.89968529, 0.93474226])"
      ]
     },
     "execution_count": 185,
     "metadata": {},
     "output_type": "execute_result"
    }
   ],
   "source": [
    "data"
   ]
  },
  {
   "cell_type": "code",
   "execution_count": 190,
   "metadata": {},
   "outputs": [
    {
     "data": {
      "text/plain": [
       "[<matplotlib.lines.Line2D at 0x84aa32a90>]"
      ]
     },
     "execution_count": 190,
     "metadata": {},
     "output_type": "execute_result"
    },
    {
     "data": {
      "image/png": "[encoded data removed]",
      "text/plain": [
       "<Figure size 432x288 with 1 Axes>"
      ]
     },
     "metadata": {
      "needs_background": "light"
     },
     "output_type": "display_data"
    }
   ],
   "source": [
    "t = np.linspace(0, 100, 101)\n",
    "plt.plot(t[1:], data)"
   ]
  },
  {
   "cell_type": "code",
   "execution_count": 39,
   "metadata": {},
   "outputs": [],
   "source": [
    "import tensorflow as tf\n",
    "import tensorflow_probability as tfp\n",
    "tfd = tfp.distributions\n",
    "\n",
    "negloglik = lambda y, rv_y: -rv_y.log_prob(y)\n",
    "\n",
    "model = tf.keras.Sequential([\n",
    "  tf.keras.layers.Dense(1),\n",
    "  tfp.layers.DistributionLambda(lambda t: tfd.Normal(loc=t, scale=1)),\n",
    "])\n",
    "\n",
    "model.compile(optimizer=tf.optimizers.Adam(learning_rate=0.01), loss=negloglik)\n",
    "model.fit(x, y, epochs=1000, verbose=False)\n",
    "\n",
    "yhat = model(x_test)"
   ]
  }
 ],
 "metadata": {
  "hide_input": false,
  "kernelspec": {
   "display_name": "Python 3",
   "language": "python",
   "name": "python3"
  },
  "language_info": {
   "codemirror_mode": {
    "name": "ipython",
    "version": 3
   },
   "file_extension": ".py",
   "mimetype": "text/x-python",
   "name": "python",
   "nbconvert_exporter": "python",
   "pygments_lexer": "ipython3",
   "version": "3.7.7"
  },
  "latex_envs": {
   "LaTeX_envs_menu_present": true,
   "autoclose": false,
   "autocomplete": false,
   "bibliofile": "biblio.bib",
   "cite_by": "apalike",
   "current_citInitial": 1,
   "eqLabelWithNumbers": true,
   "eqNumInitial": 1,
   "hotkeys": {
    "equation": "Ctrl-E",
    "itemize": "Ctrl-I"
   },
   "labels_anchors": false,
   "latex_user_defs": false,
   "report_style_numbering": false,
   "user_envs_cfg": false
  },
  "toc": {
   "base_numbering": 1,
   "nav_menu": {},
   "number_sections": true,
   "sideBar": true,
   "skip_h1_title": false,
   "title_cell": "Table of Contents",
   "title_sidebar": "Contents",
   "toc_cell": false,
   "toc_position": {},
   "toc_section_display": true,
   "toc_window_display": false
  }
 },
 "nbformat": 4,
 "nbformat_minor": 4
}
