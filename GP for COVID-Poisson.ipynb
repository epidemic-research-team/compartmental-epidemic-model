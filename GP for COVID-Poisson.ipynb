{
 "cells": [
  {
   "cell_type": "code",
   "execution_count": 1,
   "metadata": {},
   "outputs": [],
   "source": [
    "import pandas as pd\n",
    "from itertools import cycle\n",
    "import gpflow\n",
    "import numpy as np\n",
    "from gpflow.utilities import print_summary, positive\n",
    "from gpflow.ci_utils import ci_niter\n",
    "from gpflow.optimizers import NaturalGradient\n",
    "from gpflow import set_trainable\n",
    "import tensorflow as tf\n",
    "import tensorflow_probability as tfp\n",
    "import matplotlib.pyplot as plt\n",
    "import seaborn as sns\n",
    "from sklearn import preprocessing\n",
    "\n",
    "tfd = tfp.distributions\n",
    "np.random.seed(1234)\n",
    "\n",
    "sns.set(style=\"white\")\n",
    "\n",
    "gpflow.config.set_default_float(np.float64)\n",
    "gpflow.config.set_default_summary_fmt(\"notebook\")\n"
   ]
  },
  {
   "cell_type": "code",
   "execution_count": 2,
   "metadata": {
    "scrolled": true
   },
   "outputs": [
    {
     "name": "stdout",
     "output_type": "stream",
     "text": [
      "The GPflow version is 2.1.2\n",
      "The tensorflow version is 2.3.1\n",
      "The tensorflow-probability version is 0.11.1\n"
     ]
    }
   ],
   "source": [
    "print(\"The GPflow version is {0}\".format(gpflow.__version__))\n",
    "print(\"The tensorflow version is {0}\".format(tf.__version__))\n",
    "print(\"The tensorflow-probability version is {0}\".format(tfp.__version__))"
   ]
  },
  {
   "cell_type": "code",
   "execution_count": 3,
   "metadata": {},
   "outputs": [
    {
     "data": {
      "text/plain": [
       "[PhysicalDevice(name='/physical_device:GPU:0', device_type='GPU'),\n",
       " PhysicalDevice(name='/physical_device:GPU:1', device_type='GPU')]"
      ]
     },
     "execution_count": 3,
     "metadata": {},
     "output_type": "execute_result"
    }
   ],
   "source": [
    "# When run in my desktop\n",
    "tf.config.experimental.list_physical_devices('GPU')"
   ]
  },
  {
   "cell_type": "markdown",
   "metadata": {},
   "source": [
    "## Old Methods: Save them here"
   ]
  },
  {
   "cell_type": "code",
   "execution_count": null,
   "metadata": {},
   "outputs": [],
   "source": [
    "'''\n",
    "m = gpflow.models.VGP(\n",
    "    (X_train, y_train), likelihood=gpflow.likelihoods.Poisson(), kernel=k)\n",
    "\n",
    "opt = gpflow.optimizers.Scipy()\n",
    "opt_logs = opt.minimize(m.training_loss, variables=m.trainable_variables, options=dict(maxiter=20000))\n",
    "print_summary(m)\n",
    "'''"
   ]
  },
  {
   "cell_type": "code",
   "execution_count": null,
   "metadata": {},
   "outputs": [],
   "source": [
    "'''\n",
    "m = gpflow.models.VGP(\n",
    "    (X_train, y_train), likelihood=gpflow.likelihoods.Gaussian(), kernel=k)\n",
    "\n",
    "natgrad = NaturalGradient(gamma=1.0)\n",
    "adam = tf.optimizers.Adam(0.01)\n",
    "\n",
    "set_trainable(m.q_mu, False)\n",
    "set_trainable(m.q_sqrt, False)\n",
    "\n",
    "logf = []\n",
    "\n",
    "for _ in range(ci_niter(1000)):\n",
    "    adam.minimize(m.training_loss, m.trainable_variables)\n",
    "    natgrad.minimize(m.training_loss, [(m.q_mu, m.q_sqrt)])   \n",
    "    logf.append(m.elbo())\n",
    "'''"
   ]
  },
  {
   "cell_type": "markdown",
   "metadata": {},
   "source": [
    "## Results Overview <a id='top'></a>"
   ]
  },
  {
   "cell_type": "markdown",
   "metadata": {},
   "source": [
    "1. [Load Datasets US](#load_data)\n",
    "2. [Explore the Google Mobility Dataset](#mobility)\n",
    "3. [Merge the Datasets](#merge)\n",
    "4. [Create Dataset for Training](#training)\n",
    "5. [Kernel and Mobility Data](#kernel)\n",
    "6. [Variational Bayesian non-parametric inference for infectious disease models](#models)"
   ]
  },
  {
   "cell_type": "markdown",
   "metadata": {},
   "source": [
    "We denote $y=(y_{i})^{N}$ as the number of daily COVID cases and $y\\sim \\mathcal{N}(f(x), \\sigma^2)$, where $f(x) = \\mathcal{GP}(0, K)$\n",
    "\n",
    "\n",
    "| Model number |   Model   | Likelihood | Kernel | inducing points | within-sample RMSE ($n=139$) | out-of-sample RMSE ($n=21$) | $R^2$ | wisVAR | oosVAR | GPflow | 1st week frc$^1$ | 2nd week frc$^2$ | 3rd week frc$^3$ | whole test frc$^4$ | frc ratio$^5$ |\n",
    "| :- | :- | :- | :- | :- | :-: | :-: | :-: | :-: | :-: | -: | :-: | :-: | :-: | :-: | :-: |\n",
    "| [M1](#M1) | λ(t) = f(t) | Gaussian | product: SE $\\times$ L $\\times$ RQ | 15 | 0.152 | 1.617 | 0.96 | 0.002 | 0.407 | SVGP | -14,391 | -31,254 | -40,487 | -28,710 | 45% |\n",
    "| [M2](#M2) | λ(t) = β(t)S(t)I(t) = f(t)S(t)I(t) | Gaussian | product: SE $\\times$ L $\\times$ RQ | - | - | - | - | - | - | SVGP | - | - | - | - | - |\n",
    "| [M3](#M3) | λ(t) = f(S(t)I(t)) | Gaussian | product: SE $\\times$ L $\\times$ RQ | 15 | 0.151 | 1.606 | 0.95 | 0.001 | 4.896 | SVGP | -31,211 | -59,416 | -52,855 | -47,827 | 75% |\n",
    "| [M4](#M4) | λ(t) = f(S(t)I(t) + Mobility Variables) | Gaussian | product: SE $\\times$ L $\\times$ RQ | 15 | 0.176 | 0.519 | 0.88 | 0.016 | 0.153 | SVGP | -7,609 | -670 | 7,497 | -261 | 1% |\n",
    "| [M5](#M5) | λ(t) = f(S(t)I(t) + Mobility Variables 7-day Smoothed) | Gaussian | product: SE $\\times$ L $\\times$ RQ | 15 | 0.182 | 0.544 | 0.90 | 0.011 | 0.182 | SVGP | -4,447 | 2,638 | 11,407 | 3,199 | 6% |\n",
    "| [M6](#M6) | λ(t) = f(S(t)I(t) + WORK + OTHER) | Gaussian | product: SE $\\times$ L $\\times$ RQ | 15 | 0.196 | 0.490 | 0.87 | 0.013 | 0.174 | SVGP | -7,528 | -260 | 7,531 | 85 | <1% |\n",
    "| [M7](#M7) | λ(t) = f(S(t)I(t) + HOME) | Gaussian | product: SE $\\times$ L $\\times$ RQ | 15 | 0.196 | 1.319 | 0.89 | 0.174 | 0.378 | SVGP | 5,984 | 20,201 | 34,247 | 20,144 | 33% |\n",
    "| [M9](#M9) | λ(t) = f(Mobility Variables) | Gaussian | product: SE $\\times$ L $\\times$ RQ | 15 | 0.285 | 1.677 | 0.77 | 0.016 | 0.010 | SVGP | -28,243 | -32,644 | -33,652 | -31,513 | 49% |\n",
    "| [M10](#M10) | γ(t) = f(I(t) + HOME) | Gaussian | product: SE $\\times$ L $\\times$ RQ | 15 | 0.142 | 3.635 | 0.27 | 0.001 | 0.382 | SVGP | 17,471 | -70,190 | 26,286 | -8,811 | - |\n",
    "| [M11](#M11) | γ(t) = f(I(t) + WORK + OTHER) | Gaussian | product: SE $\\times$ L $\\times$ RQ | 15 | 0.142 | 2.712 | 0.28 | 0.001 | 0.007 | SVGP | -5,835 | -105,370 | -17,217 | -42,807 | - |\n",
    "| [M8](#M8) | λ(t) = f(S(t)I(t) + WORK + OTHER) | Gaussian | product: SE $\\times$ L $\\times$ RQ | 15 | 0.240 | 0.989 | 0.74 | 0.043 | 0.123 | Multi-output SVGP (α) | -17,079 | -18,904 | 18,446 | 18,143 | 28% |\n",
    "| [M8](#M8) | γ(t) = f(I(t) + HOME) | Gaussian | product: SE $\\times$ L $\\times$ RQ | 15 | 0.154 | 2.70 | 0.2 | 0.005 | 0.009 | Multi-output SVGP (β) | -274 | 99,692 | 11,598 | 37,188 | - |\n"
   ]
  },
  {
   "cell_type": "markdown",
   "metadata": {},
   "source": [
    "Negative values in the 4 forecast columns indicate that our model underestimates the actual daily cases; positive values indicate that the model overestimate the actual results.\n",
    "\n",
    "1. forecast using dates 2020-07-07 to 2020-07-13\n",
    "2. forecast using dates 2020-07-14 to 2020-07-20\n",
    "3. forecast using dates 2020-07-21 to 2020-07-27\n",
    "4. forecast using whole test set 2020-07-07 to 2020-07-27\n",
    "5. forecast ratio for the whole test set = mean(frc diff/daily cases)"
   ]
  },
  {
   "cell_type": "markdown",
   "metadata": {},
   "source": [
    "## Load Datasets US <a id='load_data'></a>"
   ]
  },
  {
   "cell_type": "markdown",
   "metadata": {},
   "source": [
    "The second data come from microsoft [link](https://github.com/microsoft/Bing-COVID-19-Data). This set includes recovered, so we can calculate the number of infected, recovered and susceptible as a function of time. "
   ]
  },
  {
   "cell_type": "code",
   "execution_count": 4,
   "metadata": {},
   "outputs": [
    {
     "name": "stderr",
     "output_type": "stream",
     "text": [
      "c:\\programdata\\anaconda3\\envs\\hyperion\\lib\\site-packages\\IPython\\core\\interactiveshell.py:3146: DtypeWarning: Columns (4) have mixed types.Specify dtype option on import or set low_memory=False.\n",
      "  interactivity=interactivity, compiler=compiler, result=result)\n"
     ]
    }
   ],
   "source": [
    "mobility_data = pd.read_csv(\"./Data/Google/Global_Mobility_Report.csv\", encoding = \"ISO-8859-1\")\n",
    "mobility_data[\"date\"] = pd.to_datetime(mobility_data[\"date\"], format='%d/%m/%Y')"
   ]
  },
  {
   "cell_type": "code",
   "execution_count": 5,
   "metadata": {},
   "outputs": [],
   "source": [
    "# COVID Cases from Microsoft, includes Recovered and Infected\n",
    "ms_covid = pd.read_csv(\"./Data/Microsoft/COVID_CASES.csv\", encoding = \"ISO-8859-1\")\n",
    "ms_covid[\"Updated\"] = pd.to_datetime(ms_covid[\"Updated\"], format='%m/%d/%Y')\n",
    "ms_covid = ms_covid[(ms_covid.Country_Region==\"United States\") & (ms_covid.AdminRegion1.isnull())]\n",
    "ms_covid = ms_covid.loc[:,[\"Updated\", \"Confirmed\", \"ConfirmedChange\", \"Deaths\", \"DeathsChange\", \"Recovered\", \"RecoveredChange\"]]"
   ]
  },
  {
   "cell_type": "markdown",
   "metadata": {},
   "source": [
    "Is the computation of the three states correct?\n",
    "\n",
    "I = {Cumulative Confirmed (cases) - Cumulative Deaths - Cumulative Recovered}\n",
    "\n",
    "S = 328mil (US pop) - I"
   ]
  },
  {
   "cell_type": "code",
   "execution_count": 6,
   "metadata": {},
   "outputs": [],
   "source": [
    "# Create the 3 categories S, I, R for US data (UK does not include R)\n",
    "ms_covid[\"I\"] = ms_covid[\"Confirmed\"] - ms_covid[\"Deaths\"] - ms_covid[\"Recovered\"]\n",
    "\n",
    "ms_covid[\"S\"] = 328000000 - ms_covid[\"I\"]\n",
    "\n",
    "# Create a time variable\n",
    "# If we have a weekend then assign 0 or weekday 1\n",
    "ms_covid[\"Date_number\"] = ms_covid.Updated.dt.dayofyear - 20\n",
    "ms_covid[\"WEEKDAY\"] = 0\n",
    "ms_covid.loc[ms_covid.Updated.dt.dayofweek < 5, \"WEEKDAY\"] = 1\n",
    "ms_covid[\"WEEKDAY\"] = ms_covid[\"WEEKDAY\"]"
   ]
  },
  {
   "cell_type": "code",
   "execution_count": 7,
   "metadata": {},
   "outputs": [],
   "source": [
    "# drop the last value because it looks wrong\n",
    "ms_covid = ms_covid[:-1].copy()"
   ]
  },
  {
   "cell_type": "code",
   "execution_count": 8,
   "metadata": {},
   "outputs": [
    {
     "data": {
      "text/plain": [
       "Updated            datetime64[ns]\n",
       "Confirmed                 float64\n",
       "ConfirmedChange           float64\n",
       "Deaths                    float64\n",
       "DeathsChange              float64\n",
       "Recovered                 float64\n",
       "RecoveredChange           float64\n",
       "I                         float64\n",
       "S                         float64\n",
       "Date_number               float64\n",
       "WEEKDAY                   float64\n",
       "dtype: object"
      ]
     },
     "execution_count": 8,
     "metadata": {},
     "output_type": "execute_result"
    }
   ],
   "source": [
    "# US\n",
    "ms_covid[\"Confirmed\"] = ms_covid[\"Confirmed\"].astype(\"float64\")\n",
    "ms_covid[\"Date_number\"] = ms_covid[\"Date_number\"].astype(\"float64\")\n",
    "ms_covid[\"WEEKDAY\"] = ms_covid[\"WEEKDAY\"].astype(\"float64\")\n",
    "ms_covid.dtypes"
   ]
  },
  {
   "cell_type": "code",
   "execution_count": 9,
   "metadata": {},
   "outputs": [
    {
     "data": {
      "text/plain": [
       "country_region_code                                           object\n",
       "country_region                                                object\n",
       "sub_region_1                                                  object\n",
       "sub_region_2                                                  object\n",
       "metro_area                                                    object\n",
       "iso_3166_2_code                                               object\n",
       "census_fips_code                                             float64\n",
       "date                                                  datetime64[ns]\n",
       "retail_and_recreation_percent_change_from_baseline           float64\n",
       "grocery_and_pharmacy_percent_change_from_baseline            float64\n",
       "parks_percent_change_from_baseline                           float64\n",
       "transit_stations_percent_change_from_baseline                float64\n",
       "workplaces_percent_change_from_baseline                      float64\n",
       "residential_percent_change_from_baseline                     float64\n",
       "dtype: object"
      ]
     },
     "execution_count": 9,
     "metadata": {},
     "output_type": "execute_result"
    }
   ],
   "source": [
    "mobility_data.dtypes"
   ]
  },
  {
   "cell_type": "code",
   "execution_count": null,
   "metadata": {},
   "outputs": [],
   "source": [
    "plt.plot(ms_covid.ConfirmedChange)"
   ]
  },
  {
   "cell_type": "code",
   "execution_count": null,
   "metadata": {},
   "outputs": [],
   "source": [
    "plt.plot(ms_covid.RecoveredChange.clip(0, 60000))"
   ]
  },
  {
   "cell_type": "code",
   "execution_count": null,
   "metadata": {},
   "outputs": [],
   "source": [
    "plt.plot(ms_covid.DeathsChange)"
   ]
  },
  {
   "cell_type": "markdown",
   "metadata": {},
   "source": [
    "[Back to Top](#top)"
   ]
  },
  {
   "cell_type": "markdown",
   "metadata": {},
   "source": [
    "# Explore the Google Mobility Dataset <a id='mobility'></a>"
   ]
  },
  {
   "cell_type": "markdown",
   "metadata": {},
   "source": [
    "From the Google Mobility data we keep only the general UK cases. We do not go down to LAD (lower administrative level)."
   ]
  },
  {
   "cell_type": "markdown",
   "metadata": {},
   "source": [
    "We do the same for the US cases"
   ]
  },
  {
   "cell_type": "code",
   "execution_count": 10,
   "metadata": {},
   "outputs": [
    {
     "data": {
      "text/plain": [
       "Index(['date', 'retail_and_recreation_percent_change_from_baseline',\n",
       "       'grocery_and_pharmacy_percent_change_from_baseline',\n",
       "       'parks_percent_change_from_baseline',\n",
       "       'transit_stations_percent_change_from_baseline',\n",
       "       'workplaces_percent_change_from_baseline',\n",
       "       'residential_percent_change_from_baseline'],\n",
       "      dtype='object')"
      ]
     },
     "execution_count": 10,
     "metadata": {},
     "output_type": "execute_result"
    }
   ],
   "source": [
    "mobility_data_us = mobility_data[(mobility_data.country_region==\"United States\") & (mobility_data.sub_region_1.isnull())]\n",
    "mobility_data_us = mobility_data_us.iloc[:,7:].reset_index(drop=True) # keep only relevant columns\n",
    "mobility_data_us.columns"
   ]
  },
  {
   "cell_type": "code",
   "execution_count": 11,
   "metadata": {},
   "outputs": [],
   "source": [
    "# transform the data to pct change\n",
    "mobility_data_us[mobility_data_us.columns[1:]] = mobility_data_us[mobility_data_us.columns[1:]].apply(lambda x: x/100 + 1)"
   ]
  },
  {
   "cell_type": "code",
   "execution_count": 12,
   "metadata": {},
   "outputs": [],
   "source": [
    "data_us = pd.DataFrame(mobility_data_us[\"date\"])"
   ]
  },
  {
   "cell_type": "markdown",
   "metadata": {},
   "source": [
    "Merge the Google mobility data to HOME, WORK, and OTHER, with the OTHER to include parks, transit, retail and grocery. "
   ]
  },
  {
   "cell_type": "code",
   "execution_count": 13,
   "metadata": {},
   "outputs": [],
   "source": [
    "data_us[\"HOME\"] = mobility_data_us['residential_percent_change_from_baseline'].copy()\n",
    "data_us[\"WORK\"] = mobility_data_us['workplaces_percent_change_from_baseline'].copy()\n",
    "data_us[\"OTHER\"] = mobility_data_us.iloc[:,1:5].mean(axis=1)"
   ]
  },
  {
   "cell_type": "markdown",
   "metadata": {},
   "source": [
    "[Back to Top](#top)"
   ]
  },
  {
   "cell_type": "markdown",
   "metadata": {},
   "source": [
    "# Merge the Datasets <a id='merge'></a>"
   ]
  },
  {
   "cell_type": "code",
   "execution_count": null,
   "metadata": {},
   "outputs": [],
   "source": [
    "ms_covid.dtypes"
   ]
  },
  {
   "cell_type": "code",
   "execution_count": null,
   "metadata": {},
   "outputs": [],
   "source": [
    "data_us.dtypes"
   ]
  },
  {
   "cell_type": "markdown",
   "metadata": {},
   "source": [
    "Merge the two datasets, the MS covid US and the Google mobility by date"
   ]
  },
  {
   "cell_type": "code",
   "execution_count": 14,
   "metadata": {},
   "outputs": [],
   "source": [
    "final_data_us = ms_covid.merge(data_us, how='left', left_on='Updated', right_on='date') \n",
    "final_data_us.drop([\"date\"], axis=1, inplace=True)"
   ]
  },
  {
   "cell_type": "code",
   "execution_count": 15,
   "metadata": {},
   "outputs": [],
   "source": [
    "# Clear NA rows\n",
    "final_data_us = final_data_us.iloc[28:188,:].copy()"
   ]
  },
  {
   "cell_type": "code",
   "execution_count": null,
   "metadata": {},
   "outputs": [],
   "source": [
    "final_data_us.dtypes"
   ]
  },
  {
   "cell_type": "code",
   "execution_count": null,
   "metadata": {},
   "outputs": [],
   "source": [
    "g = sns.PairGrid(final_data_us[[\"ConfirmedChange\", \"HOME\", \"WORK\", \"OTHER\"]], diag_sharey=False)\n",
    "g.map_upper(sns.scatterplot)\n",
    "g.map_lower(sns.kdeplot, colors=\"C0\")\n",
    "g.map_diag(sns.kdeplot, lw=2) "
   ]
  },
  {
   "cell_type": "code",
   "execution_count": null,
   "metadata": {},
   "outputs": [],
   "source": [
    "sns.heatmap(final_data_us[[\"ConfirmedChange\", \"HOME\", \"WORK\", \"OTHER\"]].corr(), annot=True) "
   ]
  },
  {
   "cell_type": "markdown",
   "metadata": {},
   "source": [
    "[Back to Top](#top)"
   ]
  },
  {
   "cell_type": "markdown",
   "metadata": {},
   "source": [
    "## Create Dataset for Training <a id='training'></a>"
   ]
  },
  {
   "cell_type": "code",
   "execution_count": 16,
   "metadata": {},
   "outputs": [
    {
     "data": {
      "text/plain": [
       "Updated            datetime64[ns]\n",
       "Confirmed                 float64\n",
       "ConfirmedChange           float64\n",
       "Deaths                    float64\n",
       "DeathsChange              float64\n",
       "Recovered                 float64\n",
       "RecoveredChange           float64\n",
       "I                         float64\n",
       "S                         float64\n",
       "Date_number               float64\n",
       "WEEKDAY                   float64\n",
       "HOME                      float64\n",
       "WORK                      float64\n",
       "OTHER                     float64\n",
       "SI                        float64\n",
       "dtype: object"
      ]
     },
     "execution_count": 16,
     "metadata": {},
     "output_type": "execute_result"
    }
   ],
   "source": [
    "final_data_us[\"SI\"] = final_data_us.S*final_data_us.I\n",
    "\n",
    "final_data_us.dtypes"
   ]
  },
  {
   "cell_type": "code",
   "execution_count": 17,
   "metadata": {},
   "outputs": [
    {
     "data": {
      "text/html": [
       "<div>\n",
       "<style scoped>\n",
       "    .dataframe tbody tr th:only-of-type {\n",
       "        vertical-align: middle;\n",
       "    }\n",
       "\n",
       "    .dataframe tbody tr th {\n",
       "        vertical-align: top;\n",
       "    }\n",
       "\n",
       "    .dataframe thead th {\n",
       "        text-align: right;\n",
       "    }\n",
       "</style>\n",
       "<table border=\"1\" class=\"dataframe\">\n",
       "  <thead>\n",
       "    <tr style=\"text-align: right;\">\n",
       "      <th></th>\n",
       "      <th>Updated</th>\n",
       "      <th>Confirmed</th>\n",
       "      <th>ConfirmedChange</th>\n",
       "      <th>Deaths</th>\n",
       "      <th>DeathsChange</th>\n",
       "      <th>Recovered</th>\n",
       "      <th>RecoveredChange</th>\n",
       "      <th>I</th>\n",
       "      <th>S</th>\n",
       "      <th>Date_number</th>\n",
       "      <th>WEEKDAY</th>\n",
       "      <th>HOME</th>\n",
       "      <th>WORK</th>\n",
       "      <th>OTHER</th>\n",
       "      <th>SI</th>\n",
       "    </tr>\n",
       "  </thead>\n",
       "  <tbody>\n",
       "    <tr>\n",
       "      <th>0</th>\n",
       "      <td>2020-02-19</td>\n",
       "      <td>24.0</td>\n",
       "      <td>3.0</td>\n",
       "      <td>2.0</td>\n",
       "      <td>0.0</td>\n",
       "      <td>3.0</td>\n",
       "      <td>0.0</td>\n",
       "      <td>19.0</td>\n",
       "      <td>327999981.0</td>\n",
       "      <td>30.0</td>\n",
       "      <td>1.0</td>\n",
       "      <td>1.00</td>\n",
       "      <td>1.01</td>\n",
       "      <td>1.0275</td>\n",
       "      <td>6.232000e+09</td>\n",
       "    </tr>\n",
       "    <tr>\n",
       "      <th>1</th>\n",
       "      <td>2020-02-20</td>\n",
       "      <td>27.0</td>\n",
       "      <td>3.0</td>\n",
       "      <td>2.0</td>\n",
       "      <td>0.0</td>\n",
       "      <td>3.0</td>\n",
       "      <td>0.0</td>\n",
       "      <td>22.0</td>\n",
       "      <td>327999978.0</td>\n",
       "      <td>31.0</td>\n",
       "      <td>1.0</td>\n",
       "      <td>1.01</td>\n",
       "      <td>1.00</td>\n",
       "      <td>1.0125</td>\n",
       "      <td>7.216000e+09</td>\n",
       "    </tr>\n",
       "    <tr>\n",
       "      <th>2</th>\n",
       "      <td>2020-02-21</td>\n",
       "      <td>31.0</td>\n",
       "      <td>4.0</td>\n",
       "      <td>2.0</td>\n",
       "      <td>0.0</td>\n",
       "      <td>6.0</td>\n",
       "      <td>3.0</td>\n",
       "      <td>23.0</td>\n",
       "      <td>327999977.0</td>\n",
       "      <td>32.0</td>\n",
       "      <td>1.0</td>\n",
       "      <td>1.00</td>\n",
       "      <td>1.00</td>\n",
       "      <td>1.0125</td>\n",
       "      <td>7.543999e+09</td>\n",
       "    </tr>\n",
       "    <tr>\n",
       "      <th>3</th>\n",
       "      <td>2020-02-22</td>\n",
       "      <td>35.0</td>\n",
       "      <td>4.0</td>\n",
       "      <td>2.0</td>\n",
       "      <td>0.0</td>\n",
       "      <td>6.0</td>\n",
       "      <td>0.0</td>\n",
       "      <td>27.0</td>\n",
       "      <td>327999973.0</td>\n",
       "      <td>33.0</td>\n",
       "      <td>0.0</td>\n",
       "      <td>0.99</td>\n",
       "      <td>1.04</td>\n",
       "      <td>1.0950</td>\n",
       "      <td>8.855999e+09</td>\n",
       "    </tr>\n",
       "    <tr>\n",
       "      <th>4</th>\n",
       "      <td>2020-02-23</td>\n",
       "      <td>35.0</td>\n",
       "      <td>0.0</td>\n",
       "      <td>2.0</td>\n",
       "      <td>0.0</td>\n",
       "      <td>6.0</td>\n",
       "      <td>0.0</td>\n",
       "      <td>27.0</td>\n",
       "      <td>327999973.0</td>\n",
       "      <td>34.0</td>\n",
       "      <td>0.0</td>\n",
       "      <td>0.99</td>\n",
       "      <td>1.02</td>\n",
       "      <td>1.0950</td>\n",
       "      <td>8.855999e+09</td>\n",
       "    </tr>\n",
       "    <tr>\n",
       "      <th>...</th>\n",
       "      <td>...</td>\n",
       "      <td>...</td>\n",
       "      <td>...</td>\n",
       "      <td>...</td>\n",
       "      <td>...</td>\n",
       "      <td>...</td>\n",
       "      <td>...</td>\n",
       "      <td>...</td>\n",
       "      <td>...</td>\n",
       "      <td>...</td>\n",
       "      <td>...</td>\n",
       "      <td>...</td>\n",
       "      <td>...</td>\n",
       "      <td>...</td>\n",
       "      <td>...</td>\n",
       "    </tr>\n",
       "    <tr>\n",
       "      <th>155</th>\n",
       "      <td>2020-07-23</td>\n",
       "      <td>3973169.0</td>\n",
       "      <td>70719.0</td>\n",
       "      <td>133151.0</td>\n",
       "      <td>1082.0</td>\n",
       "      <td>1226670.0</td>\n",
       "      <td>40913.0</td>\n",
       "      <td>2613348.0</td>\n",
       "      <td>325386652.0</td>\n",
       "      <td>185.0</td>\n",
       "      <td>1.0</td>\n",
       "      <td>1.11</td>\n",
       "      <td>0.63</td>\n",
       "      <td>1.0200</td>\n",
       "      <td>8.503486e+14</td>\n",
       "    </tr>\n",
       "    <tr>\n",
       "      <th>156</th>\n",
       "      <td>2020-07-24</td>\n",
       "      <td>4047529.0</td>\n",
       "      <td>74360.0</td>\n",
       "      <td>134301.0</td>\n",
       "      <td>1150.0</td>\n",
       "      <td>1252170.0</td>\n",
       "      <td>25500.0</td>\n",
       "      <td>2661058.0</td>\n",
       "      <td>325338942.0</td>\n",
       "      <td>186.0</td>\n",
       "      <td>1.0</td>\n",
       "      <td>1.11</td>\n",
       "      <td>0.63</td>\n",
       "      <td>1.0100</td>\n",
       "      <td>8.657458e+14</td>\n",
       "    </tr>\n",
       "    <tr>\n",
       "      <th>157</th>\n",
       "      <td>2020-07-25</td>\n",
       "      <td>4113473.0</td>\n",
       "      <td>65944.0</td>\n",
       "      <td>135286.0</td>\n",
       "      <td>985.0</td>\n",
       "      <td>1277437.0</td>\n",
       "      <td>25267.0</td>\n",
       "      <td>2700750.0</td>\n",
       "      <td>325299250.0</td>\n",
       "      <td>187.0</td>\n",
       "      <td>0.0</td>\n",
       "      <td>1.04</td>\n",
       "      <td>0.87</td>\n",
       "      <td>1.0875</td>\n",
       "      <td>8.785519e+14</td>\n",
       "    </tr>\n",
       "    <tr>\n",
       "      <th>158</th>\n",
       "      <td>2020-07-26</td>\n",
       "      <td>4172104.0</td>\n",
       "      <td>58631.0</td>\n",
       "      <td>135838.0</td>\n",
       "      <td>552.0</td>\n",
       "      <td>1296612.0</td>\n",
       "      <td>19175.0</td>\n",
       "      <td>2739654.0</td>\n",
       "      <td>325260346.0</td>\n",
       "      <td>188.0</td>\n",
       "      <td>0.0</td>\n",
       "      <td>1.03</td>\n",
       "      <td>0.84</td>\n",
       "      <td>1.0475</td>\n",
       "      <td>8.911008e+14</td>\n",
       "    </tr>\n",
       "    <tr>\n",
       "      <th>159</th>\n",
       "      <td>2020-07-27</td>\n",
       "      <td>4226910.0</td>\n",
       "      <td>54806.0</td>\n",
       "      <td>136917.0</td>\n",
       "      <td>1079.0</td>\n",
       "      <td>1308646.0</td>\n",
       "      <td>12034.0</td>\n",
       "      <td>2781347.0</td>\n",
       "      <td>325218653.0</td>\n",
       "      <td>189.0</td>\n",
       "      <td>1.0</td>\n",
       "      <td>1.10</td>\n",
       "      <td>0.62</td>\n",
       "      <td>0.9950</td>\n",
       "      <td>9.045459e+14</td>\n",
       "    </tr>\n",
       "  </tbody>\n",
       "</table>\n",
       "<p>160 rows × 15 columns</p>\n",
       "</div>"
      ],
      "text/plain": [
       "       Updated  Confirmed  ConfirmedChange    Deaths  DeathsChange  Recovered  \\\n",
       "0   2020-02-19       24.0              3.0       2.0           0.0        3.0   \n",
       "1   2020-02-20       27.0              3.0       2.0           0.0        3.0   \n",
       "2   2020-02-21       31.0              4.0       2.0           0.0        6.0   \n",
       "3   2020-02-22       35.0              4.0       2.0           0.0        6.0   \n",
       "4   2020-02-23       35.0              0.0       2.0           0.0        6.0   \n",
       "..         ...        ...              ...       ...           ...        ...   \n",
       "155 2020-07-23  3973169.0          70719.0  133151.0        1082.0  1226670.0   \n",
       "156 2020-07-24  4047529.0          74360.0  134301.0        1150.0  1252170.0   \n",
       "157 2020-07-25  4113473.0          65944.0  135286.0         985.0  1277437.0   \n",
       "158 2020-07-26  4172104.0          58631.0  135838.0         552.0  1296612.0   \n",
       "159 2020-07-27  4226910.0          54806.0  136917.0        1079.0  1308646.0   \n",
       "\n",
       "     RecoveredChange          I            S  Date_number  WEEKDAY  HOME  \\\n",
       "0                0.0       19.0  327999981.0         30.0      1.0  1.00   \n",
       "1                0.0       22.0  327999978.0         31.0      1.0  1.01   \n",
       "2                3.0       23.0  327999977.0         32.0      1.0  1.00   \n",
       "3                0.0       27.0  327999973.0         33.0      0.0  0.99   \n",
       "4                0.0       27.0  327999973.0         34.0      0.0  0.99   \n",
       "..               ...        ...          ...          ...      ...   ...   \n",
       "155          40913.0  2613348.0  325386652.0        185.0      1.0  1.11   \n",
       "156          25500.0  2661058.0  325338942.0        186.0      1.0  1.11   \n",
       "157          25267.0  2700750.0  325299250.0        187.0      0.0  1.04   \n",
       "158          19175.0  2739654.0  325260346.0        188.0      0.0  1.03   \n",
       "159          12034.0  2781347.0  325218653.0        189.0      1.0  1.10   \n",
       "\n",
       "     WORK   OTHER            SI  \n",
       "0    1.01  1.0275  6.232000e+09  \n",
       "1    1.00  1.0125  7.216000e+09  \n",
       "2    1.00  1.0125  7.543999e+09  \n",
       "3    1.04  1.0950  8.855999e+09  \n",
       "4    1.02  1.0950  8.855999e+09  \n",
       "..    ...     ...           ...  \n",
       "155  0.63  1.0200  8.503486e+14  \n",
       "156  0.63  1.0100  8.657458e+14  \n",
       "157  0.87  1.0875  8.785519e+14  \n",
       "158  0.84  1.0475  8.911008e+14  \n",
       "159  0.62  0.9950  9.045459e+14  \n",
       "\n",
       "[160 rows x 15 columns]"
      ]
     },
     "execution_count": 17,
     "metadata": {},
     "output_type": "execute_result"
    }
   ],
   "source": [
    "final_data_us.reset_index(drop=True, inplace=True)\n",
    "\n",
    "final_data_us"
   ]
  },
  {
   "cell_type": "markdown",
   "metadata": {},
   "source": [
    "[Back to Top](#top)"
   ]
  },
  {
   "cell_type": "markdown",
   "metadata": {},
   "source": [
    "## Kernel and Mobility Data <a id='kernel'></a>"
   ]
  },
  {
   "cell_type": "code",
   "execution_count": null,
   "metadata": {},
   "outputs": [],
   "source": [
    "final_data_us[[\"HOME\", \"WORK\", \"OTHER\"]].plot(figsize=(10,6))\n",
    "final_data_us[[\"HOME\", \"WORK\", \"OTHER\"]].rolling(7).mean().plot(figsize=(10,6))"
   ]
  },
  {
   "cell_type": "markdown",
   "metadata": {},
   "source": [
    "There is a clear pattern during the weekends, HOME mobility tends to normalise during the weekends, falling back to the benchmark value. Whereas, in the weekdays we see that mobility has increased during lockdown. \n",
    "\n",
    "The opposite stands for the work, whereas OTHER is less clear. \n",
    "\n",
    "Maybe if we use a moving average will be better. See how a MA affects the kernel"
   ]
  },
  {
   "cell_type": "code",
   "execution_count": null,
   "metadata": {},
   "outputs": [],
   "source": [
    "final_data_us.loc[:, final_data_us.columns.isin([\"HOME\", \"WORK\", \"OTHER\"])].rolling(7).mean().fillna(1)"
   ]
  },
  {
   "cell_type": "code",
   "execution_count": null,
   "metadata": {},
   "outputs": [],
   "source": [
    "### Original Mobility Data Kernels"
   ]
  },
  {
   "cell_type": "code",
   "execution_count": null,
   "metadata": {},
   "outputs": [],
   "source": [
    "def plotkernels(kernel, data, ax, ma=False, xmin=-3, xmax=3, cov=False):\n",
    "    data = data.copy()\n",
    "    if ma==True:\n",
    "        data_ma = data.loc[:, data.columns.isin([\"HOME\", \"WORK\", \"OTHER\"])].rolling(7).mean().fillna(1)\n",
    "        data.loc[:, data_ma.columns] = data_ma.copy()\n",
    "        \n",
    "    if data.shape[1]>1:\n",
    "        data = data.to_numpy()\n",
    "    else:\n",
    "        data = data.to_numpy().reshape((-1, 1))\n",
    "        \n",
    "\n",
    "    \n",
    "    data = (data - data.mean(axis=0))/data.std(axis=0)\n",
    "    \n",
    "    K = kernel(data)\n",
    "    if cov==False:\n",
    "        # Show samples from the GP prior with Kernel K\n",
    "        ax.plot(np.mean(np.random.multivariate_normal(np.zeros(data.shape[0]), K, 100).T, axis=1))\n",
    "    else:\n",
    "        # Show the covariance matrix of Kernel K\n",
    "        ax.imshow(K)\n",
    "    ax.set_title(kernel.__class__.__name__)"
   ]
  },
  {
   "cell_type": "code",
   "execution_count": null,
   "metadata": {},
   "outputs": [],
   "source": [
    "SE = gpflow.kernels.SquaredExponential()\n",
    "LIN = gpflow.kernels.Linear()\n",
    "RQ = gpflow.kernels.RationalQuadratic()\n",
    "k = SE*LIN*RQ\n",
    "\n",
    "np.random.seed(1234)\n",
    "f, axes = plt.subplots(2, 4, figsize=(12, 6), sharex=True, sharey=True)\n",
    "plotkernels(gpflow.kernels.Matern12(), final_data_us[[\"HOME\"]], ma=True, ax=axes[0, 0])\n",
    "plotkernels(gpflow.kernels.Matern32(), final_data_us[[\"HOME\"]], ma=True, ax=axes[0, 1])\n",
    "plotkernels(gpflow.kernels.Matern52(), final_data_us[[\"HOME\"]], ma=True, ax=axes[0, 2])\n",
    "plotkernels(gpflow.kernels.RBF(), final_data_us[[\"HOME\"]], ma=True, ax=axes[0, 3])\n",
    "plotkernels(gpflow.kernels.Cosine(), final_data_us[[\"HOME\"]], ma=True, ax=axes[1, 0])\n",
    "plotkernels(gpflow.kernels.Linear(), final_data_us[[\"HOME\"]], ma=True, ax=axes[1, 1])\n",
    "plotkernels(gpflow.kernels.RationalQuadratic(), final_data_us[[\"HOME\"]], ma=True, ax=axes[1, 2])\n",
    "plotkernels(k, final_data_us[[\"HOME\"]], ma=True, ax=axes[1, 3])\n",
    "\n",
    "np.random.seed(1234)\n",
    "f, axes = plt.subplots(2, 4, figsize=(12, 6), sharex=True, sharey=True)\n",
    "plotkernels(gpflow.kernels.Matern12(), final_data_us[[\"HOME\"]], ma=True, ax=axes[0, 0], cov=True)\n",
    "plotkernels(gpflow.kernels.Matern32(), final_data_us[[\"HOME\"]], ma=True, ax=axes[0, 1], cov=True)\n",
    "plotkernels(gpflow.kernels.Matern52(), final_data_us[[\"HOME\"]], ma=True, ax=axes[0, 2], cov=True)\n",
    "plotkernels(gpflow.kernels.RBF(), final_data_us[[\"HOME\"]], ma=True, ax=axes[0, 3], cov=True)\n",
    "plotkernels(gpflow.kernels.Cosine(), final_data_us[[\"HOME\"]], ma=True, ax=axes[1, 0], cov=True)\n",
    "plotkernels(gpflow.kernels.Linear(), final_data_us[[\"HOME\"]], ma=True, ax=axes[1, 1], cov=True)\n",
    "plotkernels(gpflow.kernels.RationalQuadratic(), final_data_us[[\"HOME\"]], ma=True, ax=axes[1, 2], cov=True)\n",
    "plotkernels(k, final_data_us[[\"HOME\"]], ma=True, ax=axes[1, 3], cov=True)\n"
   ]
  },
  {
   "cell_type": "code",
   "execution_count": null,
   "metadata": {},
   "outputs": [],
   "source": [
    "np.random.seed(1234)\n",
    "f, axes = plt.subplots(2, 4, figsize=(12, 6), sharex=True, sharey=True)\n",
    "plotkernels(gpflow.kernels.Matern12(), final_data_us[[\"OTHER\"]], ma=True, ax=axes[0, 0])\n",
    "plotkernels(gpflow.kernels.Matern32(), final_data_us[[\"OTHER\"]], ma=True, ax=axes[0, 1])\n",
    "plotkernels(gpflow.kernels.Matern52(), final_data_us[[\"OTHER\"]], ma=True, ax=axes[0, 2])\n",
    "plotkernels(gpflow.kernels.RBF(), final_data_us[[\"OTHER\"]], ma=True, ax=axes[0, 3])\n",
    "plotkernels(gpflow.kernels.Cosine(), final_data_us[[\"OTHER\"]], ma=True, ax=axes[1, 0])\n",
    "plotkernels(gpflow.kernels.Linear(), final_data_us[[\"OTHER\"]], ma=True, ax=axes[1, 1])\n",
    "plotkernels(gpflow.kernels.RationalQuadratic(), final_data_us[[\"OTHER\"]], ma=True, ax=axes[1, 2])\n",
    "plotkernels(k, final_data_us[[\"OTHER\"]], ma=True, ax=axes[1, 3])\n",
    "\n",
    "np.random.seed(1234)\n",
    "f, axes = plt.subplots(2, 4, figsize=(12, 6), sharex=True, sharey=True)\n",
    "plotkernels(gpflow.kernels.Matern12(), final_data_us[[\"OTHER\"]], ma=True, ax=axes[0, 0], cov=True)\n",
    "plotkernels(gpflow.kernels.Matern32(), final_data_us[[\"OTHER\"]], ma=True, ax=axes[0, 1], cov=True)\n",
    "plotkernels(gpflow.kernels.Matern52(), final_data_us[[\"OTHER\"]], ma=True, ax=axes[0, 2], cov=True)\n",
    "plotkernels(gpflow.kernels.RBF(), final_data_us[[\"OTHER\"]], ma=True, ax=axes[0, 3], cov=True)\n",
    "plotkernels(gpflow.kernels.Cosine(), final_data_us[[\"OTHER\"]], ma=True, ax=axes[1, 0], cov=True)\n",
    "plotkernels(gpflow.kernels.Linear(), final_data_us[[\"OTHER\"]], ma=True, ax=axes[1, 1], cov=True)\n",
    "plotkernels(gpflow.kernels.RationalQuadratic(), final_data_us[[\"OTHER\"]], ma=True, ax=axes[1, 2], cov=True)\n",
    "plotkernels(k, final_data_us[[\"OTHER\"]], ma=True, ax=axes[1, 3], cov=True)"
   ]
  },
  {
   "cell_type": "code",
   "execution_count": null,
   "metadata": {},
   "outputs": [],
   "source": [
    "np.random.seed(1234)\n",
    "f, axes = plt.subplots(2, 4, figsize=(12, 6), sharex=True, sharey=True)\n",
    "plotkernels(gpflow.kernels.Matern12(), final_data_us[[\"SI\", \"HOME\"]], ma=True, ax=axes[0, 0])\n",
    "plotkernels(gpflow.kernels.Matern32(), final_data_us[[\"SI\", \"HOME\"]], ma=True, ax=axes[0, 1])\n",
    "plotkernels(gpflow.kernels.Matern52(), final_data_us[[\"SI\", \"HOME\"]], ma=True, ax=axes[0, 2])\n",
    "plotkernels(gpflow.kernels.RBF(), final_data_us[[\"SI\", \"HOME\"]], ma=True, ax=axes[0, 3])\n",
    "plotkernels(gpflow.kernels.Cosine(), final_data_us[[\"SI\", \"HOME\"]], ma=True, ax=axes[1, 0])\n",
    "plotkernels(gpflow.kernels.Linear(), final_data_us[[\"SI\", \"HOME\"]], ma=True, ax=axes[1, 1])\n",
    "plotkernels(gpflow.kernels.RationalQuadratic(), final_data_us[[\"SI\", \"HOME\"]], ma=True, ax=axes[1, 2])\n",
    "plotkernels(k, final_data_us[[\"SI\", \"HOME\"]], ma=True, ax=axes[1, 3])\n",
    "\n",
    "np.random.seed(1234)\n",
    "f, axes = plt.subplots(2, 4, figsize=(12, 6), sharex=True, sharey=True)\n",
    "plotkernels(gpflow.kernels.Matern12(), final_data_us[[\"SI\", \"HOME\"]], ma=True, ax=axes[0, 0], cov=True)\n",
    "plotkernels(gpflow.kernels.Matern32(), final_data_us[[\"SI\", \"HOME\"]], ma=True, ax=axes[0, 1], cov=True)\n",
    "plotkernels(gpflow.kernels.Matern52(), final_data_us[[\"SI\", \"HOME\"]], ma=True, ax=axes[0, 2], cov=True)\n",
    "plotkernels(gpflow.kernels.RBF(), final_data_us[[\"SI\", \"HOME\"]], ma=True, ax=axes[0, 3], cov=True)\n",
    "plotkernels(gpflow.kernels.Cosine(), final_data_us[[\"SI\", \"HOME\"]], ma=True, ax=axes[1, 0], cov=True)\n",
    "plotkernels(gpflow.kernels.Linear(), final_data_us[[\"SI\", \"HOME\"]], ma=True, ax=axes[1, 1], cov=True)\n",
    "plotkernels(gpflow.kernels.RationalQuadratic(), final_data_us[[\"SI\", \"HOME\"]], ma=True, ax=axes[1, 2], cov=True)\n",
    "plotkernels(k, final_data_us[[\"SI\", \"HOME\"]], ma=True, ax=axes[1, 3], cov=True)"
   ]
  },
  {
   "cell_type": "code",
   "execution_count": null,
   "metadata": {},
   "outputs": [],
   "source": [
    "np.random.seed(1234)\n",
    "f, axes = plt.subplots(2, 4, figsize=(12, 6), sharex=True, sharey=True)\n",
    "plotkernels(gpflow.kernels.Matern12(), final_data_us[[\"SI\", \"OTHER\"]], ma=True, ax=axes[0, 0])\n",
    "plotkernels(gpflow.kernels.Matern32(), final_data_us[[\"SI\", \"OTHER\"]], ma=True, ax=axes[0, 1])\n",
    "plotkernels(gpflow.kernels.Matern52(), final_data_us[[\"SI\", \"OTHER\"]], ma=True, ax=axes[0, 2])\n",
    "plotkernels(gpflow.kernels.RBF(), final_data_us[[\"SI\", \"OTHER\"]], ma=True, ax=axes[0, 3])\n",
    "plotkernels(gpflow.kernels.Cosine(), final_data_us[[\"SI\", \"OTHER\"]], ma=True, ax=axes[1, 0])\n",
    "plotkernels(gpflow.kernels.Linear(), final_data_us[[\"SI\", \"OTHER\"]], ma=True, ax=axes[1, 1])\n",
    "plotkernels(gpflow.kernels.RationalQuadratic(), final_data_us[[\"SI\", \"OTHER\"]], ma=True, ax=axes[1, 2])\n",
    "plotkernels(k, final_data_us[[\"SI\", \"OTHER\"]], ma=True, ax=axes[1, 3])\n",
    "\n",
    "np.random.seed(1234)\n",
    "f, axes = plt.subplots(2, 4, figsize=(12, 6), sharex=True, sharey=True)\n",
    "plotkernels(gpflow.kernels.Matern12(), final_data_us[[\"SI\", \"OTHER\"]], ma=True, ax=axes[0, 0], cov=True)\n",
    "plotkernels(gpflow.kernels.Matern32(), final_data_us[[\"SI\", \"OTHER\"]], ma=True, ax=axes[0, 1], cov=True)\n",
    "plotkernels(gpflow.kernels.Matern52(), final_data_us[[\"SI\", \"OTHER\"]], ma=True, ax=axes[0, 2], cov=True)\n",
    "plotkernels(gpflow.kernels.RBF(), final_data_us[[\"SI\", \"OTHER\"]], ma=True, ax=axes[0, 3], cov=True)\n",
    "plotkernels(gpflow.kernels.Cosine(), final_data_us[[\"SI\", \"OTHER\"]], ma=True, ax=axes[1, 0], cov=True)\n",
    "plotkernels(gpflow.kernels.Linear(), final_data_us[[\"SI\", \"OTHER\"]], ma=True, ax=axes[1, 1], cov=True)\n",
    "plotkernels(gpflow.kernels.RationalQuadratic(), final_data_us[[\"SI\", \"OTHER\"]], ma=True, ax=axes[1, 2], cov=True)\n",
    "plotkernels(k, final_data_us[[\"SI\", \"OTHER\"]], ma=True, ax=axes[1, 3], cov=True)"
   ]
  },
  {
   "cell_type": "code",
   "execution_count": null,
   "metadata": {},
   "outputs": [],
   "source": [
    "np.random.seed(1234)\n",
    "f, axes = plt.subplots(2, 4, figsize=(12, 6), sharex=True, sharey=True)\n",
    "plotkernels(gpflow.kernels.Matern12(), final_data_us[[\"HOME\", \"WORK\", \"OTHER\"]], ma=True, ax=axes[0, 0])\n",
    "plotkernels(gpflow.kernels.Matern32(), final_data_us[[\"HOME\", \"WORK\", \"OTHER\"]], ma=True, ax=axes[0, 1])\n",
    "plotkernels(gpflow.kernels.Matern52(), final_data_us[[\"HOME\", \"WORK\", \"OTHER\"]], ma=True, ax=axes[0, 2])\n",
    "plotkernels(gpflow.kernels.RBF(), final_data_us[[\"HOME\", \"WORK\", \"OTHER\"]], ma=True, ax=axes[0, 3])\n",
    "plotkernels(gpflow.kernels.Cosine(), final_data_us[[\"HOME\", \"WORK\", \"OTHER\"]], ma=True, ax=axes[1, 0])\n",
    "plotkernels(gpflow.kernels.Linear(), final_data_us[[\"HOME\", \"WORK\", \"OTHER\"]], ma=True, ax=axes[1, 1])\n",
    "plotkernels(gpflow.kernels.RationalQuadratic(), final_data_us[[\"HOME\", \"WORK\", \"OTHER\"]], ma=True, ax=axes[1, 2])\n",
    "plotkernels(k, final_data_us[[\"SI\", \"WORK\", \"OTHER\"]], ma=True, ax=axes[1, 3])\n",
    "\n",
    "np.random.seed(1234)\n",
    "f, axes = plt.subplots(2, 4, figsize=(12, 6), sharex=True, sharey=True)\n",
    "plotkernels(gpflow.kernels.Matern12(), final_data_us[[\"HOME\", \"WORK\", \"OTHER\"]], ma=True, ax=axes[0, 0], cov=True)\n",
    "plotkernels(gpflow.kernels.Matern32(), final_data_us[[\"HOME\", \"WORK\", \"OTHER\"]], ma=True, ax=axes[0, 1], cov=True)\n",
    "plotkernels(gpflow.kernels.Matern52(), final_data_us[[\"HOME\", \"WORK\", \"OTHER\"]], ma=True, ax=axes[0, 2], cov=True)\n",
    "plotkernels(gpflow.kernels.RBF(), final_data_us[[\"HOME\", \"WORK\", \"OTHER\"]], ma=True, ax=axes[0, 3], cov=True)\n",
    "plotkernels(gpflow.kernels.Cosine(), final_data_us[[\"HOME\", \"WORK\", \"OTHER\"]], ma=True, ax=axes[1, 0], cov=True)\n",
    "plotkernels(gpflow.kernels.Linear(), final_data_us[[\"HOME\", \"WORK\", \"OTHER\"]], ma=True, ax=axes[1, 1], cov=True)\n",
    "plotkernels(gpflow.kernels.RationalQuadratic(), final_data_us[[\"HOME\", \"WORK\", \"OTHER\"]], ma=True, ax=axes[1, 2], cov=True)\n",
    "plotkernels(k, final_data_us[[\"SI\", \"WORK\", \"OTHER\"]], ma=True, ax=axes[1, 3], cov=True)"
   ]
  },
  {
   "cell_type": "code",
   "execution_count": null,
   "metadata": {},
   "outputs": [],
   "source": [
    "np.random.seed(1234)\n",
    "f, axes = plt.subplots(2, 4, figsize=(12, 6), sharex=True, sharey=True)\n",
    "plotkernels(gpflow.kernels.Matern12(), final_data_us[[\"SI\", \"HOME\", \"WORK\", \"OTHER\"]], ma=True, ax=axes[0, 0])\n",
    "plotkernels(gpflow.kernels.Matern32(), final_data_us[[\"SI\", \"HOME\", \"WORK\", \"OTHER\"]], ma=True, ax=axes[0, 1])\n",
    "plotkernels(gpflow.kernels.Matern52(), final_data_us[[\"SI\", \"HOME\", \"WORK\", \"OTHER\"]], ma=True, ax=axes[0, 2])\n",
    "plotkernels(gpflow.kernels.RBF(), final_data_us[[\"SI\", \"HOME\", \"WORK\", \"OTHER\"]], ma=True, ax=axes[0, 3])\n",
    "plotkernels(gpflow.kernels.Cosine(), final_data_us[[\"SI\", \"HOME\", \"WORK\", \"OTHER\"]], ma=True, ax=axes[1, 0])\n",
    "plotkernels(gpflow.kernels.Linear(), final_data_us[[\"SI\", \"HOME\", \"WORK\", \"OTHER\"]], ma=True, ax=axes[1, 1])\n",
    "plotkernels(gpflow.kernels.RationalQuadratic(), final_data_us[[\"SI\", \"HOME\", \"WORK\", \"OTHER\"]], ma=True, ax=axes[1, 2])\n",
    "plotkernels(k, final_data_us[[\"SI\", \"HOME\", \"WORK\", \"OTHER\"]], ma=True, ax=axes[1, 3])\n",
    "\n",
    "np.random.seed(1234)\n",
    "f, axes = plt.subplots(2, 4, figsize=(12, 6), sharex=True, sharey=True)\n",
    "plotkernels(gpflow.kernels.Matern12(), final_data_us[[\"SI\", \"HOME\", \"WORK\", \"OTHER\"]], ma=True, ax=axes[0, 0], cov=True)\n",
    "plotkernels(gpflow.kernels.Matern32(), final_data_us[[\"SI\", \"HOME\", \"WORK\", \"OTHER\"]], ma=True, ax=axes[0, 1], cov=True)\n",
    "plotkernels(gpflow.kernels.Matern52(), final_data_us[[\"SI\", \"HOME\", \"WORK\", \"OTHER\"]], ma=True, ax=axes[0, 2], cov=True)\n",
    "plotkernels(gpflow.kernels.RBF(), final_data_us[[\"SI\", \"HOME\", \"WORK\", \"OTHER\"]], ma=True, ax=axes[0, 3], cov=True)\n",
    "plotkernels(gpflow.kernels.Cosine(), final_data_us[[\"SI\", \"HOME\", \"WORK\", \"OTHER\"]], ma=True, ax=axes[1, 0], cov=True)\n",
    "plotkernels(gpflow.kernels.Linear(), final_data_us[[\"SI\", \"HOME\", \"WORK\", \"OTHER\"]], ma=True, ax=axes[1, 1], cov=True)\n",
    "plotkernels(gpflow.kernels.RationalQuadratic(), final_data_us[[\"SI\", \"HOME\", \"WORK\", \"OTHER\"]], ma=True, ax=axes[1, 2], cov=True)\n",
    "plotkernels(k, final_data_us[[\"SI\", \"HOME\", \"WORK\", \"OTHER\"]], ma=True, ax=axes[1, 3], cov=True)"
   ]
  },
  {
   "cell_type": "markdown",
   "metadata": {},
   "source": [
    "[Back to Top](#top)"
   ]
  },
  {
   "cell_type": "markdown",
   "metadata": {},
   "source": [
    "# Variational Bayesian non-parametric inference for infectious disease models <a id='models'></a>"
   ]
  },
  {
   "cell_type": "markdown",
   "metadata": {},
   "source": [
    "In this approach we follow Hensman and Kypraios paper. \n",
    "\n",
    "1. $\\lambda(t)$ = $f$(t); the GP model depends only on time\n",
    "2. $\\lambda(t)$ = $\\beta(t)$S(t)I(t) with $\\beta(t)$ = $f$(t); the GP model allows the person to person infenction to be non-constant and time-varying\n",
    "3. $\\lambda(t)$ = $f$(S(t)I(t)); the GP model is a function of the product S(t)I(t)"
   ]
  },
  {
   "cell_type": "code",
   "execution_count": 18,
   "metadata": {},
   "outputs": [],
   "source": [
    "def plot_prediction(X, Y, model, intg=0, X_test=None, Y_test=None, num_samples=20):\n",
    "    fig, ax = plt.subplots(1, figsize=(15, 4))\n",
    "    \n",
    "    Xnew = np.linspace(X.min(axis=0) - 0.5, X.max(axis=0) + 0.5, 100)\n",
    "    Ypred = model.predict_f_samples(Xnew, full_cov=True, num_samples=num_samples)\n",
    "    mean, var = model.predict_f(Xnew)\n",
    "    \n",
    "    ax.plot(Xnew[:,intg], np.squeeze(Ypred).T, \"C1\", alpha=0.2)\n",
    "    ax.plot(Xnew[:,intg], mean, \"-\", c=\"C0\")\n",
    "    \n",
    "    lo = (mean - 2 * tf.sqrt(var)).numpy()\n",
    "    hi = (mean + 2 * tf.sqrt(var)).numpy()\n",
    "    ax.fill_between(Xnew[:,intg], lo.flatten(), hi.flatten(), alpha=0.3)\n",
    "    ax.plot(X[:,intg], Y, \"o\", c=\"C2\", alpha=0.7, label=\"train\")\n",
    "    if (X_test is not None) and (Y_test is not None):\n",
    "        ax.plot(X_test, Y_test, \"o\", c=\"C3\", alpha=0.7, label=\"test\")\n",
    "        ax.legend()"
   ]
  },
  {
   "cell_type": "code",
   "execution_count": 19,
   "metadata": {},
   "outputs": [],
   "source": [
    "def plot_model(Y, Y_mean, Y_var, intial_inducing_points=None, inducing_points_list=None, test=False, x_ind=0):\n",
    "    fig, ax = plt.subplots(1, figsize=(15, 4))\n",
    "    \n",
    "    if test==False:\n",
    "        X = final_data_us[[\"Updated\"]][:split]\n",
    "        \n",
    "        z_points = [np.argmin(np.abs(X_train[:, x_ind]-x)) for i, x in enumerate(intial_inducing_points)]\n",
    "        Z_dates = final_data_us.iloc[z_points, :][\"Updated\"]\n",
    "        ax.plot(Z_dates, np.zeros_like(z_points), \"k|\", mew=4, c=\"green\", label=\"Initial inducing locations\")\n",
    "        \n",
    "        z_points = [np.argmin(np.abs(X_train[:, x_ind]-x)) for i, x in enumerate(inducing_points_list)]\n",
    "        Z_dates = final_data_us.iloc[z_points, :][\"Updated\"]\n",
    "        ax.plot(Z_dates, np.zeros_like(z_points), \"k|\", mew=4, label=\"Inducing locations\")\n",
    "    else:\n",
    "        X = final_data_us[[\"Updated\"]][split:]\n",
    "    \n",
    "    lo = (Y_mean - 2 * tf.sqrt(Y_var)).numpy()\n",
    "    hi = (Y_mean + 2 * tf.sqrt(Y_var)).numpy()\n",
    "    \n",
    "    \n",
    "    \n",
    "    ax.plot(X, Y, \"o\", c=\"brown\", label=\"Daily COVID cases\")\n",
    "    ax.plot(X, Y_mean, \"-\", c=\"blue\", label=\"Average COVID prediction\")\n",
    "    ax.fill_between(X.to_numpy().flatten(), lo.flatten(), hi.flatten(), alpha=0.3, interpolate=True)\n"
   ]
  },
  {
   "cell_type": "code",
   "execution_count": 20,
   "metadata": {},
   "outputs": [],
   "source": [
    "# Create inducing inputs for the Sparse VGP\n",
    "# The initial inputs should be random to mitigate for performance bias\n",
    "def inducing_points(data, size=15):\n",
    "    if size>data.shape[0]:\n",
    "        print(\"Inducing points should be less (or equal) of the data rows X.\")\n",
    "        \n",
    "    np.random.seed(1234)\n",
    "\n",
    "    for c in range(data.shape[1]):\n",
    "            if c==0:\n",
    "                ind = np.random.randint(data.shape[0], size=size)\n",
    "                Z = data[ind, c]\n",
    "            else:\n",
    "                ind = np.random.randint(data.shape[0], size=size)\n",
    "                Z_ = data[ind, c]\n",
    "                Z = np.vstack((Z, Z_))\n",
    "    return(Z)"
   ]
  },
  {
   "cell_type": "code",
   "execution_count": 21,
   "metadata": {},
   "outputs": [],
   "source": [
    "# r2 score\n",
    "def r_2(y, y_predict):\n",
    "    y_bar = np.mean(y)\n",
    "    SS_tot = np.sum((y-y_bar)**2)\n",
    "    SS_reg = np.sum((y_predict-y_bar)**2)\n",
    "    r_2 = SS_reg/SS_tot\n",
    "    return(np.round(r_2, 2))"
   ]
  },
  {
   "cell_type": "markdown",
   "metadata": {},
   "source": [
    "[Back to Top](#top)"
   ]
  },
  {
   "cell_type": "markdown",
   "metadata": {},
   "source": [
    "### MODEL 1: <a id='M1'></a>"
   ]
  },
  {
   "cell_type": "markdown",
   "metadata": {},
   "source": [
    "$\\lambda(t)$ = $f$(t); the GP model depends only on time"
   ]
  },
  {
   "cell_type": "code",
   "execution_count": null,
   "metadata": {},
   "outputs": [],
   "source": [
    "final_data_us"
   ]
  },
  {
   "cell_type": "code",
   "execution_count": 22,
   "metadata": {},
   "outputs": [],
   "source": [
    "# Keep the mean and the variance\n",
    "mean_y = final_data_us[\"ConfirmedChange\"].to_numpy().mean()\n",
    "std_y = final_data_us[\"ConfirmedChange\"].to_numpy().std()\n",
    "\n",
    "mean_r = final_data_us[\"RecoveredChange\"].to_numpy().mean()\n",
    "std_r = final_data_us[\"RecoveredChange\"].to_numpy().std()\n",
    "\n",
    "mean_rcap = final_data_us.RecoveredChange.clip(0, 60000).to_numpy().mean()\n",
    "std_rcap = final_data_us.RecoveredChange.clip(0, 60000).to_numpy().std()"
   ]
  },
  {
   "cell_type": "code",
   "execution_count": null,
   "metadata": {},
   "outputs": [],
   "source": [
    "# Split the data into test and training sets\n",
    "y = final_data_us[\"ConfirmedChange\"].to_numpy()\n",
    "X = final_data_us[[\"Date_number\"]].to_numpy()\n",
    "\n",
    "y = preprocessing.scale(y)\n",
    "X = preprocessing.scale(X)\n",
    "\n",
    "split = 139 # This leaves 3 weeks test set, in order to be able to check the forecast performance in 1 - 2 - 3 weeks.\n",
    "\n",
    "y_train = y[:split]\n",
    "y_test = y[split:]\n",
    "\n",
    "X_train = X[:split]\n",
    "X_test = X[split:]\n",
    "\n",
    "y_train = y_train.reshape((-1,1))\n",
    "y_test = y_test.reshape((-1,1))\n",
    "\n",
    "X_train = X_train.reshape((-1,1))\n",
    "X_test = X_test.reshape((-1,1))"
   ]
  },
  {
   "cell_type": "code",
   "execution_count": null,
   "metadata": {},
   "outputs": [],
   "source": [
    "# Create the kernel\n",
    "#MTRN = gpflow.kernels.Matern32()\n",
    "#k = MTRN\n",
    "\n",
    "SE = gpflow.kernels.SquaredExponential()\n",
    "LIN = gpflow.kernels.Linear()\n",
    "RQ = gpflow.kernels.RationalQuadratic()\n",
    "k = SE*LIN*RQ\n",
    "\n",
    "print_summary(k)"
   ]
  },
  {
   "cell_type": "code",
   "execution_count": null,
   "metadata": {},
   "outputs": [],
   "source": [
    "# Initialise the inducing points\n",
    "Zinit = inducing_points(X_train, size=15)\n",
    "Zinit = Zinit.reshape((-1, 1))"
   ]
  },
  {
   "cell_type": "code",
   "execution_count": null,
   "metadata": {},
   "outputs": [],
   "source": [
    "m1 = gpflow.models.SVGP(likelihood=gpflow.likelihoods.Poisson(), kernel=k, inducing_variable=Zinit, \n",
    "                       num_data=X_train.shape[0])\n",
    "\n",
    "natgrad = NaturalGradient(gamma=1.0)\n",
    "adam = tf.optimizers.Adam(0.01)\n",
    "\n",
    "set_trainable(m1.q_mu, False)\n",
    "set_trainable(m1.q_sqrt, False)\n",
    "\n",
    "logf = []\n",
    "\n",
    "for _ in range(ci_niter(1000)):\n",
    "    adam.minimize(lambda:m1.training_loss((X_train, y_train)), m1.trainable_variables)\n",
    "    natgrad.minimize(lambda:m1.training_loss((X_train, y_train)), [(m1.q_mu, m1.q_sqrt)])   \n",
    "    logf.append(m1.elbo(((X_train, y_train))))"
   ]
  },
  {
   "cell_type": "code",
   "execution_count": null,
   "metadata": {},
   "outputs": [],
   "source": [
    "print_summary(m1)"
   ]
  },
  {
   "cell_type": "code",
   "execution_count": null,
   "metadata": {},
   "outputs": [],
   "source": [
    "# ELBO\n",
    "plt.plot(logf)"
   ]
  },
  {
   "cell_type": "code",
   "execution_count": null,
   "metadata": {},
   "outputs": [],
   "source": [
    "mean, var = m1.predict_f(X_train)"
   ]
  },
  {
   "cell_type": "code",
   "execution_count": null,
   "metadata": {
    "scrolled": true
   },
   "outputs": [],
   "source": [
    "plot_prediction(X_train, y_train, m1, X_test=None, Y_test=None, num_samples=20)"
   ]
  },
  {
   "cell_type": "code",
   "execution_count": null,
   "metadata": {},
   "outputs": [],
   "source": [
    "plot_model(y_train, mean, var, intial_inducing_points=list(Zinit[:,0]), inducing_points_list=list(m1.inducing_variable.Z.numpy()[:,0]))"
   ]
  },
  {
   "cell_type": "code",
   "execution_count": null,
   "metadata": {},
   "outputs": [],
   "source": [
    "np.mean(var)"
   ]
  },
  {
   "cell_type": "code",
   "execution_count": null,
   "metadata": {},
   "outputs": [],
   "source": [
    "# The test US data are\n",
    "\n",
    "mean_test, var_test = m1.predict_f(X_test)\n",
    "\n",
    "plot_model(y_test, mean_test, var_test, test=True)"
   ]
  },
  {
   "cell_type": "code",
   "execution_count": null,
   "metadata": {},
   "outputs": [],
   "source": [
    "np.mean(var_test.numpy())"
   ]
  },
  {
   "cell_type": "code",
   "execution_count": null,
   "metadata": {},
   "outputs": [],
   "source": [
    "wsRMSE = np.round(np.sqrt(np.mean((y_train - mean.numpy())**2)), 3)\n",
    "osRMSE = np.round(np.sqrt(np.mean((y_test - mean_test.numpy())**2)), 3)\n",
    "R_sq = r_2(y_train, mean.numpy())\n",
    "print(\"The within-sample (n={0}) RMSE is: {1} and the out-of-sample (n={2}) RMSE is: {3}. The R^2 is: {4}.\".format(X_train.shape[0], wsRMSE, X_test.shape[0], osRMSE, R_sq))"
   ]
  },
  {
   "cell_type": "code",
   "execution_count": null,
   "metadata": {},
   "outputs": [],
   "source": [
    "# 7-days forecast (set 2020-07-07 to 2020-07-13)\n",
    "week1f = np.round(np.mean(final_data_us[\"ConfirmedChange\"].to_numpy()[split:split+7] - (mean_test.numpy()[:7]*std_y + mean_y)), 0)\n",
    "# 14 days forecast (set 2020-07-14 to 2020-07-20)\n",
    "week2f = np.round(np.mean(final_data_us[\"ConfirmedChange\"].to_numpy()[split+7:split+14] - (mean_test.numpy()[7:14]*std_y + mean_y)), 0)\n",
    "# 21 days forecast (set 2020-07-21 to 2020-07-27)\n",
    "week3f = np.round(np.mean(final_data_us[\"ConfirmedChange\"].to_numpy()[split+14:] - (mean_test.numpy()[14:]*std_y + mean_y)), 0)\n",
    "# Whole forecat (set 2020-07-07 to 2020-07-27)\n",
    "forecst = np.round(np.mean(final_data_us[\"ConfirmedChange\"].to_numpy()[split:] - (mean_test.numpy()*std_y + mean_y)), 0)\n",
    "# Difference of the forecast as a ratio of the daily cases (whole test set -- 21 days)\n",
    "diff_ratio = np.round(np.mean((final_data_us[\"ConfirmedChange\"].to_numpy()[split:] - (mean_test.numpy()*std_y + mean_y))/final_data_us[\"ConfirmedChange\"].to_numpy()[split:]), 2)\n",
    "\n",
    "print(\"The week1 forecast is: {0}, week2 is: {1}, week3 is {2}, whole test set: {3} and ratio {4}.\".format(week1f, week2f, week3f, forecst, diff_ratio))"
   ]
  },
  {
   "cell_type": "markdown",
   "metadata": {},
   "source": [
    "[Back to Top](#top)"
   ]
  },
  {
   "cell_type": "markdown",
   "metadata": {},
   "source": [
    "### MODEL 2: <a id='M2'></a>"
   ]
  },
  {
   "cell_type": "markdown",
   "metadata": {},
   "source": [
    "$\\lambda(t)$ = $\\beta(t)$S(t)I(t) with $\\beta(t)$ = $f$(t); the GP model allows the person to person infenction to be non-constant and time-varying"
   ]
  },
  {
   "cell_type": "code",
   "execution_count": null,
   "metadata": {},
   "outputs": [],
   "source": [
    "plt.figure(figsize=(10,6))\n",
    "plt.plot(y_train)\n",
    "factors_SI = final_data_us.S[:split]*final_data_us.I[:split]\n",
    "factors_SI = preprocessing.scale(factors_SI)\n",
    "\n",
    "plt.plot(mean.numpy().reshape((-1,))*factors_SI)\n",
    "plt.plot(mean.numpy().reshape((-1,))*factors_SI + 2 * np.sqrt(var.numpy().reshape((-1,)))*factors_SI, \"C0\", lw=0.5)\n",
    "plt.plot(mean.numpy().reshape((-1,))*factors_SI - 2 * np.sqrt(var.numpy().reshape((-1,)))*factors_SI, \"C0\", lw=0.5)"
   ]
  },
  {
   "cell_type": "code",
   "execution_count": null,
   "metadata": {},
   "outputs": [],
   "source": [
    "# The test US data are\n",
    "factors_SI = final_data_us.S[split:]*final_data_us.I[split:]\n",
    "factors_SI = factors_SI.to_numpy()\n",
    "factors_SI = preprocessing.scale(factors_SI)\n",
    "\n",
    "plt.figure(figsize=(10,6))\n",
    "plt.plot(y_test)\n",
    "plt.plot(mean_test.numpy().reshape((-1,))*factors_SI)\n",
    "plt.plot(mean_test.numpy().reshape((-1,))*factors_SI + 2 * np.sqrt(var_test.numpy().reshape((-1,)))*factors_SI, \"C0\", lw=0.5)\n",
    "plt.plot(mean_test.numpy().reshape((-1,))*factors_SI - 2 * np.sqrt(var_test.numpy().reshape((-1,)))*factors_SI, \"C0\", lw=0.5)"
   ]
  },
  {
   "cell_type": "markdown",
   "metadata": {},
   "source": [
    "[Back to Top](#top)"
   ]
  },
  {
   "cell_type": "markdown",
   "metadata": {},
   "source": [
    "## Model 3 <a id='M3'></a>"
   ]
  },
  {
   "cell_type": "markdown",
   "metadata": {},
   "source": [
    "$\\lambda(t)$ = $f$(S(t)I(t))"
   ]
  },
  {
   "cell_type": "code",
   "execution_count": 23,
   "metadata": {},
   "outputs": [
    {
     "name": "stderr",
     "output_type": "stream",
     "text": [
      "c:\\programdata\\anaconda3\\envs\\hyperion\\lib\\site-packages\\sklearn\\preprocessing\\_data.py:174: UserWarning: Numerical issues were encountered when centering the data and might not be solved. Dataset may contain too large values. You may need to prescale your features.\n",
      "  warnings.warn(\"Numerical issues were encountered \"\n"
     ]
    }
   ],
   "source": [
    "y = final_data_us[\"ConfirmedChange\"].to_numpy()\n",
    "X = final_data_us[\"SI\"].to_numpy()\n",
    "\n",
    "\n",
    "y = preprocessing.scale(y)\n",
    "X = preprocessing.scale(X)\n",
    "\n",
    "split = 139\n",
    "\n",
    "y_train = y[:split]\n",
    "y_test = y[split:]\n",
    "\n",
    "X_train = X[:split]\n",
    "X_test = X[split:]\n",
    "\n",
    "y_train = y_train.reshape((-1,1))\n",
    "y_test = y_test.reshape((-1,1))\n",
    "\n",
    "X_train = X_train.reshape((-1,1))\n",
    "X_test = X_test.reshape((-1,1))"
   ]
  },
  {
   "cell_type": "code",
   "execution_count": 24,
   "metadata": {},
   "outputs": [
    {
     "data": {
      "text/html": [
       "<table>\n",
       "<thead>\n",
       "<tr><th>name                           </th><th>class    </th><th>transform  </th><th>prior  </th><th>trainable  </th><th>shape  </th><th>dtype  </th><th style=\"text-align: right;\">  value</th></tr>\n",
       "</thead>\n",
       "<tbody>\n",
       "<tr><td>Product.kernels[0].variance    </td><td>Parameter</td><td>Softplus   </td><td>       </td><td>True       </td><td>()     </td><td>float64</td><td style=\"text-align: right;\">      1</td></tr>\n",
       "<tr><td>Product.kernels[0].lengthscales</td><td>Parameter</td><td>Softplus   </td><td>       </td><td>True       </td><td>()     </td><td>float64</td><td style=\"text-align: right;\">      1</td></tr>\n",
       "<tr><td>Product.kernels[1].variance    </td><td>Parameter</td><td>Softplus   </td><td>       </td><td>True       </td><td>()     </td><td>float64</td><td style=\"text-align: right;\">      1</td></tr>\n",
       "<tr><td>Product.kernels[2].variance    </td><td>Parameter</td><td>Softplus   </td><td>       </td><td>True       </td><td>()     </td><td>float64</td><td style=\"text-align: right;\">      1</td></tr>\n",
       "<tr><td>Product.kernels[2].lengthscales</td><td>Parameter</td><td>Softplus   </td><td>       </td><td>True       </td><td>()     </td><td>float64</td><td style=\"text-align: right;\">      1</td></tr>\n",
       "<tr><td>Product.kernels[2].alpha       </td><td>Parameter</td><td>Softplus   </td><td>       </td><td>True       </td><td>()     </td><td>float64</td><td style=\"text-align: right;\">      1</td></tr>\n",
       "</tbody>\n",
       "</table>"
      ],
      "text/plain": [
       "<IPython.core.display.HTML object>"
      ]
     },
     "metadata": {},
     "output_type": "display_data"
    }
   ],
   "source": [
    "MTRN = gpflow.kernels.Matern32()\n",
    "k = MTRN\n",
    "\n",
    "SE = gpflow.kernels.SquaredExponential()\n",
    "LIN = gpflow.kernels.Linear()\n",
    "RQ = gpflow.kernels.RationalQuadratic()\n",
    "k = SE*LIN*RQ\n",
    "\n",
    "print_summary(k, fmt=\"notebook\")"
   ]
  },
  {
   "cell_type": "code",
   "execution_count": 25,
   "metadata": {},
   "outputs": [],
   "source": [
    "# Initialise the inducing points\n",
    "Zinit = inducing_points(X_train, size=15)\n",
    "Zinit = Zinit.reshape((-1, 1))"
   ]
  },
  {
   "cell_type": "code",
   "execution_count": 26,
   "metadata": {},
   "outputs": [
    {
     "ename": "InvalidArgumentError",
     "evalue": "Cholesky decomposition was not successful. The input might not be valid. [Op:Cholesky]",
     "output_type": "error",
     "traceback": [
      "\u001b[1;31m---------------------------------------------------------------------------\u001b[0m",
      "\u001b[1;31mInvalidArgumentError\u001b[0m                      Traceback (most recent call last)",
      "\u001b[1;32m<ipython-input-26-00919509f68f>\u001b[0m in \u001b[0;36m<module>\u001b[1;34m\u001b[0m\n\u001b[0;32m     12\u001b[0m \u001b[1;32mfor\u001b[0m \u001b[0m_\u001b[0m \u001b[1;32min\u001b[0m \u001b[0mrange\u001b[0m\u001b[1;33m(\u001b[0m\u001b[0mci_niter\u001b[0m\u001b[1;33m(\u001b[0m\u001b[1;36m1000\u001b[0m\u001b[1;33m)\u001b[0m\u001b[1;33m)\u001b[0m\u001b[1;33m:\u001b[0m\u001b[1;33m\u001b[0m\u001b[1;33m\u001b[0m\u001b[0m\n\u001b[0;32m     13\u001b[0m     \u001b[0madam\u001b[0m\u001b[1;33m.\u001b[0m\u001b[0mminimize\u001b[0m\u001b[1;33m(\u001b[0m\u001b[1;32mlambda\u001b[0m\u001b[1;33m:\u001b[0m\u001b[0mm3\u001b[0m\u001b[1;33m.\u001b[0m\u001b[0mtraining_loss\u001b[0m\u001b[1;33m(\u001b[0m\u001b[1;33m(\u001b[0m\u001b[0mX_train\u001b[0m\u001b[1;33m,\u001b[0m \u001b[0my_train\u001b[0m\u001b[1;33m)\u001b[0m\u001b[1;33m)\u001b[0m\u001b[1;33m,\u001b[0m \u001b[0mm3\u001b[0m\u001b[1;33m.\u001b[0m\u001b[0mtrainable_variables\u001b[0m\u001b[1;33m)\u001b[0m\u001b[1;33m\u001b[0m\u001b[1;33m\u001b[0m\u001b[0m\n\u001b[1;32m---> 14\u001b[1;33m     \u001b[0mnatgrad\u001b[0m\u001b[1;33m.\u001b[0m\u001b[0mminimize\u001b[0m\u001b[1;33m(\u001b[0m\u001b[1;32mlambda\u001b[0m\u001b[1;33m:\u001b[0m\u001b[0mm3\u001b[0m\u001b[1;33m.\u001b[0m\u001b[0mtraining_loss\u001b[0m\u001b[1;33m(\u001b[0m\u001b[1;33m(\u001b[0m\u001b[0mX_train\u001b[0m\u001b[1;33m,\u001b[0m \u001b[0my_train\u001b[0m\u001b[1;33m)\u001b[0m\u001b[1;33m)\u001b[0m\u001b[1;33m,\u001b[0m \u001b[1;33m[\u001b[0m\u001b[1;33m(\u001b[0m\u001b[0mm3\u001b[0m\u001b[1;33m.\u001b[0m\u001b[0mq_mu\u001b[0m\u001b[1;33m,\u001b[0m \u001b[0mm3\u001b[0m\u001b[1;33m.\u001b[0m\u001b[0mq_sqrt\u001b[0m\u001b[1;33m)\u001b[0m\u001b[1;33m]\u001b[0m\u001b[1;33m)\u001b[0m\u001b[1;33m\u001b[0m\u001b[1;33m\u001b[0m\u001b[0m\n\u001b[0m\u001b[0;32m     15\u001b[0m     \u001b[0mlogf\u001b[0m\u001b[1;33m.\u001b[0m\u001b[0mappend\u001b[0m\u001b[1;33m(\u001b[0m\u001b[0mm3\u001b[0m\u001b[1;33m.\u001b[0m\u001b[0melbo\u001b[0m\u001b[1;33m(\u001b[0m\u001b[1;33m(\u001b[0m\u001b[1;33m(\u001b[0m\u001b[0mX_train\u001b[0m\u001b[1;33m,\u001b[0m \u001b[0my_train\u001b[0m\u001b[1;33m)\u001b[0m\u001b[1;33m)\u001b[0m\u001b[1;33m)\u001b[0m\u001b[1;33m)\u001b[0m\u001b[1;33m\u001b[0m\u001b[1;33m\u001b[0m\u001b[0m\n",
      "\u001b[1;32mc:\\programdata\\anaconda3\\envs\\hyperion\\lib\\site-packages\\gpflow\\optimizers\\natgrad.py\u001b[0m in \u001b[0;36mminimize\u001b[1;34m(self, loss_fn, var_list)\u001b[0m\n\u001b[0;32m    180\u001b[0m         \"\"\"\n\u001b[0;32m    181\u001b[0m         \u001b[0mparameters\u001b[0m \u001b[1;33m=\u001b[0m \u001b[1;33m[\u001b[0m\u001b[1;33m(\u001b[0m\u001b[0mv\u001b[0m\u001b[1;33m[\u001b[0m\u001b[1;36m0\u001b[0m\u001b[1;33m]\u001b[0m\u001b[1;33m,\u001b[0m \u001b[0mv\u001b[0m\u001b[1;33m[\u001b[0m\u001b[1;36m1\u001b[0m\u001b[1;33m]\u001b[0m\u001b[1;33m,\u001b[0m \u001b[1;33m(\u001b[0m\u001b[0mv\u001b[0m\u001b[1;33m[\u001b[0m\u001b[1;36m2\u001b[0m\u001b[1;33m]\u001b[0m \u001b[1;32mif\u001b[0m \u001b[0mlen\u001b[0m\u001b[1;33m(\u001b[0m\u001b[0mv\u001b[0m\u001b[1;33m)\u001b[0m \u001b[1;33m>\u001b[0m \u001b[1;36m2\u001b[0m \u001b[1;32melse\u001b[0m \u001b[1;32mNone\u001b[0m\u001b[1;33m)\u001b[0m\u001b[1;33m)\u001b[0m \u001b[1;32mfor\u001b[0m \u001b[0mv\u001b[0m \u001b[1;32min\u001b[0m \u001b[0mvar_list\u001b[0m\u001b[1;33m]\u001b[0m\u001b[1;33m\u001b[0m\u001b[1;33m\u001b[0m\u001b[0m\n\u001b[1;32m--> 182\u001b[1;33m         \u001b[0mself\u001b[0m\u001b[1;33m.\u001b[0m\u001b[0m_natgrad_steps\u001b[0m\u001b[1;33m(\u001b[0m\u001b[0mloss_fn\u001b[0m\u001b[1;33m,\u001b[0m \u001b[0mparameters\u001b[0m\u001b[1;33m)\u001b[0m\u001b[1;33m\u001b[0m\u001b[1;33m\u001b[0m\u001b[0m\n\u001b[0m\u001b[0;32m    183\u001b[0m \u001b[1;33m\u001b[0m\u001b[0m\n\u001b[0;32m    184\u001b[0m     def _natgrad_steps(\n",
      "\u001b[1;32mc:\\programdata\\anaconda3\\envs\\hyperion\\lib\\site-packages\\gpflow\\optimizers\\natgrad.py\u001b[0m in \u001b[0;36m_natgrad_steps\u001b[1;34m(self, loss_fn, parameters)\u001b[0m\n\u001b[0;32m    210\u001b[0m                 \u001b[0mq_mu_grads\u001b[0m\u001b[1;33m,\u001b[0m \u001b[0mq_sqrt_grads\u001b[0m\u001b[1;33m,\u001b[0m \u001b[0mq_mus\u001b[0m\u001b[1;33m,\u001b[0m \u001b[0mq_sqrts\u001b[0m\u001b[1;33m,\u001b[0m \u001b[0mxis\u001b[0m\u001b[1;33m\u001b[0m\u001b[1;33m\u001b[0m\u001b[0m\n\u001b[0;32m    211\u001b[0m             ):\n\u001b[1;32m--> 212\u001b[1;33m                 \u001b[0mself\u001b[0m\u001b[1;33m.\u001b[0m\u001b[0m_natgrad_apply_gradients\u001b[0m\u001b[1;33m(\u001b[0m\u001b[0mq_mu_grad\u001b[0m\u001b[1;33m,\u001b[0m \u001b[0mq_sqrt_grad\u001b[0m\u001b[1;33m,\u001b[0m \u001b[0mq_mu\u001b[0m\u001b[1;33m,\u001b[0m \u001b[0mq_sqrt\u001b[0m\u001b[1;33m,\u001b[0m \u001b[0mxi_transform\u001b[0m\u001b[1;33m)\u001b[0m\u001b[1;33m\u001b[0m\u001b[1;33m\u001b[0m\u001b[0m\n\u001b[0m\u001b[0;32m    213\u001b[0m \u001b[1;33m\u001b[0m\u001b[0m\n\u001b[0;32m    214\u001b[0m     \u001b[1;32mdef\u001b[0m \u001b[0m_assert_shapes\u001b[0m\u001b[1;33m(\u001b[0m\u001b[0mself\u001b[0m\u001b[1;33m,\u001b[0m \u001b[0mq_mu\u001b[0m\u001b[1;33m,\u001b[0m \u001b[0mq_sqrt\u001b[0m\u001b[1;33m)\u001b[0m\u001b[1;33m:\u001b[0m\u001b[1;33m\u001b[0m\u001b[1;33m\u001b[0m\u001b[0m\n",
      "\u001b[1;32mc:\\programdata\\anaconda3\\envs\\hyperion\\lib\\site-packages\\gpflow\\optimizers\\natgrad.py\u001b[0m in \u001b[0;36m_natgrad_apply_gradients\u001b[1;34m(self, q_mu_grad, q_sqrt_grad, q_mu, q_sqrt, xi_transform)\u001b[0m\n\u001b[0;32m    309\u001b[0m \u001b[1;33m\u001b[0m\u001b[0m\n\u001b[0;32m    310\u001b[0m         \u001b[1;31m# Transform back to the model parameters [q_mu, q_sqrt]\u001b[0m\u001b[1;33m\u001b[0m\u001b[1;33m\u001b[0m\u001b[1;33m\u001b[0m\u001b[0m\n\u001b[1;32m--> 311\u001b[1;33m         \u001b[0mmean_new\u001b[0m\u001b[1;33m,\u001b[0m \u001b[0mvarsqrt_new\u001b[0m \u001b[1;33m=\u001b[0m \u001b[0mxi_transform\u001b[0m\u001b[1;33m.\u001b[0m\u001b[0mxi_to_meanvarsqrt\u001b[0m\u001b[1;33m(\u001b[0m\u001b[0mxi1_new\u001b[0m\u001b[1;33m,\u001b[0m \u001b[0mxi2_new\u001b[0m\u001b[1;33m)\u001b[0m\u001b[1;33m\u001b[0m\u001b[1;33m\u001b[0m\u001b[0m\n\u001b[0m\u001b[0;32m    312\u001b[0m \u001b[1;33m\u001b[0m\u001b[0m\n\u001b[0;32m    313\u001b[0m         \u001b[0mq_mu\u001b[0m\u001b[1;33m.\u001b[0m\u001b[0massign\u001b[0m\u001b[1;33m(\u001b[0m\u001b[0mmean_new\u001b[0m\u001b[1;33m)\u001b[0m\u001b[1;33m\u001b[0m\u001b[1;33m\u001b[0m\u001b[0m\n",
      "\u001b[1;32mc:\\programdata\\anaconda3\\envs\\hyperion\\lib\\site-packages\\gpflow\\optimizers\\natgrad.py\u001b[0m in \u001b[0;36mxi_to_meanvarsqrt\u001b[1;34m(xi1, xi2)\u001b[0m\n\u001b[0;32m     95\u001b[0m     \u001b[1;33m@\u001b[0m\u001b[0mstaticmethod\u001b[0m\u001b[1;33m\u001b[0m\u001b[1;33m\u001b[0m\u001b[0m\n\u001b[0;32m     96\u001b[0m     \u001b[1;32mdef\u001b[0m \u001b[0mxi_to_meanvarsqrt\u001b[0m\u001b[1;33m(\u001b[0m\u001b[0mxi1\u001b[0m\u001b[1;33m,\u001b[0m \u001b[0mxi2\u001b[0m\u001b[1;33m)\u001b[0m\u001b[1;33m:\u001b[0m\u001b[1;33m\u001b[0m\u001b[1;33m\u001b[0m\u001b[0m\n\u001b[1;32m---> 97\u001b[1;33m         \u001b[1;32mreturn\u001b[0m \u001b[0mnatural_to_meanvarsqrt\u001b[0m\u001b[1;33m(\u001b[0m\u001b[0mxi1\u001b[0m\u001b[1;33m,\u001b[0m \u001b[0mxi2\u001b[0m\u001b[1;33m)\u001b[0m\u001b[1;33m\u001b[0m\u001b[1;33m\u001b[0m\u001b[0m\n\u001b[0m\u001b[0;32m     98\u001b[0m \u001b[1;33m\u001b[0m\u001b[0m\n\u001b[0;32m     99\u001b[0m     \u001b[1;33m@\u001b[0m\u001b[0mstaticmethod\u001b[0m\u001b[1;33m\u001b[0m\u001b[1;33m\u001b[0m\u001b[0m\n",
      "\u001b[1;32mc:\\programdata\\anaconda3\\envs\\hyperion\\lib\\site-packages\\gpflow\\optimizers\\natgrad.py\u001b[0m in \u001b[0;36mwrapper\u001b[1;34m(a_nd, b_dnn, swap)\u001b[0m\n\u001b[0;32m    346\u001b[0m                 \u001b[1;32mraise\u001b[0m \u001b[0mValueError\u001b[0m\u001b[1;33m(\u001b[0m\u001b[1;34m\"The covariance parametrization must have 3 dimensions.\"\u001b[0m\u001b[1;33m)\u001b[0m\u001b[1;33m\u001b[0m\u001b[1;33m\u001b[0m\u001b[0m\n\u001b[0;32m    347\u001b[0m             \u001b[0ma_dn1\u001b[0m \u001b[1;33m=\u001b[0m \u001b[0mtf\u001b[0m\u001b[1;33m.\u001b[0m\u001b[0mlinalg\u001b[0m\u001b[1;33m.\u001b[0m\u001b[0madjoint\u001b[0m\u001b[1;33m(\u001b[0m\u001b[0ma_nd\u001b[0m\u001b[1;33m)\u001b[0m\u001b[1;33m[\u001b[0m\u001b[1;33m:\u001b[0m\u001b[1;33m,\u001b[0m \u001b[1;33m:\u001b[0m\u001b[1;33m,\u001b[0m \u001b[1;32mNone\u001b[0m\u001b[1;33m]\u001b[0m\u001b[1;33m\u001b[0m\u001b[1;33m\u001b[0m\u001b[0m\n\u001b[1;32m--> 348\u001b[1;33m             \u001b[0mA_dn1\u001b[0m\u001b[1;33m,\u001b[0m \u001b[0mB_dnn\u001b[0m \u001b[1;33m=\u001b[0m \u001b[0mmethod\u001b[0m\u001b[1;33m(\u001b[0m\u001b[0ma_dn1\u001b[0m\u001b[1;33m,\u001b[0m \u001b[0mb_dnn\u001b[0m\u001b[1;33m)\u001b[0m\u001b[1;33m\u001b[0m\u001b[1;33m\u001b[0m\u001b[0m\n\u001b[0m\u001b[0;32m    349\u001b[0m             \u001b[0mA_nd\u001b[0m \u001b[1;33m=\u001b[0m \u001b[0mtf\u001b[0m\u001b[1;33m.\u001b[0m\u001b[0mlinalg\u001b[0m\u001b[1;33m.\u001b[0m\u001b[0madjoint\u001b[0m\u001b[1;33m(\u001b[0m\u001b[0mA_dn1\u001b[0m\u001b[1;33m[\u001b[0m\u001b[1;33m:\u001b[0m\u001b[1;33m,\u001b[0m \u001b[1;33m:\u001b[0m\u001b[1;33m,\u001b[0m \u001b[1;36m0\u001b[0m\u001b[1;33m]\u001b[0m\u001b[1;33m)\u001b[0m\u001b[1;33m\u001b[0m\u001b[1;33m\u001b[0m\u001b[0m\n\u001b[0;32m    350\u001b[0m             \u001b[1;32mreturn\u001b[0m \u001b[0mA_nd\u001b[0m\u001b[1;33m,\u001b[0m \u001b[0mB_dnn\u001b[0m\u001b[1;33m\u001b[0m\u001b[1;33m\u001b[0m\u001b[0m\n",
      "\u001b[1;32mc:\\programdata\\anaconda3\\envs\\hyperion\\lib\\site-packages\\gpflow\\optimizers\\natgrad.py\u001b[0m in \u001b[0;36mnatural_to_meanvarsqrt\u001b[1;34m(nat1, nat2)\u001b[0m\n\u001b[0;32m    357\u001b[0m \u001b[1;33m@\u001b[0m\u001b[0mswap_dimensions\u001b[0m\u001b[1;33m\u001b[0m\u001b[1;33m\u001b[0m\u001b[0m\n\u001b[0;32m    358\u001b[0m \u001b[1;32mdef\u001b[0m \u001b[0mnatural_to_meanvarsqrt\u001b[0m\u001b[1;33m(\u001b[0m\u001b[0mnat1\u001b[0m\u001b[1;33m:\u001b[0m \u001b[0mtf\u001b[0m\u001b[1;33m.\u001b[0m\u001b[0mTensor\u001b[0m\u001b[1;33m,\u001b[0m \u001b[0mnat2\u001b[0m\u001b[1;33m:\u001b[0m \u001b[0mtf\u001b[0m\u001b[1;33m.\u001b[0m\u001b[0mTensor\u001b[0m\u001b[1;33m)\u001b[0m\u001b[1;33m:\u001b[0m\u001b[1;33m\u001b[0m\u001b[1;33m\u001b[0m\u001b[0m\n\u001b[1;32m--> 359\u001b[1;33m     \u001b[0mvar_sqrt_inv\u001b[0m \u001b[1;33m=\u001b[0m \u001b[0mtf\u001b[0m\u001b[1;33m.\u001b[0m\u001b[0mlinalg\u001b[0m\u001b[1;33m.\u001b[0m\u001b[0mcholesky\u001b[0m\u001b[1;33m(\u001b[0m\u001b[1;33m-\u001b[0m\u001b[1;36m2\u001b[0m \u001b[1;33m*\u001b[0m \u001b[0mnat2\u001b[0m\u001b[1;33m)\u001b[0m\u001b[1;33m\u001b[0m\u001b[1;33m\u001b[0m\u001b[0m\n\u001b[0m\u001b[0;32m    360\u001b[0m     \u001b[0mvar_sqrt\u001b[0m \u001b[1;33m=\u001b[0m \u001b[0m_inverse_lower_triangular\u001b[0m\u001b[1;33m(\u001b[0m\u001b[0mvar_sqrt_inv\u001b[0m\u001b[1;33m)\u001b[0m\u001b[1;33m\u001b[0m\u001b[1;33m\u001b[0m\u001b[0m\n\u001b[0;32m    361\u001b[0m     \u001b[0mS\u001b[0m \u001b[1;33m=\u001b[0m \u001b[0mtf\u001b[0m\u001b[1;33m.\u001b[0m\u001b[0mlinalg\u001b[0m\u001b[1;33m.\u001b[0m\u001b[0mmatmul\u001b[0m\u001b[1;33m(\u001b[0m\u001b[0mvar_sqrt\u001b[0m\u001b[1;33m,\u001b[0m \u001b[0mvar_sqrt\u001b[0m\u001b[1;33m,\u001b[0m \u001b[0mtranspose_a\u001b[0m\u001b[1;33m=\u001b[0m\u001b[1;32mTrue\u001b[0m\u001b[1;33m)\u001b[0m\u001b[1;33m\u001b[0m\u001b[1;33m\u001b[0m\u001b[0m\n",
      "\u001b[1;32mc:\\programdata\\anaconda3\\envs\\hyperion\\lib\\site-packages\\tensorflow\\python\\ops\\gen_linalg_ops.py\u001b[0m in \u001b[0;36mcholesky\u001b[1;34m(input, name)\u001b[0m\n\u001b[0;32m    782\u001b[0m       \u001b[1;32mreturn\u001b[0m \u001b[0m_result\u001b[0m\u001b[1;33m\u001b[0m\u001b[1;33m\u001b[0m\u001b[0m\n\u001b[0;32m    783\u001b[0m     \u001b[1;32mexcept\u001b[0m \u001b[0m_core\u001b[0m\u001b[1;33m.\u001b[0m\u001b[0m_NotOkStatusException\u001b[0m \u001b[1;32mas\u001b[0m \u001b[0me\u001b[0m\u001b[1;33m:\u001b[0m\u001b[1;33m\u001b[0m\u001b[1;33m\u001b[0m\u001b[0m\n\u001b[1;32m--> 784\u001b[1;33m       \u001b[0m_ops\u001b[0m\u001b[1;33m.\u001b[0m\u001b[0mraise_from_not_ok_status\u001b[0m\u001b[1;33m(\u001b[0m\u001b[0me\u001b[0m\u001b[1;33m,\u001b[0m \u001b[0mname\u001b[0m\u001b[1;33m)\u001b[0m\u001b[1;33m\u001b[0m\u001b[1;33m\u001b[0m\u001b[0m\n\u001b[0m\u001b[0;32m    785\u001b[0m     \u001b[1;32mexcept\u001b[0m \u001b[0m_core\u001b[0m\u001b[1;33m.\u001b[0m\u001b[0m_FallbackException\u001b[0m\u001b[1;33m:\u001b[0m\u001b[1;33m\u001b[0m\u001b[1;33m\u001b[0m\u001b[0m\n\u001b[0;32m    786\u001b[0m       \u001b[1;32mpass\u001b[0m\u001b[1;33m\u001b[0m\u001b[1;33m\u001b[0m\u001b[0m\n",
      "\u001b[1;32mc:\\programdata\\anaconda3\\envs\\hyperion\\lib\\site-packages\\tensorflow\\python\\framework\\ops.py\u001b[0m in \u001b[0;36mraise_from_not_ok_status\u001b[1;34m(e, name)\u001b[0m\n\u001b[0;32m   6841\u001b[0m   \u001b[0mmessage\u001b[0m \u001b[1;33m=\u001b[0m \u001b[0me\u001b[0m\u001b[1;33m.\u001b[0m\u001b[0mmessage\u001b[0m \u001b[1;33m+\u001b[0m \u001b[1;33m(\u001b[0m\u001b[1;34m\" name: \"\u001b[0m \u001b[1;33m+\u001b[0m \u001b[0mname\u001b[0m \u001b[1;32mif\u001b[0m \u001b[0mname\u001b[0m \u001b[1;32mis\u001b[0m \u001b[1;32mnot\u001b[0m \u001b[1;32mNone\u001b[0m \u001b[1;32melse\u001b[0m \u001b[1;34m\"\"\u001b[0m\u001b[1;33m)\u001b[0m\u001b[1;33m\u001b[0m\u001b[1;33m\u001b[0m\u001b[0m\n\u001b[0;32m   6842\u001b[0m   \u001b[1;31m# pylint: disable=protected-access\u001b[0m\u001b[1;33m\u001b[0m\u001b[1;33m\u001b[0m\u001b[1;33m\u001b[0m\u001b[0m\n\u001b[1;32m-> 6843\u001b[1;33m   \u001b[0msix\u001b[0m\u001b[1;33m.\u001b[0m\u001b[0mraise_from\u001b[0m\u001b[1;33m(\u001b[0m\u001b[0mcore\u001b[0m\u001b[1;33m.\u001b[0m\u001b[0m_status_to_exception\u001b[0m\u001b[1;33m(\u001b[0m\u001b[0me\u001b[0m\u001b[1;33m.\u001b[0m\u001b[0mcode\u001b[0m\u001b[1;33m,\u001b[0m \u001b[0mmessage\u001b[0m\u001b[1;33m)\u001b[0m\u001b[1;33m,\u001b[0m \u001b[1;32mNone\u001b[0m\u001b[1;33m)\u001b[0m\u001b[1;33m\u001b[0m\u001b[1;33m\u001b[0m\u001b[0m\n\u001b[0m\u001b[0;32m   6844\u001b[0m   \u001b[1;31m# pylint: enable=protected-access\u001b[0m\u001b[1;33m\u001b[0m\u001b[1;33m\u001b[0m\u001b[1;33m\u001b[0m\u001b[0m\n\u001b[0;32m   6845\u001b[0m \u001b[1;33m\u001b[0m\u001b[0m\n",
      "\u001b[1;32mc:\\programdata\\anaconda3\\envs\\hyperion\\lib\\site-packages\\six.py\u001b[0m in \u001b[0;36mraise_from\u001b[1;34m(value, from_value)\u001b[0m\n",
      "\u001b[1;31mInvalidArgumentError\u001b[0m: Cholesky decomposition was not successful. The input might not be valid. [Op:Cholesky]"
     ]
    }
   ],
   "source": [
    "m3 = gpflow.models.SVGP(likelihood=gpflow.likelihoods.Poisson(), kernel=k, inducing_variable=Zinit, \n",
    "                       num_data=X_train.shape[0])\n",
    "\n",
    "natgrad = NaturalGradient(gamma=1.0)\n",
    "adam = tf.optimizers.Adam(0.01)\n",
    "\n",
    "set_trainable(m3.q_mu, False)\n",
    "set_trainable(m3.q_sqrt, False)\n",
    "\n",
    "logf = []\n",
    "\n",
    "for _ in range(ci_niter(1000)):\n",
    "    adam.minimize(lambda:m3.training_loss((X_train, y_train)), m3.trainable_variables)\n",
    "    natgrad.minimize(lambda:m3.training_loss((X_train, y_train)), [(m3.q_mu, m3.q_sqrt)])   \n",
    "    logf.append(m3.elbo(((X_train, y_train))))"
   ]
  },
  {
   "cell_type": "code",
   "execution_count": null,
   "metadata": {},
   "outputs": [],
   "source": [
    "# ELBO\n",
    "plt.plot(logf)"
   ]
  },
  {
   "cell_type": "code",
   "execution_count": null,
   "metadata": {},
   "outputs": [],
   "source": [
    "print_summary(m3, fmt=\"notebook\")"
   ]
  },
  {
   "cell_type": "code",
   "execution_count": null,
   "metadata": {},
   "outputs": [],
   "source": [
    "mean, var = m3.predict_f(X_train)"
   ]
  },
  {
   "cell_type": "code",
   "execution_count": null,
   "metadata": {},
   "outputs": [],
   "source": [
    "plot_prediction(X_train, y_train, m3, X_test=None, Y_test=None, num_samples=20)"
   ]
  },
  {
   "cell_type": "code",
   "execution_count": null,
   "metadata": {
    "scrolled": true
   },
   "outputs": [],
   "source": [
    "plot_model(y_train, mean, var, intial_inducing_points=list(Zinit[:,0]), inducing_points_list=list(m3.inducing_variable.Z.numpy()[:,0]))"
   ]
  },
  {
   "cell_type": "code",
   "execution_count": null,
   "metadata": {},
   "outputs": [],
   "source": [
    "np.mean(var.numpy())"
   ]
  },
  {
   "cell_type": "code",
   "execution_count": null,
   "metadata": {},
   "outputs": [],
   "source": [
    "# The test US data are\n",
    "\n",
    "mean_test, var_test = m3.predict_f(X_test)\n",
    "\n",
    "plot_model(y_test, mean_test, var_test, test=True)"
   ]
  },
  {
   "cell_type": "code",
   "execution_count": null,
   "metadata": {},
   "outputs": [],
   "source": [
    "np.mean(var_test.numpy())"
   ]
  },
  {
   "cell_type": "code",
   "execution_count": null,
   "metadata": {},
   "outputs": [],
   "source": [
    "wsRMSE = np.round(np.sqrt(np.mean((y_train - mean.numpy())**2)), 3)\n",
    "osRMSE = np.round(np.sqrt(np.mean((y_test - mean_test.numpy())**2)), 3)\n",
    "R_sq = r_2(y_train, mean.numpy())\n",
    "print(\"The within-sample (n={0}) RMSE is: {1} and the out-of-sample (n={2}) RMSE is: {3}. The R^2 is: {4}.\".format(X_train.shape[0], wsRMSE, X_test.shape[0], osRMSE, R_sq))"
   ]
  },
  {
   "cell_type": "code",
   "execution_count": null,
   "metadata": {},
   "outputs": [],
   "source": [
    "# 7-days forecast (set 2020-07-07 to 2020-07-13)\n",
    "week1f = np.round(np.mean(final_data_us[\"ConfirmedChange\"].to_numpy()[split:split+7] - (mean_test.numpy()[:7]*std_y + mean_y)), 0)\n",
    "# 14 days forecast (set 2020-07-14 to 2020-07-20)\n",
    "week2f = np.round(np.mean(final_data_us[\"ConfirmedChange\"].to_numpy()[split+7:split+14] - (mean_test.numpy()[7:14]*std_y + mean_y)), 0)\n",
    "# 21 days forecast (set 2020-07-21 to 2020-07-27)\n",
    "week3f = np.round(np.mean(final_data_us[\"ConfirmedChange\"].to_numpy()[split+14:] - (mean_test.numpy()[14:]*std_y + mean_y)), 0)\n",
    "# Whole forecat (set 2020-07-07 to 2020-07-27)\n",
    "forecst = np.round(np.mean(final_data_us[\"ConfirmedChange\"].to_numpy()[split:] - (mean_test.numpy()*std_y + mean_y)), 0)\n",
    "# Difference of the forecast as a ratio of the daily cases (whole test set -- 21 days)\n",
    "diff_ratio = np.round(np.mean((final_data_us[\"ConfirmedChange\"].to_numpy()[split:] - (mean_test.numpy()*std_y + mean_y))/final_data_us[\"ConfirmedChange\"].to_numpy()[split:]), 2)\n",
    "\n",
    "print(\"The week1 forecast is: {0}, week2 is: {1}, week3 is {2}, whole test set: {3} and ratio {4}.\".format(week1f, week2f, week3f, forecst, diff_ratio))"
   ]
  },
  {
   "cell_type": "markdown",
   "metadata": {},
   "source": [
    "[Back to Top](#top)"
   ]
  },
  {
   "cell_type": "markdown",
   "metadata": {},
   "source": [
    "## Alternative method <a id='M4'></a>"
   ]
  },
  {
   "cell_type": "markdown",
   "metadata": {},
   "source": [
    "$\\lambda(t)$ = $f$(S(t)I(t) + WKDAY(t) + HOME(t) + WORK(t) + OTHER(t))"
   ]
  },
  {
   "cell_type": "code",
   "execution_count": 44,
   "metadata": {},
   "outputs": [
    {
     "name": "stderr",
     "output_type": "stream",
     "text": [
      "c:\\programdata\\anaconda3\\envs\\hyperion\\lib\\site-packages\\sklearn\\preprocessing\\_data.py:174: UserWarning: Numerical issues were encountered when centering the data and might not be solved. Dataset may contain too large values. You may need to prescale your features.\n",
      "  warnings.warn(\"Numerical issues were encountered \"\n"
     ]
    }
   ],
   "source": [
    "y = final_data_us[\"ConfirmedChange\"].to_numpy()\n",
    "X = final_data_us[[\"SI\", \"WEEKDAY\", \"HOME\", \"WORK\", \"OTHER\"]].to_numpy()\n",
    "\n",
    "\n",
    "y = preprocessing.scale(y)\n",
    "X = preprocessing.scale(X)\n",
    "\n",
    "split = 139\n",
    "\n",
    "y_train = y[:split]\n",
    "y_test = y[split:]\n",
    "\n",
    "X_train = X[:split]\n",
    "X_test = X[split:]\n",
    "\n",
    "y_train = y_train.reshape((-1,1))\n",
    "y_test = y_test.reshape((-1,1))"
   ]
  },
  {
   "cell_type": "code",
   "execution_count": 45,
   "metadata": {},
   "outputs": [
    {
     "data": {
      "text/html": [
       "<table>\n",
       "<thead>\n",
       "<tr><th>name                 </th><th>class    </th><th>transform  </th><th>prior  </th><th>trainable  </th><th>shape  </th><th>dtype  </th><th style=\"text-align: right;\">  value</th></tr>\n",
       "</thead>\n",
       "<tbody>\n",
       "<tr><td>Matern32.variance    </td><td>Parameter</td><td>Softplus   </td><td>       </td><td>True       </td><td>()     </td><td>float64</td><td style=\"text-align: right;\">      1</td></tr>\n",
       "<tr><td>Matern32.lengthscales</td><td>Parameter</td><td>Softplus   </td><td>       </td><td>True       </td><td>()     </td><td>float64</td><td style=\"text-align: right;\">      1</td></tr>\n",
       "</tbody>\n",
       "</table>"
      ],
      "text/plain": [
       "<IPython.core.display.HTML object>"
      ]
     },
     "metadata": {},
     "output_type": "display_data"
    }
   ],
   "source": [
    "MTRN = gpflow.kernels.Matern32()\n",
    "k = MTRN\n",
    "\n",
    "#SE = gpflow.kernels.SquaredExponential()\n",
    "#LIN = gpflow.kernels.Linear()\n",
    "#RQ = gpflow.kernels.RationalQuadratic()\n",
    "#k = SE*LIN*RQ\n",
    "\n",
    "print_summary(k, fmt=\"notebook\")"
   ]
  },
  {
   "cell_type": "code",
   "execution_count": 46,
   "metadata": {},
   "outputs": [],
   "source": [
    "# Initialise the inducing points\n",
    "Zinit = inducing_points(X_train, size=15)\n",
    "Zinit = Zinit.T"
   ]
  },
  {
   "cell_type": "code",
   "execution_count": 47,
   "metadata": {},
   "outputs": [],
   "source": [
    "m4 = gpflow.models.SVGP(likelihood=gpflow.likelihoods.Poisson(), kernel=k, inducing_variable=Zinit, \n",
    "                       num_data=X_train.shape[0])\n",
    "\n",
    "natgrad = NaturalGradient(gamma=1.0)\n",
    "adam = tf.optimizers.Adam(0.01)\n",
    "\n",
    "set_trainable(m4.q_mu, False)\n",
    "set_trainable(m4.q_sqrt, False)\n",
    "\n",
    "logf = []\n",
    "\n",
    "for _ in range(ci_niter(1000)):\n",
    "    adam.minimize(lambda:m4.training_loss((X_train, y_train)), m4.trainable_variables)\n",
    "    natgrad.minimize(lambda:m4.training_loss((X_train, y_train)), [(m4.q_mu, m4.q_sqrt)])   \n",
    "    logf.append(m4.elbo(((X_train, y_train))))"
   ]
  },
  {
   "cell_type": "code",
   "execution_count": 48,
   "metadata": {},
   "outputs": [
    {
     "data": {
      "text/plain": [
       "[<matplotlib.lines.Line2D at 0x2427fffed88>]"
      ]
     },
     "execution_count": 48,
     "metadata": {},
     "output_type": "execute_result"
    },
    {
     "data": {
      "image/png": "[encoded data removed]",
      "text/plain": [
       "<Figure size 432x288 with 1 Axes>"
      ]
     },
     "metadata": {},
     "output_type": "display_data"
    }
   ],
   "source": [
    "# ELBO\n",
    "plt.plot(logf)"
   ]
  },
  {
   "cell_type": "code",
   "execution_count": 49,
   "metadata": {},
   "outputs": [
    {
     "data": {
      "text/html": [
       "<table>\n",
       "<thead>\n",
       "<tr><th>name                    </th><th>class    </th><th>transform     </th><th>prior  </th><th>trainable  </th><th>shape      </th><th>dtype  </th><th>value                                                  </th></tr>\n",
       "</thead>\n",
       "<tbody>\n",
       "<tr><td>SVGP.kernel.variance    </td><td>Parameter</td><td>Softplus      </td><td>       </td><td>True       </td><td>()         </td><td>float64</td><td>12.98597228077803                                      </td></tr>\n",
       "<tr><td>SVGP.kernel.lengthscales</td><td>Parameter</td><td>Softplus      </td><td>       </td><td>True       </td><td>()         </td><td>float64</td><td>8.08682824425981                                       </td></tr>\n",
       "<tr><td>SVGP.inducing_variable.Z</td><td>Parameter</td><td>Identity      </td><td>       </td><td>True       </td><td>(15, 5)    </td><td>float64</td><td>[[-1.29636614, -1.53261411, -0.08190348...             </td></tr>\n",
       "<tr><td>SVGP.q_mu               </td><td>Parameter</td><td>Identity      </td><td>       </td><td>False      </td><td>(15, 1)    </td><td>float64</td><td>[[-1.25428507e+02...                                   </td></tr>\n",
       "<tr><td>SVGP.q_sqrt             </td><td>Parameter</td><td>FillTriangular</td><td>       </td><td>False      </td><td>(1, 15, 15)</td><td>float64</td><td>[[[1.00000000e+000, 0.00000000e+000, 0.00000000e+000...</td></tr>\n",
       "</tbody>\n",
       "</table>"
      ],
      "text/plain": [
       "<IPython.core.display.HTML object>"
      ]
     },
     "metadata": {},
     "output_type": "display_data"
    }
   ],
   "source": [
    "print_summary(m4, fmt=\"notebook\")"
   ]
  },
  {
   "cell_type": "code",
   "execution_count": 50,
   "metadata": {},
   "outputs": [
    {
     "data": {
      "image/png": "[encoded data removed]",
      "text/plain": [
       "<Figure size 1080x288 with 1 Axes>"
      ]
     },
     "metadata": {},
     "output_type": "display_data"
    },
    {
     "data": {
      "image/png": "[encoded data removed]",
      "text/plain": [
       "<Figure size 1080x288 with 1 Axes>"
      ]
     },
     "metadata": {},
     "output_type": "display_data"
    }
   ],
   "source": [
    "mean, var = m4.predict_f(X_train)\n",
    "plot_prediction(X_train, y_train, m4, intg=0, X_test=None, Y_test=None, num_samples=20)\n",
    "plot_model(y_train, np.exp(mean), var, intial_inducing_points=list(Zinit[:,0]), inducing_points_list=list(m4.inducing_variable.Z.numpy()[:,0]))"
   ]
  },
  {
   "cell_type": "code",
   "execution_count": null,
   "metadata": {},
   "outputs": [],
   "source": [
    "np.mean(var.numpy())"
   ]
  },
  {
   "cell_type": "code",
   "execution_count": 51,
   "metadata": {},
   "outputs": [
    {
     "data": {
      "image/png": "[encoded data removed]",
      "text/plain": [
       "<Figure size 1080x288 with 1 Axes>"
      ]
     },
     "metadata": {},
     "output_type": "display_data"
    }
   ],
   "source": [
    "# The test US data are\n",
    "\n",
    "mean_test, var_test = m4.predict_f(X_test)\n",
    "\n",
    "plot_model(y_test, np.exp(mean_test), var_test, test=True)"
   ]
  },
  {
   "cell_type": "code",
   "execution_count": null,
   "metadata": {},
   "outputs": [],
   "source": [
    "np.mean(var_test.numpy())"
   ]
  },
  {
   "cell_type": "code",
   "execution_count": 52,
   "metadata": {},
   "outputs": [
    {
     "name": "stdout",
     "output_type": "stream",
     "text": [
      "The within-sample (n=139) RMSE is: 0.76 and the out-of-sample (n=21) RMSE is: 1.948. The R^2 is: 0.17.\n"
     ]
    }
   ],
   "source": [
    "wsRMSE = np.round(np.sqrt(np.mean((y_train - np.exp(mean))**2)), 3)\n",
    "osRMSE = np.round(np.sqrt(np.mean((y_test - np.exp(mean_test))**2)), 3)\n",
    "R_sq = r_2(y_train, np.exp(mean))\n",
    "print(\"The within-sample (n={0}) RMSE is: {1} and the out-of-sample (n={2}) RMSE is: {3}. The R^2 is: {4}.\".format(X_train.shape[0], wsRMSE, X_test.shape[0], osRMSE, R_sq))"
   ]
  },
  {
   "cell_type": "code",
   "execution_count": 53,
   "metadata": {},
   "outputs": [
    {
     "name": "stdout",
     "output_type": "stream",
     "text": [
      "The week1 forecast is: 33516.0, week2 is: 39033.0, week3 is 38772.0, whole test set: 37107.0 and ratio 0.58.\n"
     ]
    }
   ],
   "source": [
    "# 7-days forecast (set 2020-07-07 to 2020-07-13)\n",
    "week1f = np.round(np.mean(final_data_us[\"ConfirmedChange\"].to_numpy()[split:split+7] - (np.exp(mean_test)[:7]*std_y + mean_y)), 0)\n",
    "# 14 days forecast (set 2020-07-14 to 2020-07-20)\n",
    "week2f = np.round(np.mean(final_data_us[\"ConfirmedChange\"].to_numpy()[split+7:split+14] - (np.exp(mean_test)[7:14]*std_y + mean_y)), 0)\n",
    "# 21 days forecast (set 2020-07-21 to 2020-07-27)\n",
    "week3f = np.round(np.mean(final_data_us[\"ConfirmedChange\"].to_numpy()[split+14:] - (np.exp(mean_test)[14:]*std_y + mean_y)), 0)\n",
    "# Whole forecat (set 2020-07-07 to 2020-07-27)\n",
    "forecst = np.round(np.mean(final_data_us[\"ConfirmedChange\"].to_numpy()[split:] - (np.exp(mean_test)*std_y + mean_y)), 0)\n",
    "# Difference of the forecast as a ratio of the daily cases (whole test set -- 21 days)\n",
    "diff_ratio = np.round(np.mean((final_data_us[\"ConfirmedChange\"].to_numpy()[split:] - (np.exp(mean_test)*std_y + mean_y))/final_data_us[\"ConfirmedChange\"].to_numpy()[split:]), 2)\n",
    "\n",
    "print(\"The week1 forecast is: {0}, week2 is: {1}, week3 is {2}, whole test set: {3} and ratio {4}.\".format(week1f, week2f, week3f, forecst, diff_ratio))"
   ]
  },
  {
   "cell_type": "markdown",
   "metadata": {},
   "source": [
    "[Back to Top](#top)"
   ]
  },
  {
   "cell_type": "markdown",
   "metadata": {},
   "source": [
    "## Alternative 2 <a id='M5'></a>"
   ]
  },
  {
   "cell_type": "markdown",
   "metadata": {},
   "source": [
    "$\\lambda(t)$ = $f$(S(t)I(t) + WEEKDAY(t) + HOME(t).avrgsmth(7) + WORK(t).avrgsmth(7) + OTHER(t).avrgsmth(7))"
   ]
  },
  {
   "cell_type": "code",
   "execution_count": null,
   "metadata": {},
   "outputs": [],
   "source": [
    "final_data_us[[\"HOME\", \"WORK\", \"OTHER\"]].rolling(7).mean().fillna(1)"
   ]
  },
  {
   "cell_type": "code",
   "execution_count": null,
   "metadata": {},
   "outputs": [],
   "source": [
    "y = final_data_us[\"ConfirmedChange\"].to_numpy()\n",
    "X = final_data_us[[\"SI\", \"WEEKDAY\", \"HOME\", \"WORK\", \"OTHER\"]].copy()\n",
    "X[[\"HOME\", \"WORK\", \"OTHER\"]] = final_data_us[[\"HOME\", \"WORK\", \"OTHER\"]].rolling(7).mean().fillna(1)\n",
    "X = X.to_numpy()\n",
    "\n",
    "\n",
    "y = preprocessing.scale(y)\n",
    "X = preprocessing.scale(X)\n",
    "\n",
    "split = 139\n",
    "\n",
    "y_train = y[:split]\n",
    "y_test = y[split:]\n",
    "\n",
    "X_train = X[:split]\n",
    "X_test = X[split:]\n",
    "\n",
    "y_train = y_train.reshape((-1,1))\n",
    "y_test = y_test.reshape((-1,1))"
   ]
  },
  {
   "cell_type": "code",
   "execution_count": null,
   "metadata": {},
   "outputs": [],
   "source": [
    "MTRN = gpflow.kernels.Matern32()\n",
    "k = MTRN\n",
    "\n",
    "SE = gpflow.kernels.SquaredExponential()\n",
    "LIN = gpflow.kernels.Linear()\n",
    "RQ = gpflow.kernels.RationalQuadratic()\n",
    "k = SE*LIN*RQ\n",
    "\n",
    "print_summary(k, fmt=\"notebook\")"
   ]
  },
  {
   "cell_type": "code",
   "execution_count": null,
   "metadata": {},
   "outputs": [],
   "source": [
    "# Initialise the inducing points\n",
    "Zinit = inducing_points(X_train, size=15)\n",
    "Zinit = Zinit.T"
   ]
  },
  {
   "cell_type": "code",
   "execution_count": null,
   "metadata": {},
   "outputs": [],
   "source": [
    "m5 = gpflow.models.SVGP(likelihood=gpflow.likelihoods.Gaussian(), kernel=k, inducing_variable=Zinit, \n",
    "                       num_data=X_train.shape[0])\n",
    "\n",
    "natgrad = NaturalGradient(gamma=1.0)\n",
    "adam = tf.optimizers.Adam(0.01)\n",
    "\n",
    "set_trainable(m5.q_mu, False)\n",
    "set_trainable(m5.q_sqrt, False)\n",
    "\n",
    "logf = []\n",
    "\n",
    "for _ in range(ci_niter(1000)):\n",
    "    adam.minimize(lambda:m5.training_loss((X_train, y_train)), m5.trainable_variables)\n",
    "    natgrad.minimize(lambda:m5.training_loss((X_train, y_train)), [(m5.q_mu, m5.q_sqrt)])   \n",
    "    logf.append(m5.elbo(((X_train, y_train))))"
   ]
  },
  {
   "cell_type": "code",
   "execution_count": null,
   "metadata": {},
   "outputs": [],
   "source": [
    "# ELBO\n",
    "plt.plot(logf)"
   ]
  },
  {
   "cell_type": "code",
   "execution_count": null,
   "metadata": {},
   "outputs": [],
   "source": [
    "mean, var = m5.predict_f(X_train)\n",
    "plot_prediction(X_train, y_train, m5, intg=0, X_test=None, Y_test=None, num_samples=20)\n",
    "plot_model(y_train, mean, var, intial_inducing_points=list(Zinit[:,0]), inducing_points_list=list(m5.inducing_variable.Z.numpy()[:,0]))"
   ]
  },
  {
   "cell_type": "code",
   "execution_count": null,
   "metadata": {},
   "outputs": [],
   "source": [
    "np.mean(var.numpy())"
   ]
  },
  {
   "cell_type": "code",
   "execution_count": null,
   "metadata": {
    "scrolled": true
   },
   "outputs": [],
   "source": [
    "# The test US data are\n",
    "\n",
    "mean_test, var_test = m5.predict_f(X_test)\n",
    "\n",
    "plot_model(y_test, mean_test, var_test, test=True)"
   ]
  },
  {
   "cell_type": "code",
   "execution_count": null,
   "metadata": {
    "scrolled": true
   },
   "outputs": [],
   "source": [
    "np.mean(var_test.numpy())"
   ]
  },
  {
   "cell_type": "code",
   "execution_count": null,
   "metadata": {},
   "outputs": [],
   "source": [
    "wsRMSE = np.round(np.sqrt(np.mean((y_train - mean.numpy())**2)), 3)\n",
    "osRMSE = np.round(np.sqrt(np.mean((y_test - mean_test.numpy())**2)), 3)\n",
    "R_sq = r_2(y_train, mean.numpy())\n",
    "print(\"The within-sample (n={0}) RMSE is: {1} and the out-of-sample (n={2}) RMSE is: {3}. The R^2 is: {4}.\".format(X_train.shape[0], wsRMSE, X_test.shape[0], osRMSE, R_sq))"
   ]
  },
  {
   "cell_type": "code",
   "execution_count": null,
   "metadata": {},
   "outputs": [],
   "source": [
    "# 7-days forecast (set 2020-07-07 to 2020-07-13)\n",
    "week1f = np.round(np.mean(final_data_us[\"ConfirmedChange\"].to_numpy()[split:split+7] - (mean_test.numpy()[:7]*std_y + mean_y)), 0)\n",
    "# 14 days forecast (set 2020-07-14 to 2020-07-20)\n",
    "week2f = np.round(np.mean(final_data_us[\"ConfirmedChange\"].to_numpy()[split+7:split+14] - (mean_test.numpy()[7:14]*std_y + mean_y)), 0)\n",
    "# 21 days forecast (set 2020-07-21 to 2020-07-27)\n",
    "week3f = np.round(np.mean(final_data_us[\"ConfirmedChange\"].to_numpy()[split+14:] - (mean_test.numpy()[14:]*std_y + mean_y)), 0)\n",
    "# Whole forecat (set 2020-07-07 to 2020-07-27)\n",
    "forecst = np.round(np.mean(final_data_us[\"ConfirmedChange\"].to_numpy()[split:] - (mean_test.numpy()*std_y + mean_y)), 0)\n",
    "# Difference of the forecast as a ratio of the daily cases (whole test set -- 21 days)\n",
    "diff_ratio = np.round(np.mean((final_data_us[\"ConfirmedChange\"].to_numpy()[split:] - (mean_test.numpy()*std_y + mean_y))/final_data_us[\"ConfirmedChange\"].to_numpy()[split:]), 2)\n",
    "\n",
    "print(\"The week1 forecast is: {0}, week2 is: {1}, week3 is {2}, whole test set: {3} and ratio {4}.\".format(week1f, week2f, week3f, forecst, diff_ratio))"
   ]
  },
  {
   "cell_type": "markdown",
   "metadata": {},
   "source": [
    "[Back to Top](#top)"
   ]
  },
  {
   "cell_type": "markdown",
   "metadata": {},
   "source": [
    "## Alternative Model 2: Test the Effect of Mobility Data  <a id='M6'></a>"
   ]
  },
  {
   "cell_type": "markdown",
   "metadata": {},
   "source": [
    "$\\lambda(t)$ = $f$(S(t)I(t) + WKDAY(t) + WORK(t) + OTHER(t))"
   ]
  },
  {
   "cell_type": "code",
   "execution_count": null,
   "metadata": {},
   "outputs": [],
   "source": [
    "y = final_data_us[\"ConfirmedChange\"].to_numpy()\n",
    "X = final_data_us[[\"SI\", \"WEEKDAY\", \"WORK\", \"OTHER\"]].copy()\n",
    "X = X.to_numpy()\n",
    "\n",
    "\n",
    "y = preprocessing.scale(y)\n",
    "X = preprocessing.scale(X)\n",
    "\n",
    "split = 139\n",
    "\n",
    "y_train = y[:split]\n",
    "y_test = y[split:]\n",
    "\n",
    "X_train = X[:split]\n",
    "X_test = X[split:]\n",
    "\n",
    "y_train = y_train.reshape((-1,1))\n",
    "y_test = y_test.reshape((-1,1))"
   ]
  },
  {
   "cell_type": "code",
   "execution_count": null,
   "metadata": {},
   "outputs": [],
   "source": [
    "plt.figure(figsize=(15, 4))\n",
    "plt.plot(final_data_us[[\"Updated\"]], X[:,3], label=\"OTHER\")\n",
    "plt.plot(final_data_us[[\"Updated\"]], X[:,2], label=\"WORK\")\n",
    "plt.plot(final_data_us[[\"Updated\"]], X[:,0], label=\"SI\")\n",
    "plt.plot(final_data_us[[\"Updated\"]], y, label=\"Daily Covid Cases\")\n",
    "plt.legend(loc='upper left')"
   ]
  },
  {
   "cell_type": "code",
   "execution_count": null,
   "metadata": {},
   "outputs": [],
   "source": [
    "MTRN = gpflow.kernels.Matern32()\n",
    "k = MTRN\n",
    "\n",
    "SE = gpflow.kernels.SquaredExponential()\n",
    "LIN = gpflow.kernels.Linear()\n",
    "RQ = gpflow.kernels.RationalQuadratic()\n",
    "k = SE*LIN*RQ\n",
    "\n",
    "print_summary(k, fmt=\"notebook\")"
   ]
  },
  {
   "cell_type": "code",
   "execution_count": null,
   "metadata": {},
   "outputs": [],
   "source": [
    "# Initialise the inducing points\n",
    "Zinit = inducing_points(X_train, size=15)\n",
    "Zinit = Zinit.T"
   ]
  },
  {
   "cell_type": "code",
   "execution_count": null,
   "metadata": {},
   "outputs": [],
   "source": [
    "m6 = gpflow.models.SVGP(likelihood=gpflow.likelihoods.Gaussian(), kernel=k, inducing_variable=Zinit, \n",
    "                       num_data=X_train.shape[0])\n",
    "\n",
    "natgrad = NaturalGradient(gamma=1.0)\n",
    "adam = tf.optimizers.Adam(0.01)\n",
    "\n",
    "set_trainable(m6.q_mu, False)\n",
    "set_trainable(m6.q_sqrt, False)\n",
    "\n",
    "logf = []\n",
    "\n",
    "for _ in range(ci_niter(1000)):\n",
    "    adam.minimize(lambda:m6.training_loss((X_train, y_train)), m6.trainable_variables)\n",
    "    natgrad.minimize(lambda:m6.training_loss((X_train, y_train)), [(m6.q_mu, m6.q_sqrt)])   \n",
    "    logf.append(m6.elbo(((X_train, y_train))))"
   ]
  },
  {
   "cell_type": "code",
   "execution_count": null,
   "metadata": {},
   "outputs": [],
   "source": [
    "# ELBO\n",
    "plt.plot(logf)"
   ]
  },
  {
   "cell_type": "code",
   "execution_count": null,
   "metadata": {},
   "outputs": [],
   "source": [
    "mean, var = m6.predict_f(X_train)\n",
    "plot_prediction(X_train, y_train, m6, intg=0, X_test=None, Y_test=None, num_samples=20)\n",
    "plot_model(y_train, mean, var, intial_inducing_points=list(Zinit[:,0]), inducing_points_list=list(m6.inducing_variable.Z.numpy()[:,0]))"
   ]
  },
  {
   "cell_type": "code",
   "execution_count": null,
   "metadata": {},
   "outputs": [],
   "source": [
    "np.mean(var.numpy())"
   ]
  },
  {
   "cell_type": "code",
   "execution_count": null,
   "metadata": {},
   "outputs": [],
   "source": [
    "\n",
    "mean_test, var_test = m6.predict_f(X_test)\n",
    "\n",
    "plot_model(y_test, mean_test, var_test, test=True)"
   ]
  },
  {
   "cell_type": "code",
   "execution_count": null,
   "metadata": {},
   "outputs": [],
   "source": [
    "np.mean(var_test.numpy())"
   ]
  },
  {
   "cell_type": "code",
   "execution_count": null,
   "metadata": {},
   "outputs": [],
   "source": [
    "wsRMSE = np.round(np.sqrt(np.mean((y_train - mean.numpy())**2)), 3)\n",
    "osRMSE = np.round(np.sqrt(np.mean((y_test - mean_test.numpy())**2)), 3)\n",
    "R_sq = r_2(y_train, mean.numpy())\n",
    "print(\"The within-sample (n={0}) RMSE is: {1} and the out-of-sample (n={2}) RMSE is: {3}. The R^2 is: {4}.\".format(X_train.shape[0], wsRMSE, X_test.shape[0], osRMSE, R_sq))"
   ]
  },
  {
   "cell_type": "code",
   "execution_count": null,
   "metadata": {},
   "outputs": [],
   "source": [
    "# 7-days forecast (set 2020-07-07 to 2020-07-13)\n",
    "week1f = np.round(np.mean(final_data_us[\"ConfirmedChange\"].to_numpy()[split:split+7] - (mean_test.numpy()[:7]*std_y + mean_y)), 0)\n",
    "# 14 days forecast (set 2020-07-14 to 2020-07-20)\n",
    "week2f = np.round(np.mean(final_data_us[\"ConfirmedChange\"].to_numpy()[split+7:split+14] - (mean_test.numpy()[7:14]*std_y + mean_y)), 0)\n",
    "# 21 days forecast (set 2020-07-21 to 2020-07-27)\n",
    "week3f = np.round(np.mean(final_data_us[\"ConfirmedChange\"].to_numpy()[split+14:] - (mean_test.numpy()[14:]*std_y + mean_y)), 0)\n",
    "# Whole forecat (set 2020-07-07 to 2020-07-27)\n",
    "forecst = np.round(np.mean(final_data_us[\"ConfirmedChange\"].to_numpy()[split:] - (mean_test.numpy()*std_y + mean_y)), 0)\n",
    "# Difference of the forecast as a ratio of the daily cases (whole test set -- 21 days)\n",
    "diff_ratio = np.round(np.mean((final_data_us[\"ConfirmedChange\"].to_numpy()[split:] - (mean_test.numpy()*std_y + mean_y))/final_data_us[\"ConfirmedChange\"].to_numpy()[split:]), 2)\n",
    "\n",
    "print(\"The week1 forecast is: {0}, week2 is: {1}, week3 is {2}, whole test set: {3} and ratio {4}.\".format(week1f, week2f, week3f, forecst, diff_ratio))"
   ]
  },
  {
   "cell_type": "markdown",
   "metadata": {},
   "source": [
    "[Back to Top](#top)"
   ]
  },
  {
   "cell_type": "markdown",
   "metadata": {},
   "source": [
    " "
   ]
  },
  {
   "cell_type": "markdown",
   "metadata": {},
   "source": [
    "## Model 7: <a id='M7'></a>"
   ]
  },
  {
   "cell_type": "markdown",
   "metadata": {},
   "source": [
    "$\\lambda(t)$ = $f$(S(t)I(t) + WKDAY(t) + HOME(t))"
   ]
  },
  {
   "cell_type": "code",
   "execution_count": null,
   "metadata": {},
   "outputs": [],
   "source": [
    "y = final_data_us[\"ConfirmedChange\"].to_numpy()\n",
    "X = final_data_us[[\"SI\", \"WEEKDAY\", \"HOME\"]].copy()\n",
    "X = X.to_numpy()\n",
    "\n",
    "\n",
    "y = preprocessing.scale(y)\n",
    "X = preprocessing.scale(X)\n",
    "\n",
    "split = 139\n",
    "\n",
    "y_train = y[:split]\n",
    "y_test = y[split:]\n",
    "\n",
    "X_train = X[:split]\n",
    "X_test = X[split:]\n",
    "\n",
    "y_train = y_train.reshape((-1,1))\n",
    "y_test = y_test.reshape((-1,1))"
   ]
  },
  {
   "cell_type": "code",
   "execution_count": null,
   "metadata": {},
   "outputs": [],
   "source": [
    "plt.figure(figsize=(15, 4))\n",
    "plt.plot(final_data_us[[\"Updated\"]], X[:,2], label=\"HOME\")\n",
    "plt.plot(final_data_us[[\"Updated\"]], X[:,0], label=\"SI\")\n",
    "plt.plot(final_data_us[[\"Updated\"]], y, label=\"Daily Covid Cases\")\n",
    "plt.legend(loc='upper left')"
   ]
  },
  {
   "cell_type": "code",
   "execution_count": null,
   "metadata": {},
   "outputs": [],
   "source": [
    "MTRN = gpflow.kernels.Matern32()\n",
    "k = MTRN\n",
    "\n",
    "SE = gpflow.kernels.SquaredExponential()\n",
    "LIN = gpflow.kernels.Linear()\n",
    "RQ = gpflow.kernels.RationalQuadratic()\n",
    "k = SE*LIN*RQ\n",
    "\n",
    "print_summary(k, fmt=\"notebook\")"
   ]
  },
  {
   "cell_type": "code",
   "execution_count": null,
   "metadata": {},
   "outputs": [],
   "source": [
    "# Initialise the inducing points\n",
    "Zinit = inducing_points(X_train, size=15)\n",
    "Zinit = Zinit.T"
   ]
  },
  {
   "cell_type": "code",
   "execution_count": null,
   "metadata": {},
   "outputs": [],
   "source": [
    "m7 = gpflow.models.SVGP(likelihood=gpflow.likelihoods.Gaussian(), kernel=k, inducing_variable=Zinit, \n",
    "                       num_data=X_train.shape[0])\n",
    "\n",
    "natgrad = NaturalGradient(gamma=1.0)\n",
    "adam = tf.optimizers.Adam(0.01)\n",
    "\n",
    "set_trainable(m7.q_mu, False)\n",
    "set_trainable(m7.q_sqrt, False)\n",
    "\n",
    "logf = []\n",
    "\n",
    "for _ in range(ci_niter(1000)):\n",
    "    adam.minimize(lambda:m7.training_loss((X_train, y_train)), m7.trainable_variables)\n",
    "    natgrad.minimize(lambda:m7.training_loss((X_train, y_train)), [(m7.q_mu, m7.q_sqrt)])   \n",
    "    logf.append(m7.elbo(((X_train, y_train))))"
   ]
  },
  {
   "cell_type": "code",
   "execution_count": null,
   "metadata": {},
   "outputs": [],
   "source": [
    "# ELBO\n",
    "plt.plot(logf)"
   ]
  },
  {
   "cell_type": "code",
   "execution_count": null,
   "metadata": {},
   "outputs": [],
   "source": [
    "mean, var = m7.predict_f(X_train)\n",
    "plot_prediction(X_train, y_train, m7, intg=0, X_test=None, Y_test=None, num_samples=20)\n",
    "plot_model(y_train, mean, var, intial_inducing_points=list(Zinit[:,0]), inducing_points_list=list(m7.inducing_variable.Z.numpy()[:,0]))"
   ]
  },
  {
   "cell_type": "code",
   "execution_count": null,
   "metadata": {},
   "outputs": [],
   "source": [
    "np.mean(var_test.numpy())"
   ]
  },
  {
   "cell_type": "code",
   "execution_count": null,
   "metadata": {
    "scrolled": true
   },
   "outputs": [],
   "source": [
    "mean_test, var_test = m7.predict_f(X_test)\n",
    "\n",
    "plot_model(y_test, mean_test, var_test, test=True)"
   ]
  },
  {
   "cell_type": "code",
   "execution_count": null,
   "metadata": {},
   "outputs": [],
   "source": [
    "np.mean(var_test.numpy())"
   ]
  },
  {
   "cell_type": "code",
   "execution_count": null,
   "metadata": {},
   "outputs": [],
   "source": [
    "wsRMSE = np.round(np.sqrt(np.mean((y_train - mean.numpy())**2)), 3)\n",
    "osRMSE = np.round(np.sqrt(np.mean((y_test - mean_test.numpy())**2)), 3)\n",
    "R_sq = r_2(y_train, mean.numpy())\n",
    "print(\"The within-sample (n={0}) RMSE is: {1} and the out-of-sample (n={2}) RMSE is: {3}. The R^2 is: {4}.\".format(X_train.shape[0], wsRMSE, X_test.shape[0], osRMSE, R_sq))"
   ]
  },
  {
   "cell_type": "code",
   "execution_count": null,
   "metadata": {},
   "outputs": [],
   "source": [
    "# 7-days forecast (set 2020-07-07 to 2020-07-13)\n",
    "week1f = np.round(np.mean(final_data_us[\"ConfirmedChange\"].to_numpy()[split:split+7] - (mean_test.numpy()[:7]*std_y + mean_y)), 0)\n",
    "# 14 days forecast (set 2020-07-14 to 2020-07-20)\n",
    "week2f = np.round(np.mean(final_data_us[\"ConfirmedChange\"].to_numpy()[split+7:split+14] - (mean_test.numpy()[7:14]*std_y + mean_y)), 0)\n",
    "# 21 days forecast (set 2020-07-21 to 2020-07-27)\n",
    "week3f = np.round(np.mean(final_data_us[\"ConfirmedChange\"].to_numpy()[split+14:] - (mean_test.numpy()[14:]*std_y + mean_y)), 0)\n",
    "# Whole forecat (set 2020-07-07 to 2020-07-27)\n",
    "forecst = np.round(np.mean(final_data_us[\"ConfirmedChange\"].to_numpy()[split:] - (mean_test.numpy()*std_y + mean_y)), 0)\n",
    "# Difference of the forecast as a ratio of the daily cases (whole test set -- 21 days)\n",
    "diff_ratio = np.round(np.mean((final_data_us[\"ConfirmedChange\"].to_numpy()[split:] - (mean_test.numpy()*std_y + mean_y))/final_data_us[\"ConfirmedChange\"].to_numpy()[split:]), 2)\n",
    "\n",
    "print(\"The week1 forecast is: {0}, week2 is: {1}, week3 is {2}, whole test set: {3} and ratio {4}.\".format(week1f, week2f, week3f, forecst, diff_ratio))"
   ]
  },
  {
   "cell_type": "markdown",
   "metadata": {},
   "source": [
    "[Back to Top](#top)"
   ]
  },
  {
   "cell_type": "markdown",
   "metadata": {},
   "source": [
    "## Model 10: <a id='M10'></a>"
   ]
  },
  {
   "cell_type": "markdown",
   "metadata": {},
   "source": [
    "$\\gamma(t)$ = $f$(I(t) + WKDAY(t) + HOME(t))"
   ]
  },
  {
   "cell_type": "code",
   "execution_count": null,
   "metadata": {},
   "outputs": [],
   "source": [
    "y = final_data_us[\"RecoveredChange\"].to_numpy()\n",
    "X = final_data_us[[\"I\", \"WEEKDAY\", \"HOME\"]].copy()\n",
    "X = X.to_numpy()\n",
    "\n",
    "\n",
    "y = preprocessing.scale(y)\n",
    "X = preprocessing.scale(X)\n",
    "\n",
    "#y = y.clip(-2, 0.2)\n",
    "\n",
    "split = 139\n",
    "\n",
    "y_train = y[:split]\n",
    "y_test = y[split:]\n",
    "\n",
    "X_train = X[:split]\n",
    "X_test = X[split:]\n",
    "\n",
    "y_train = y_train.reshape((-1,1))\n",
    "y_test = y_test.reshape((-1,1))"
   ]
  },
  {
   "cell_type": "code",
   "execution_count": null,
   "metadata": {},
   "outputs": [],
   "source": [
    "plt.figure(figsize=(15, 4))\n",
    "plt.plot(final_data_us[[\"Updated\"]], X[:,2], label=\"HOME\")\n",
    "plt.plot(final_data_us[[\"Updated\"]], X[:,0], label=\"I\")\n",
    "plt.plot(final_data_us[[\"Updated\"]], y, label=\"Daily Covid Recovered Cases\")\n",
    "plt.legend(loc='upper left')"
   ]
  },
  {
   "cell_type": "code",
   "execution_count": null,
   "metadata": {},
   "outputs": [],
   "source": [
    "MTRN = gpflow.kernels.Matern32()\n",
    "k = MTRN\n",
    "\n",
    "SE = gpflow.kernels.SquaredExponential()\n",
    "LIN = gpflow.kernels.Linear()\n",
    "RQ = gpflow.kernels.RationalQuadratic()\n",
    "k = SE*LIN*RQ\n",
    "\n",
    "print_summary(k, fmt=\"notebook\")"
   ]
  },
  {
   "cell_type": "code",
   "execution_count": null,
   "metadata": {},
   "outputs": [],
   "source": [
    "# Initialise the inducing points\n",
    "Zinit = inducing_points(X_train, size=15)\n",
    "Zinit = Zinit.T"
   ]
  },
  {
   "cell_type": "code",
   "execution_count": null,
   "metadata": {},
   "outputs": [],
   "source": [
    "m10 = gpflow.models.SVGP(likelihood=gpflow.likelihoods.Gaussian(), kernel=k, inducing_variable=Zinit, \n",
    "                       num_data=X_train.shape[0])\n",
    "\n",
    "natgrad = NaturalGradient(gamma=1.0)\n",
    "adam = tf.optimizers.Adam(0.01)\n",
    "\n",
    "set_trainable(m10.q_mu, False)\n",
    "set_trainable(m10.q_sqrt, False)\n",
    "\n",
    "logf = []\n",
    "\n",
    "for _ in range(ci_niter(1000)):\n",
    "    adam.minimize(lambda:m10.training_loss((X_train, y_train)), m10.trainable_variables)\n",
    "    natgrad.minimize(lambda:m10.training_loss((X_train, y_train)), [(m10.q_mu, m10.q_sqrt)])   \n",
    "    logf.append(m10.elbo(((X_train, y_train))))"
   ]
  },
  {
   "cell_type": "code",
   "execution_count": null,
   "metadata": {},
   "outputs": [],
   "source": [
    "# ELBO\n",
    "plt.plot(logf)"
   ]
  },
  {
   "cell_type": "code",
   "execution_count": null,
   "metadata": {},
   "outputs": [],
   "source": [
    "mean, var = m10.predict_f(X_train)\n",
    "plot_prediction(X_train, y_train, m10, intg=0, X_test=None, Y_test=None, num_samples=20)\n",
    "plot_model(y_train, mean, var, intial_inducing_points=list(Zinit[:,0]), inducing_points_list=list(m10.inducing_variable.Z.numpy()[:,0]))"
   ]
  },
  {
   "cell_type": "code",
   "execution_count": null,
   "metadata": {},
   "outputs": [],
   "source": [
    "np.mean(var.numpy())"
   ]
  },
  {
   "cell_type": "code",
   "execution_count": null,
   "metadata": {},
   "outputs": [],
   "source": [
    "mean_test, var_test = m7.predict_f(X_test)\n",
    "\n",
    "plot_model(y_test, mean_test, var_test, test=True)"
   ]
  },
  {
   "cell_type": "code",
   "execution_count": null,
   "metadata": {},
   "outputs": [],
   "source": [
    "np.mean(var_test.numpy())"
   ]
  },
  {
   "cell_type": "code",
   "execution_count": null,
   "metadata": {},
   "outputs": [],
   "source": [
    "wsRMSE = np.round(np.sqrt(np.mean((y_train - mean.numpy())**2)), 3)\n",
    "osRMSE = np.round(np.sqrt(np.mean((y_test - mean_test.numpy())**2)), 3)\n",
    "R_sq = r_2(y_train, mean.numpy())\n",
    "print(\"The within-sample (n={0}) RMSE is: {1} and the out-of-sample (n={2}) RMSE is: {3}. The R^2 is: {4}.\".format(X_train.shape[0], wsRMSE, X_test.shape[0], osRMSE, R_sq))"
   ]
  },
  {
   "cell_type": "code",
   "execution_count": null,
   "metadata": {},
   "outputs": [],
   "source": [
    "# 7-days forecast (set 2020-07-07 to 2020-07-13)\n",
    "week1f = np.round(np.mean(final_data_us[\"RecoveredChange\"].to_numpy()[split:split+7] - (mean_test.numpy()[:7]*std_rcap + mean_rcap)), 0)\n",
    "# 14 days forecast (set 2020-07-14 to 2020-07-20)\n",
    "week2f = np.round(np.mean(final_data_us[\"RecoveredChange\"].to_numpy()[split+7:split+14] - (mean_test.numpy()[7:14]*std_rcap + mean_rcap)), 0)\n",
    "# 21 days forecast (set 2020-07-21 to 2020-07-27)\n",
    "week3f = np.round(np.mean(final_data_us[\"RecoveredChange\"].to_numpy()[split+14:] - (mean_test.numpy()[14:]*std_rcap + mean_rcap)), 0)\n",
    "# Whole forecat (set 2020-07-07 to 2020-07-27)\n",
    "forecst = np.round(np.mean(final_data_us[\"RecoveredChange\"].to_numpy()[split:] - (mean_test.numpy()*std_rcap + mean_rcap)), 0)\n",
    "# Difference of the forecast as a ratio of the daily cases (whole test set -- 21 days)\n",
    "diff_ratio = np.round(np.mean((final_data_us[\"RecoveredChange\"].to_numpy()[split:] - (mean_test.numpy()*std_rcap + mean_rcap))/(final_data_us[\"RecoveredChange\"].to_numpy()[split:] + 0.001)), 2)\n",
    "\n",
    "print(\"The week1 forecast is: {0}, week2 is: {1}, week3 is {2}, whole test set: {3} and ratio {4}.\".format(week1f, week2f, week3f, forecst, diff_ratio))"
   ]
  },
  {
   "cell_type": "code",
   "execution_count": null,
   "metadata": {},
   "outputs": [],
   "source": [
    "final_data_us[\"RecoveredChange\"].to_numpy()[split:]"
   ]
  },
  {
   "cell_type": "code",
   "execution_count": null,
   "metadata": {},
   "outputs": [],
   "source": [
    "(mean_test.numpy()*std_rcap + mean_rcap)"
   ]
  },
  {
   "cell_type": "markdown",
   "metadata": {},
   "source": [
    "[Back to Top](#top)"
   ]
  },
  {
   "cell_type": "markdown",
   "metadata": {},
   "source": [
    "## Model 11: <a id='M11'></a>"
   ]
  },
  {
   "cell_type": "markdown",
   "metadata": {},
   "source": [
    "$\\gamma(t)$ = $f$(I(t) + WKDAY(t) + WORK(t) + OTHER(t))"
   ]
  },
  {
   "cell_type": "code",
   "execution_count": null,
   "metadata": {},
   "outputs": [],
   "source": [
    "y = final_data_us[\"RecoveredChange\"].to_numpy()\n",
    "X = final_data_us[[\"I\", \"WEEKDAY\", \"WORK\", \"OTHER\"]].copy()\n",
    "X = X.to_numpy()\n",
    "\n",
    "\n",
    "y = preprocessing.scale(y)\n",
    "X = preprocessing.scale(X)\n",
    "\n",
    "split = 139\n",
    "\n",
    "y_train = y[:split]\n",
    "y_test = y[split:]\n",
    "\n",
    "X_train = X[:split]\n",
    "X_test = X[split:]\n",
    "\n",
    "y_train = y_train.reshape((-1,1))\n",
    "y_test = y_test.reshape((-1,1))"
   ]
  },
  {
   "cell_type": "code",
   "execution_count": null,
   "metadata": {},
   "outputs": [],
   "source": [
    "MTRN = gpflow.kernels.Matern32()\n",
    "k = MTRN\n",
    "\n",
    "SE = gpflow.kernels.SquaredExponential()\n",
    "LIN = gpflow.kernels.Linear()\n",
    "RQ = gpflow.kernels.RationalQuadratic()\n",
    "k = SE*LIN*RQ\n",
    "\n",
    "print_summary(k, fmt=\"notebook\")"
   ]
  },
  {
   "cell_type": "code",
   "execution_count": null,
   "metadata": {},
   "outputs": [],
   "source": [
    "# Initialise the inducing points\n",
    "Zinit = inducing_points(X_train, size=15)\n",
    "Zinit = Zinit.T"
   ]
  },
  {
   "cell_type": "code",
   "execution_count": null,
   "metadata": {},
   "outputs": [],
   "source": [
    "m10 = gpflow.models.SVGP(likelihood=gpflow.likelihoods.Gaussian(), kernel=k, inducing_variable=Zinit, \n",
    "                       num_data=X_train.shape[0])\n",
    "\n",
    "natgrad = NaturalGradient(gamma=1.0)\n",
    "adam = tf.optimizers.Adam(0.01)\n",
    "\n",
    "set_trainable(m10.q_mu, False)\n",
    "set_trainable(m10.q_sqrt, False)\n",
    "\n",
    "logf = []\n",
    "\n",
    "for _ in range(ci_niter(1000)):\n",
    "    adam.minimize(lambda:m10.training_loss((X_train, y_train)), m10.trainable_variables)\n",
    "    natgrad.minimize(lambda:m10.training_loss((X_train, y_train)), [(m10.q_mu, m10.q_sqrt)])   \n",
    "    logf.append(m10.elbo(((X_train, y_train))))"
   ]
  },
  {
   "cell_type": "code",
   "execution_count": null,
   "metadata": {},
   "outputs": [],
   "source": [
    "# ELBO\n",
    "plt.plot(logf)"
   ]
  },
  {
   "cell_type": "code",
   "execution_count": null,
   "metadata": {},
   "outputs": [],
   "source": [
    "mean, var = m10.predict_f(X_train)\n",
    "plot_prediction(X_train, y_train, m10, intg=0, X_test=None, Y_test=None, num_samples=20)\n",
    "plot_model(y_train, mean, var, intial_inducing_points=list(Zinit[:,0]), inducing_points_list=list(m10.inducing_variable.Z.numpy()[:,0]))"
   ]
  },
  {
   "cell_type": "code",
   "execution_count": null,
   "metadata": {},
   "outputs": [],
   "source": [
    "np.mean(var.numpy())"
   ]
  },
  {
   "cell_type": "code",
   "execution_count": null,
   "metadata": {},
   "outputs": [],
   "source": [
    "mean_test, var_test = m10.predict_f(X_test)\n",
    "\n",
    "plot_model(y_test, mean_test, var_test, test=True)"
   ]
  },
  {
   "cell_type": "code",
   "execution_count": null,
   "metadata": {},
   "outputs": [],
   "source": [
    "np.mean(var_test.numpy())"
   ]
  },
  {
   "cell_type": "code",
   "execution_count": null,
   "metadata": {},
   "outputs": [],
   "source": [
    "wsRMSE = np.round(np.sqrt(np.mean((y_train - mean.numpy())**2)), 3)\n",
    "osRMSE = np.round(np.sqrt(np.mean((y_test - mean_test.numpy())**2)), 3)\n",
    "R_sq = r_2(y_train, mean.numpy())\n",
    "print(\"The within-sample (n={0}) RMSE is: {1} and the out-of-sample (n={2}) RMSE is: {3}. The R^2 is: {4}.\".format(X_train.shape[0], wsRMSE, X_test.shape[0], osRMSE, R_sq))"
   ]
  },
  {
   "cell_type": "code",
   "execution_count": null,
   "metadata": {},
   "outputs": [],
   "source": [
    "# 7-days forecast (set 2020-07-07 to 2020-07-13)\n",
    "week1f = np.round(np.mean(final_data_us[\"RecoveredChange\"].to_numpy()[split:split+7] - (mean_test.numpy()[:7]*std_rcap + mean_rcap)), 0)\n",
    "# 14 days forecast (set 2020-07-14 to 2020-07-20)\n",
    "week2f = np.round(np.mean(final_data_us[\"RecoveredChange\"].to_numpy()[split+7:split+14] - (mean_test.numpy()[7:14]*std_rcap + mean_rcap)), 0)\n",
    "# 21 days forecast (set 2020-07-21 to 2020-07-27)\n",
    "week3f = np.round(np.mean(final_data_us[\"RecoveredChange\"].to_numpy()[split+14:] - (mean_test.numpy()[14:]*std_rcap + mean_rcap)), 0)\n",
    "# Whole forecat (set 2020-07-07 to 2020-07-27)\n",
    "forecst = np.round(np.mean(final_data_us[\"RecoveredChange\"].to_numpy()[split:] - (mean_test.numpy()*std_rcap + mean_rcap)), 0)\n",
    "# Difference of the forecast as a ratio of the daily cases (whole test set -- 21 days)\n",
    "diff_ratio = np.round(np.mean((final_data_us[\"RecoveredChange\"].to_numpy()[split:] - (mean_test.numpy()*std_rcap + mean_rcap))/(final_data_us[\"RecoveredChange\"].to_numpy()[split:] + 0.001)), 2)\n",
    "\n",
    "print(\"The week1 forecast is: {0}, week2 is: {1}, week3 is {2}, whole test set: {3} and ratio {4}.\".format(week1f, week2f, week3f, forecst, diff_ratio))"
   ]
  },
  {
   "cell_type": "markdown",
   "metadata": {},
   "source": [
    "[Back to Top](#top)"
   ]
  },
  {
   "cell_type": "markdown",
   "metadata": {},
   "source": [
    "## Model 12:"
   ]
  },
  {
   "cell_type": "markdown",
   "metadata": {},
   "source": [
    "$\\gamma(t)$ = $f$(S(t)I(t) + WKDAY(t) + WORK(t) + OTHER(t))"
   ]
  },
  {
   "cell_type": "code",
   "execution_count": null,
   "metadata": {},
   "outputs": [],
   "source": [
    "y = final_data_us[\"RecoveredChange\"].to_numpy()\n",
    "X = final_data_us[[\"SI\", \"WEEKDAY\", \"HOME\"]].copy()\n",
    "X = X.to_numpy()\n",
    "\n",
    "\n",
    "y = preprocessing.scale(y)\n",
    "X = preprocessing.scale(X)\n",
    "\n",
    "split = 139\n",
    "\n",
    "y_train = y[:split]\n",
    "y_test = y[split:]\n",
    "\n",
    "X_train = X[:split]\n",
    "X_test = X[split:]\n",
    "\n",
    "y_train = y_train.reshape((-1,1))\n",
    "y_test = y_test.reshape((-1,1))"
   ]
  },
  {
   "cell_type": "code",
   "execution_count": null,
   "metadata": {},
   "outputs": [],
   "source": [
    "MTRN = gpflow.kernels.Matern32()\n",
    "k = MTRN\n",
    "\n",
    "SE = gpflow.kernels.SquaredExponential()\n",
    "LIN = gpflow.kernels.Linear()\n",
    "RQ = gpflow.kernels.RationalQuadratic()\n",
    "k = SE*LIN*RQ\n",
    "\n",
    "print_summary(k, fmt=\"notebook\")"
   ]
  },
  {
   "cell_type": "code",
   "execution_count": null,
   "metadata": {},
   "outputs": [],
   "source": [
    "# Initialise the inducing points\n",
    "Zinit = inducing_points(X_train, size=15)\n",
    "Zinit = Zinit.T"
   ]
  },
  {
   "cell_type": "code",
   "execution_count": null,
   "metadata": {},
   "outputs": [],
   "source": [
    "m9 = gpflow.models.SVGP(likelihood=gpflow.likelihoods.Gaussian(), kernel=k, inducing_variable=Zinit, \n",
    "                       num_data=X_train.shape[0])\n",
    "\n",
    "natgrad = NaturalGradient(gamma=1.0)\n",
    "adam = tf.optimizers.Adam(0.01)\n",
    "\n",
    "set_trainable(m9.q_mu, False)\n",
    "set_trainable(m9.q_sqrt, False)\n",
    "\n",
    "logf = []\n",
    "\n",
    "for _ in range(ci_niter(1000)):\n",
    "    adam.minimize(lambda:m9.training_loss((X_train, y_train)), m9.trainable_variables)\n",
    "    natgrad.minimize(lambda:m9.training_loss((X_train, y_train)), [(m9.q_mu, m9.q_sqrt)])   \n",
    "    logf.append(m9.elbo(((X_train, y_train))))"
   ]
  },
  {
   "cell_type": "code",
   "execution_count": null,
   "metadata": {},
   "outputs": [],
   "source": [
    "# ELBO\n",
    "plt.plot(logf)"
   ]
  },
  {
   "cell_type": "code",
   "execution_count": null,
   "metadata": {},
   "outputs": [],
   "source": [
    "mean, var = m9.predict_f(X_train)\n",
    "plot_prediction(X_train, y_train, m9, intg=0, X_test=None, Y_test=None, num_samples=20)\n",
    "plot_model(y_train, mean, var, intial_inducing_points=list(Zinit[:,1]), inducing_points_list=list(m9.inducing_variable.Z.numpy()[:,1]), x_ind=1)"
   ]
  },
  {
   "cell_type": "code",
   "execution_count": null,
   "metadata": {},
   "outputs": [],
   "source": [
    "np.mean(var.numpy())"
   ]
  },
  {
   "cell_type": "code",
   "execution_count": null,
   "metadata": {},
   "outputs": [],
   "source": [
    "# The test US data are\n",
    "\n",
    "mean_test, var_test = m9.predict_f(X_test)\n",
    "\n",
    "plot_model(y_test, mean_test, var_test, test=True)"
   ]
  },
  {
   "cell_type": "code",
   "execution_count": null,
   "metadata": {},
   "outputs": [],
   "source": [
    "np.mean(var_test.numpy())"
   ]
  },
  {
   "cell_type": "code",
   "execution_count": null,
   "metadata": {},
   "outputs": [],
   "source": [
    "wsRMSE = np.round(np.sqrt(np.mean((y_train - mean.numpy())**2)), 3)\n",
    "osRMSE = np.round(np.sqrt(np.mean((y_test - mean_test.numpy())**2)), 3)\n",
    "R_sq = r_2(y_train, mean.numpy())\n",
    "print(\"The within-sample (n={0}) RMSE is: {1} and the out-of-sample (n={2}) RMSE is: {3}. The R^2 is: {4}.\".format(X_train.shape[0], wsRMSE, X_test.shape[0], osRMSE, R_sq))"
   ]
  },
  {
   "cell_type": "code",
   "execution_count": null,
   "metadata": {},
   "outputs": [],
   "source": [
    "# 7-days forecast (set 2020-07-07 to 2020-07-13)\n",
    "week1f = np.round(np.mean(final_data_us[\"ConfirmedChange\"].to_numpy()[split:split+7] - (mean_test.numpy()[:7]*std_y + mean_y)), 0)\n",
    "# 14 days forecast (set 2020-07-14 to 2020-07-20)\n",
    "week2f = np.round(np.mean(final_data_us[\"ConfirmedChange\"].to_numpy()[split+7:split+14] - (mean_test.numpy()[7:14]*std_y + mean_y)), 0)\n",
    "# 21 days forecast (set 2020-07-21 to 2020-07-27)\n",
    "week3f = np.round(np.mean(final_data_us[\"ConfirmedChange\"].to_numpy()[split+14:] - (mean_test.numpy()[14:]*std_y + mean_y)), 0)\n",
    "# Whole forecat (set 2020-07-07 to 2020-07-27)\n",
    "forecst = np.round(np.mean(final_data_us[\"ConfirmedChange\"].to_numpy()[split:] - (mean_test.numpy()*std_y + mean_y)), 0)\n",
    "# Difference of the forecast as a ratio of the daily cases (whole test set -- 21 days)\n",
    "diff_ratio = np.round(np.mean((final_data_us[\"ConfirmedChange\"].to_numpy()[split:] - (mean_test.numpy()*std_y + mean_y))/final_data_us[\"ConfirmedChange\"].to_numpy()[split:]), 2)\n",
    "\n",
    "print(\"The week1 forecast is: {0}, week2 is: {1}, week3 is {2}, whole test set: {3} and ratio {4}.\".format(week1f, week2f, week3f, forecst, diff_ratio))"
   ]
  },
  {
   "cell_type": "markdown",
   "metadata": {},
   "source": [
    "[Back to Top](#top)"
   ]
  },
  {
   "cell_type": "markdown",
   "metadata": {},
   "source": [
    "## Model 9: <a id='M9'></a>"
   ]
  },
  {
   "cell_type": "markdown",
   "metadata": {},
   "source": [
    "$\\lambda(t)$ = $f$(WKDAY(t) + HOME(t) + WORK(t) + OTHER(t))"
   ]
  },
  {
   "cell_type": "code",
   "execution_count": null,
   "metadata": {},
   "outputs": [],
   "source": [
    "y = final_data_us[\"ConfirmedChange\"].to_numpy()\n",
    "X = final_data_us[[\"WEEKDAY\", \"HOME\", \"WORK\", \"OTHER\"]].copy()\n",
    "X = X.to_numpy()\n",
    "\n",
    "\n",
    "y = preprocessing.scale(y)\n",
    "X = preprocessing.scale(X)\n",
    "\n",
    "split = 139\n",
    "\n",
    "y_train = y[:split]\n",
    "y_test = y[split:]\n",
    "\n",
    "X_train = X[:split]\n",
    "X_test = X[split:]\n",
    "\n",
    "y_train = y_train.reshape((-1,1))\n",
    "y_test = y_test.reshape((-1,1))"
   ]
  },
  {
   "cell_type": "code",
   "execution_count": null,
   "metadata": {},
   "outputs": [],
   "source": [
    "MTRN = gpflow.kernels.Matern32()\n",
    "k = MTRN\n",
    "\n",
    "SE = gpflow.kernels.SquaredExponential()\n",
    "LIN = gpflow.kernels.Linear()\n",
    "RQ = gpflow.kernels.RationalQuadratic()\n",
    "k = SE*LIN*RQ\n",
    "\n",
    "print_summary(k, fmt=\"notebook\")"
   ]
  },
  {
   "cell_type": "code",
   "execution_count": null,
   "metadata": {},
   "outputs": [],
   "source": [
    "# Initialise the inducing points\n",
    "Zinit = inducing_points(X_train, size=15)\n",
    "Zinit = Zinit.T"
   ]
  },
  {
   "cell_type": "code",
   "execution_count": null,
   "metadata": {},
   "outputs": [],
   "source": [
    "m9 = gpflow.models.SVGP(likelihood=gpflow.likelihoods.Gaussian(), kernel=k, inducing_variable=Zinit, \n",
    "                       num_data=X_train.shape[0])\n",
    "\n",
    "natgrad = NaturalGradient(gamma=1.0)\n",
    "adam = tf.optimizers.Adam(0.01)\n",
    "\n",
    "set_trainable(m9.q_mu, False)\n",
    "set_trainable(m9.q_sqrt, False)\n",
    "\n",
    "logf = []\n",
    "\n",
    "for _ in range(ci_niter(1000)):\n",
    "    adam.minimize(lambda:m9.training_loss((X_train, y_train)), m9.trainable_variables)\n",
    "    natgrad.minimize(lambda:m9.training_loss((X_train, y_train)), [(m9.q_mu, m9.q_sqrt)])   \n",
    "    logf.append(m9.elbo(((X_train, y_train))))"
   ]
  },
  {
   "cell_type": "code",
   "execution_count": null,
   "metadata": {},
   "outputs": [],
   "source": [
    "# ELBO\n",
    "plt.plot(logf)"
   ]
  },
  {
   "cell_type": "code",
   "execution_count": null,
   "metadata": {},
   "outputs": [],
   "source": [
    "mean, var = m9.predict_f(X_train)\n",
    "plot_prediction(X_train, y_train, m9, intg=0, X_test=None, Y_test=None, num_samples=20)\n",
    "plot_model(y_train, mean, var, intial_inducing_points=list(Zinit[:,1]), inducing_points_list=list(m9.inducing_variable.Z.numpy()[:,1]), x_ind=1)"
   ]
  },
  {
   "cell_type": "code",
   "execution_count": null,
   "metadata": {},
   "outputs": [],
   "source": [
    "np.mean(var.numpy())"
   ]
  },
  {
   "cell_type": "code",
   "execution_count": null,
   "metadata": {},
   "outputs": [],
   "source": [
    "# The test US data are\n",
    "\n",
    "mean_test, var_test = m9.predict_f(X_test)\n",
    "\n",
    "plot_model(y_test, mean_test, var_test, test=True)"
   ]
  },
  {
   "cell_type": "code",
   "execution_count": null,
   "metadata": {},
   "outputs": [],
   "source": [
    "np.mean(var_test.numpy())"
   ]
  },
  {
   "cell_type": "code",
   "execution_count": null,
   "metadata": {},
   "outputs": [],
   "source": [
    "wsRMSE = np.round(np.sqrt(np.mean((y_train - mean.numpy())**2)), 3)\n",
    "osRMSE = np.round(np.sqrt(np.mean((y_test - mean_test.numpy())**2)), 3)\n",
    "R_sq = r_2(y_train, mean.numpy())\n",
    "print(\"The within-sample (n={0}) RMSE is: {1} and the out-of-sample (n={2}) RMSE is: {3}. The R^2 is: {4}.\".format(X_train.shape[0], wsRMSE, X_test.shape[0], osRMSE, R_sq))"
   ]
  },
  {
   "cell_type": "code",
   "execution_count": null,
   "metadata": {},
   "outputs": [],
   "source": [
    "# 7-days forecast (set 2020-07-07 to 2020-07-13)\n",
    "week1f = np.round(np.mean(final_data_us[\"ConfirmedChange\"].to_numpy()[split:split+7] - (mean_test.numpy()[:7]*std_y + mean_y)), 0)\n",
    "# 14 days forecast (set 2020-07-14 to 2020-07-20)\n",
    "week2f = np.round(np.mean(final_data_us[\"ConfirmedChange\"].to_numpy()[split+7:split+14] - (mean_test.numpy()[7:14]*std_y + mean_y)), 0)\n",
    "# 21 days forecast (set 2020-07-21 to 2020-07-27)\n",
    "week3f = np.round(np.mean(final_data_us[\"ConfirmedChange\"].to_numpy()[split+14:] - (mean_test.numpy()[14:]*std_y + mean_y)), 0)\n",
    "# Whole forecat (set 2020-07-07 to 2020-07-27)\n",
    "forecst = np.round(np.mean(final_data_us[\"ConfirmedChange\"].to_numpy()[split:] - (mean_test.numpy()*std_y + mean_y)), 0)\n",
    "# Difference of the forecast as a ratio of the daily cases (whole test set -- 21 days)\n",
    "diff_ratio = np.round(np.mean((final_data_us[\"ConfirmedChange\"].to_numpy()[split:] - (mean_test.numpy()*std_y + mean_y))/final_data_us[\"ConfirmedChange\"].to_numpy()[split:]), 2)\n",
    "\n",
    "print(\"The week1 forecast is: {0}, week2 is: {1}, week3 is {2}, whole test set: {3} and ratio {4}.\".format(week1f, week2f, week3f, forecst, diff_ratio))"
   ]
  },
  {
   "cell_type": "markdown",
   "metadata": {},
   "source": [
    "[Back to Top](#top)"
   ]
  },
  {
   "cell_type": "markdown",
   "metadata": {},
   "source": [
    " "
   ]
  },
  {
   "cell_type": "markdown",
   "metadata": {},
   "source": [
    "## Alternative Model 3: Multioutput <a id='M8'></a>"
   ]
  },
  {
   "cell_type": "markdown",
   "metadata": {},
   "source": [
    "\\begin{align*}\n",
    "\\dot{S} & =  - \\beta \\frac{SI}{N} \\\\\n",
    "\\dot{I}  & =  \\beta \\frac{SI}{N} - \\gamma I  \\\\\n",
    "\\dot{R}  & =  \\gamma I \n",
    "\\end{align*}\n",
    "\n",
    "$\\lambda(t), \\gamma(t)$ = $f$($X\\delta(t)$) = $Wg$(S(t)I(t) + WKDAY(t) + WORK(t) + OTHER(t), I(t) + WKDAY(t) + HOME(t))"
   ]
  },
  {
   "cell_type": "code",
   "execution_count": null,
   "metadata": {
    "scrolled": true
   },
   "outputs": [],
   "source": [
    "y = final_data_us[[\"ConfirmedChange\", \"RecoveredChange\"]].to_numpy()\n",
    "X = final_data_us[[\"SI\", \"I\", \"WEEKDAY\", \"HOME\", \"WORK\", \"OTHER\"]].to_numpy()\n",
    "\n",
    "\n",
    "y = preprocessing.scale(y)\n",
    "X = preprocessing.scale(X)\n",
    "\n",
    "split = 139\n",
    "\n",
    "y_train = y[:split]\n",
    "y_test = y[split:]\n",
    "\n",
    "X_train = X[:split]\n",
    "X_test = X[split:]"
   ]
  },
  {
   "cell_type": "code",
   "execution_count": null,
   "metadata": {},
   "outputs": [],
   "source": [
    "print(\"The Y dimensions are {0} rows and {1} columns; the X dimensions are {2} rows and {3} columns.\".format(y.shape[0], y.shape[1], X.shape[0], X.shape[1]))"
   ]
  },
  {
   "cell_type": "code",
   "execution_count": null,
   "metadata": {
    "scrolled": true
   },
   "outputs": [],
   "source": [
    "SE = gpflow.kernels.SquaredExponential(active_dims=[0, 2, 4, 5])\n",
    "LIN = gpflow.kernels.Linear(active_dims=[0, 2, 4, 5])\n",
    "RQ = gpflow.kernels.RationalQuadratic(active_dims=[0, 2, 4, 5])\n",
    "k1 = SE * LIN * RQ\n",
    "\n",
    "SE = gpflow.kernels.SquaredExponential(active_dims=[1, 2, 3])\n",
    "LIN = gpflow.kernels.Linear(active_dims=[1, 2, 3])\n",
    "RQ = gpflow.kernels.RationalQuadratic(active_dims=[1, 2, 3])\n",
    "k2 = SE * LIN * RQ\n",
    "\n",
    "# Create list of kernels for each output\n",
    "kern_list = [k1, k2]\n",
    "# Create multi-output kernel from kernel list\n",
    "kernel = gpflow.kernels.SeparateIndependent(kern_list)\n",
    "\n",
    "print_summary(kernel, fmt='notebook')"
   ]
  },
  {
   "cell_type": "code",
   "execution_count": null,
   "metadata": {},
   "outputs": [],
   "source": [
    "# Initialise the inducing points\n",
    "Zinit = inducing_points(X_train, size=15)\n",
    "Zinit = Zinit.T\n",
    "\n",
    "# initialization of inducing input locations, one set of locations per output\n",
    "Zs = [Zinit.copy() for _ in range(y_train.shape[1])]\n",
    "# initialize as list inducing inducing variables\n",
    "iv_list = [gpflow.inducing_variables.InducingPoints(Z) for Z in Zs]\n",
    "# create multi-output inducing variables from iv_list\n",
    "iv = gpflow.inducing_variables.SeparateIndependentInducingVariables(iv_list)"
   ]
  },
  {
   "cell_type": "code",
   "execution_count": null,
   "metadata": {},
   "outputs": [],
   "source": [
    "m8 = gpflow.models.SVGP(likelihood=gpflow.likelihoods.Gaussian(), kernel=kernel, inducing_variable=iv, \n",
    "                       num_data=X_train.shape[0], num_latent_gps=y_train.shape[1])\n",
    "\n",
    "natgrad = NaturalGradient(gamma=1.0)\n",
    "adam = tf.optimizers.Adam(0.01)\n",
    "\n",
    "set_trainable(m8.q_mu, False)\n",
    "set_trainable(m8.q_sqrt, False)\n",
    "\n",
    "logf = []\n",
    "\n",
    "for _ in range(ci_niter(1000)):\n",
    "    adam.minimize(lambda:m8.training_loss((X_train, y_train)), m8.trainable_variables)\n",
    "    natgrad.minimize(lambda:m8.training_loss((X_train, y_train)), [(m8.q_mu, m8.q_sqrt)])   \n",
    "    logf.append(m8.elbo(((X_train, y_train))))"
   ]
  },
  {
   "cell_type": "code",
   "execution_count": null,
   "metadata": {},
   "outputs": [],
   "source": [
    "print_summary(m8, fmt='notebook')"
   ]
  },
  {
   "cell_type": "code",
   "execution_count": null,
   "metadata": {},
   "outputs": [],
   "source": [
    "# ELBO\n",
    "plt.plot(logf)"
   ]
  },
  {
   "cell_type": "code",
   "execution_count": null,
   "metadata": {},
   "outputs": [],
   "source": [
    "mean, var = m8.predict_f(X_train)\n",
    "\n",
    "#plot_model(y_train, mean, var, intial_inducing_points=list(Zinit[:,0]), inducing_points_list=list(m.inducing_variable.Z.numpy()[:,0]))"
   ]
  },
  {
   "cell_type": "code",
   "execution_count": null,
   "metadata": {},
   "outputs": [],
   "source": [
    "plot_model(y_train[:,0], mean[:,0], var[:,0], intial_inducing_points=list(Zinit[:,0]), inducing_points_list=list(m8.inducing_variable.inducing_variable_list[0].Z.numpy()[:,0]))"
   ]
  },
  {
   "cell_type": "code",
   "execution_count": null,
   "metadata": {},
   "outputs": [],
   "source": [
    "plot_model(y_train[:,1], mean[:,1], var[:,1], intial_inducing_points=list(Zinit[:,1]), inducing_points_list=list(m8.inducing_variable.inducing_variable_list[1].Z.numpy()[:,1]))"
   ]
  },
  {
   "cell_type": "code",
   "execution_count": null,
   "metadata": {},
   "outputs": [],
   "source": [
    "np.mean(var.numpy(), axis=0)"
   ]
  },
  {
   "cell_type": "code",
   "execution_count": null,
   "metadata": {},
   "outputs": [],
   "source": [
    "# The test US data are\n",
    "\n",
    "mean_test, var_test = m8.predict_f(X_test)\n",
    "\n",
    "plot_model(y_test[:,0], mean_test[:,0], var_test[:,0], test=True)\n",
    "plot_model(y_test[:,1], mean_test[:,1], var_test[:,1], test=True)"
   ]
  },
  {
   "cell_type": "code",
   "execution_count": null,
   "metadata": {},
   "outputs": [],
   "source": [
    "np.mean(var_test.numpy(), axis=0)"
   ]
  },
  {
   "cell_type": "code",
   "execution_count": null,
   "metadata": {},
   "outputs": [],
   "source": [
    "wsRMSE = np.round(np.sqrt(np.mean((y_train[:, 0] - mean.numpy()[:, 0])**2)), 3)\n",
    "osRMSE = np.round(np.sqrt(np.mean((y_test[:, 0] - mean_test.numpy()[:, 0])**2)), 3)\n",
    "R_sq = r_2(y_train[:, 0], mean.numpy()[:, 0])\n",
    "print(\"The within-sample (n={0}) RMSE is: {1} and the out-of-sample (n={2}) RMSE is: {3}. The R^2 is: {4}.\".format(X_train.shape[0], wsRMSE, X_test.shape[0], osRMSE, R_sq))"
   ]
  },
  {
   "cell_type": "code",
   "execution_count": null,
   "metadata": {},
   "outputs": [],
   "source": [
    "wsRMSE = np.round(np.sqrt(np.mean((y_train[:, 1] - mean.numpy()[:, 1])**2)), 3)\n",
    "osRMSE = np.round(np.sqrt(np.mean((y_test[:, 1] - mean_test.numpy()[:, 1])**2)), 3)\n",
    "R_sq = r_2(y_train[:, 1], mean.numpy()[:, 1])\n",
    "print(\"The within-sample (n={0}) RMSE is: {1} and the out-of-sample (n={2}) RMSE is: {3}. The R^2 is: {4}.\".format(X_train.shape[0], wsRMSE, X_test.shape[0], osRMSE, R_sq))"
   ]
  },
  {
   "cell_type": "code",
   "execution_count": null,
   "metadata": {},
   "outputs": [],
   "source": [
    "plt.figure(figsize=(15, 4))\n",
    "plt.plot(final_data_us.loc[split:, \"Updated\"], X_test[:,3], label=\"HOME\")\n",
    "plt.plot(final_data_us.loc[split:, \"Updated\"], X_test[:,1], label=\"I\")\n",
    "plt.plot(final_data_us.loc[split:, \"Updated\"], y_test[:,1], label=\"Recovered\")\n",
    "plt.legend(loc='upper left')"
   ]
  },
  {
   "cell_type": "code",
   "execution_count": null,
   "metadata": {},
   "outputs": [],
   "source": [
    "# 7-days forecast (set 2020-07-07 to 2020-07-13)\n",
    "week1f = np.round(np.mean(final_data_us[\"ConfirmedChange\"].to_numpy()[split:split+7] - (mean_test.numpy()[:7, 0]*std_y + mean_y)), 0)\n",
    "# 14 days forecast (set 2020-07-14 to 2020-07-20)\n",
    "week2f = np.round(np.mean(final_data_us[\"ConfirmedChange\"].to_numpy()[split+7:split+14] - (mean_test.numpy()[7:14, 0]*std_y + mean_y)), 0)\n",
    "# 21 days forecast (set 2020-07-21 to 2020-07-27)\n",
    "week3f = np.round(np.mean(final_data_us[\"ConfirmedChange\"].to_numpy()[split+14:] - (mean_test.numpy()[14:, 0]*std_y + mean_y)), 0)\n",
    "# Whole forecat (set 2020-07-07 to 2020-07-27)\n",
    "forecst = np.round(np.mean(final_data_us[\"ConfirmedChange\"].to_numpy()[split:] - (mean_test.numpy()[:, 0]*std_y + mean_y)), 0)\n",
    "# Difference of the forecast as a ratio of the daily cases (whole test set -- 21 days)\n",
    "diff_ratio = np.round(np.mean((final_data_us[\"ConfirmedChange\"].to_numpy()[split:] - (mean_test.numpy()[:, 0]*std_y + mean_y))/final_data_us[\"ConfirmedChange\"].to_numpy()[split:]), 2)\n",
    "\n",
    "print(\"The week1 forecast is: {0}, week2 is: {1}, week3 is {2}, whole test set: {3} and ratio {4}.\".format(week1f, week2f, week3f, forecst, diff_ratio))"
   ]
  },
  {
   "cell_type": "code",
   "execution_count": null,
   "metadata": {},
   "outputs": [],
   "source": [
    "# 7-days forecast (set 2020-07-07 to 2020-07-13)\n",
    "week1f = np.round(np.mean(final_data_us[\"RecoveredChange\"].to_numpy()[split:split+7] - (mean_test.numpy()[:7, 1]*std_r + mean_r)), 0)\n",
    "# 14 days forecast (set 2020-07-14 to 2020-07-20)\n",
    "week2f = np.round(np.mean(final_data_us[\"RecoveredChange\"].to_numpy()[split+7:split+14] - (mean_test.numpy()[7:14, 1]*std_r + mean_r)), 0)\n",
    "# 21 days forecast (set 2020-07-21 to 2020-07-27)\n",
    "week3f = np.round(np.mean(final_data_us[\"RecoveredChange\"].to_numpy()[split+14:] - (mean_test.numpy()[14:, 1]*std_r + mean_r)), 0)\n",
    "# Whole forecat (set 2020-07-07 to 2020-07-27)\n",
    "forecst = np.round(np.mean(final_data_us[\"RecoveredChange\"].to_numpy()[split:] - (mean_test.numpy()[:, 1]*std_r + mean_r)), 0)\n",
    "# Difference of the forecast as a ratio of the daily cases (whole test set -- 21 days)\n",
    "diff_ratio = np.round(np.mean((final_data_us[\"RecoveredChange\"].to_numpy()[split:] - (mean_test.numpy()[:, 1]*std_r + mean_r))/(final_data_us[\"RecoveredChange\"].to_numpy()[split:]+ 0.0001)), 2)\n",
    "\n",
    "print(\"The week1 forecast is: {0}, week2 is: {1}, week3 is {2}, whole test set: {3} and ratio {4}.\".format(week1f, week2f, week3f, forecst, diff_ratio))"
   ]
  },
  {
   "cell_type": "markdown",
   "metadata": {},
   "source": [
    "[Back to Top](#top)"
   ]
  },
  {
   "cell_type": "code",
   "execution_count": null,
   "metadata": {},
   "outputs": [],
   "source": []
  }
 ],
 "metadata": {
  "kernelspec": {
   "display_name": "Python 3",
   "language": "python",
   "name": "python3"
  },
  "language_info": {
   "codemirror_mode": {
    "name": "ipython",
    "version": 3
   },
   "file_extension": ".py",
   "mimetype": "text/x-python",
   "name": "python",
   "nbconvert_exporter": "python",
   "pygments_lexer": "ipython3",
   "version": "3.7.9"
  }
 },
 "nbformat": 4,
 "nbformat_minor": 4
}
