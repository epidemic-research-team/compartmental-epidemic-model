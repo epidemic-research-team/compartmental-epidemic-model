{
 "cells": [
  {
   "cell_type": "markdown",
   "metadata": {},
   "source": [
    "# COVID 19 - Compartmental Model Simulation"
   ]
  },
  {
   "cell_type": "markdown",
   "metadata": {},
   "source": [
    "<img src=\"COVIDbanner.png\" width=\"1000\"> "
   ]
  },
  {
   "cell_type": "markdown",
   "metadata": {},
   "source": [
    "## Model"
   ]
  },
  {
   "cell_type": "markdown",
   "metadata": {},
   "source": [
    "The notebook introduces the compartmental stochastic model developed by Gareth et al. (2011)[https://arxiv.org/abs/1108.3137v1]. The COVID-19 model is using Bayesian methods to jointly estimate information from a stochastic mixing matrix that quantifies sexual interaction patterns by age and gender with parameters from a system of high-dimensional ODEs. This stochastic mixing matrix relies on quantities that are a priori unknown. "
   ]
  },
  {
   "cell_type": "markdown",
   "metadata": {},
   "source": [
    "The aims of our research is to evaluate the model under new conditions and also improve its inference time.\n",
    "\n",
    "1. Explore the performance of the model under COVID-19 conditions\n",
    "2. Improve the calibration time of the model by utilising Stochastic Approximate Inference Methods [Damianou et al.](https://arxiv.org/pdf/1409.2287.pdf).\n",
    "3. Expand the model capacity by incorporating social mixing matrix methods, such as from POLYMOD and BBC Science [Diekmann et al.](https://royalsocietypublishing.org/doi/10.1098/rsif.2009.0386)"
   ]
  },
  {
   "cell_type": "markdown",
   "metadata": {},
   "source": [
    "<img src=\"COVIDb.png\" width=\"1000\"> "
   ]
  },
  {
   "cell_type": "markdown",
   "metadata": {},
   "source": [
    "From the graph above, we define the following compartments:\n",
    "- **$S$** is individuals who are at risks of Covid-19 infection\n",
    "- **$I$** is infected individuals including asymptomatic and mild cases\n",
    "- **$G$** is infected people who developed more severe cases of symptoms and required hospitalization\n",
    "- **$P$** is those who recovered, and are seropositive and immune\n",
    "- **$N$** is individuals who are recovered, immune but seronegative"
   ]
  },
  {
   "cell_type": "markdown",
   "metadata": {},
   "source": [
    "We also introduce the attributes age ($a$), gender ($g$) and social activity group ($s$) differentiating individuals in a population."
   ]
  },
  {
   "cell_type": "markdown",
   "metadata": {},
   "source": [
    "- $a$ : age - is 5-year band\n",
    "- $g$ : gender - male = 0, female = 1\n",
    "- $s$ : social intereaction category - active = 1, not active = 0"
   ]
  },
  {
   "cell_type": "markdown",
   "metadata": {},
   "source": [
    "$r = 5 * 365 = 1825$\n",
    "\n",
    "$R = 2 * 2 * 1825 = 7300$"
   ]
  },
  {
   "cell_type": "markdown",
   "metadata": {},
   "source": [
    "An important metric used to characterised the epidemic is $\\mathcal{R}_0$ which is defined as:"
   ]
  },
  {
   "cell_type": "markdown",
   "metadata": {},
   "source": [
    "$$\n",
    "\\mathcal{R}_0 = \\tau \\cdot \\bar{c} \\cdot d\n",
    "$$"
   ]
  },
  {
   "cell_type": "markdown",
   "metadata": {},
   "source": [
    "$\\tau$ : the transmissibility (i.e., probability of infection given contact between a susceptible and infected individual)\n",
    "\n",
    "$\\bar{c}$ :  the average rate of contact between susceptible and infected individuals\n",
    "\n",
    "$d$ : the duration of infectiousness"
   ]
  },
  {
   "cell_type": "markdown",
   "metadata": {},
   "source": [
    "$\\mathcal{R}_0$ is estimated to be between $2.76$ and $3.25$."
   ]
  },
  {
   "cell_type": "markdown",
   "metadata": {},
   "source": [
    "## Code"
   ]
  },
  {
   "cell_type": "code",
   "execution_count": 1,
   "metadata": {},
   "outputs": [],
   "source": [
    "import numpy as np\n",
    "import pandas as pd\n",
    "import tensorflow as tf\n",
    "import tensorflow_probability as tfp\n",
    "from scipy.integrate import odeint\n",
    "import matplotlib.pyplot as plt\n",
    "%matplotlib inline\n",
    "\n",
    "tfd = tfp.distributions\n",
    "tfb = tfp.bijectors\n",
    "np.random.seed(123)\n",
    "\n",
    "tf.compat.v1.flags.DEFINE_string('f', '', 'kernel')\n",
    "\n",
    "np.concat = np.concatenate\n",
    "\n",
    "STATES = ['S', 'I', 'G', 'P', 'N']\n",
    "\n",
    "ages = np.arange(0, 101, 25, np.int32)\n",
    "\n",
    "A_CATEGORIES = [str(t) for t in zip(ages, ages[1:])]\n",
    "G_CATEGORIES = [\"male\", \"female\"]\n",
    "S_CATEGORIES = [\"high\", \"low\"]"
   ]
  },
  {
   "cell_type": "markdown",
   "metadata": {},
   "source": [
    "Based on the mixing matrix we derive the force of infection $\\lambda$\n",
    "\n",
    "\\begin{equation}\n",
    "\\lambda_{g,s,a}=\\beta_{g}\\sum_{s^{'}, \\alpha^{'}} \\bigg\\{ c^{*}_{g,s,s^{'},\\alpha,\\alpha^{'}} \\frac{I_{g^{'}, s^{'}, \\alpha{'}}}{S_{g^{'}, s^{'}, \\alpha{'}} + I_{g^{'}, s^{'}, \\alpha{'}} + G_{g^{'}, s^{'}, \\alpha{'}} + P_{g^{'}, s^{'}, \\alpha{'}} + N_{g^{'}, s^{'}, \\alpha{'}} } \\bigg\\}\n",
    "\\end{equation}"
   ]
  },
  {
   "cell_type": "code",
   "execution_count": 2,
   "metadata": {},
   "outputs": [],
   "source": [
    "def _intensity_np(t, g, s, a, S, I, G, P, N, beta, c):\n",
    "    left, right = I, (S + I + G + P + N)\n",
    "    opposite_group_ratio = np.divide(left, right, out=np.zeros_like(left), where=right!=0)\n",
    "    infectious_interactions = np.sum(c[g,:, s,:, a,:] * opposite_group_ratio)\n",
    "    return beta[g] * infectious_interactions\n",
    "    \n",
    "def _intensity_tf(t, g, s, a, S, I, G, P, N, beta, c):\n",
    "    opposite_group_ratio = tf.math.divide_no_nan(I, (S + I + G + P + N))\n",
    "    infectious_interactions = tf.reduce_sum(c[g,:, s,:, a,:] * opposite_group_ratio)\n",
    "    return beta[g] * infectious_interactions\n",
    "    \n",
    "# Force of infection lambda\n",
    "def intensity(framework, *args):\n",
    "    if framework == np:\n",
    "        return _intensity_np(*args)\n",
    "    elif framework == tf:\n",
    "        return _intensity_tf(*args)"
   ]
  },
  {
   "cell_type": "markdown",
   "metadata": {},
   "source": [
    "The script below describes the ODEs\n",
    "\n",
    "\\begin{align*}\n",
    "\\tag{1}\n",
    "& \\dot{S}_{g,s,a} & = & -\\lambda_{g,s,a}(t)S_{g,s,a} + (P_{g,s,a} + N_{g,s,a})/DI_g + \\frac{1}{r}S_{g,s,a-1} - \\frac{1}{r}S_{g,s,a} + &\\\\\n",
    "&&& \\frac{1}{R}\\sum_{g,s}(S_{g,s,20} + I_{g,s,20} + G_{g,s,20} + P_{g,s,20} + N_{g,s,20}) \\times &\\\\\n",
    "&&& \\delta_1(a)(\\pi_1\\delta_1(s) + \\pi_2\\delta_2(s) + \\pi_3\\delta_3(s) + \\pi_4\\delta_4(s)) &\\\\ \\\\\n",
    "\\tag{2}\n",
    "& \\dot{I}_{g,s,a}  & = &  \\lambda_{g,s,a}(t)S_{g,s,a} - (1/WIP_g + 1/DAI_g)I_{g,s,a} + \\frac{1}{r}I_{g,s,a-1}-\\frac{1}{r}I_{g,s,a} &\\\\ \\\\\n",
    "\\tag{3}\n",
    "& \\dot{G}_{g,s,a}  & = &  I_{g,s,a}/WIP_g - G_{g,s,a}/DWT_g + \\frac{1}{r}G_{g,s,a-1} - \\frac{1}{r}G_{g,s,a} &\\\\ \\\\ \n",
    "\\tag{4}\n",
    "& \\dot{P}_{g,s,a}  & = &  PSC_g(I_{g,s,a}/DAI_g + G_{g,s,a}/DWT_g) - P_{g,s,a}/DI_g + \\frac{1}{r}P_{g,s,a-1} - \\frac{1}{r}P_{g,s,a} &\\\\ \\\\\n",
    "\\tag{5}\n",
    "& \\dot{N}_{g,s,a}  & = &  (1-PSC_g)(I_{g,s,a}/DAI_g + G_{g,s,a}/DWT_g) - N_{g,s,a}/DI_g + \\frac{1}{r}N_{g,s,a-1}-\\frac{1}{r}N_{g,s,a} &\\\\ \\\\\n",
    "\\end{align*}"
   ]
  },
  {
   "cell_type": "code",
   "execution_count": 3,
   "metadata": {
    "code_folding": [
     0
    ]
   },
   "outputs": [],
   "source": [
    "def dS(t, g, s, a, S=None, I=None, G=None, P=None, N=None, beta=None, c=None, di=None, sip=None, r=None, framework=np, **kwargs):\n",
    "    dSdt = - intensity(framework, t, g, s, a, S, I, G, P, N, beta, c) * S[g, s, a] + \\\n",
    "        (P[g, s, a] + N[g, s, a]) / di[g] - S[g, s, a] / r + int(bool(a)) * S[g, s, a-1] / r\n",
    "    \n",
    "    if a != 0:\n",
    "        return dSdt\n",
    "        \n",
    "    sum_func = tf.reduce_sum if framework == tf else np.sum\n",
    "        \n",
    "    R = len(G_CATEGORIES) * len(S_CATEGORIES)\n",
    "    inflow = sum_func(\n",
    "        sum_func([\n",
    "            S[:,:,-1], \n",
    "            I[:,:,-1],\n",
    "            G[:,:,-1],\n",
    "            P[:,:,-1],\n",
    "            N[:,:,-1]\n",
    "        ]) * sip / r\n",
    "    )\n",
    "            \n",
    "    return dSdt + inflow / R\n",
    "\n",
    "def dI(t, g, s, a, S=None, I=None, G=None, P=None, N=None, beta=None, c=None, wip=None, dai=None, r=None, framework=np, **kwargs):\n",
    "    dIdt = intensity(framework, t, g, s, a, S, I, G, P, N, beta, c) * S[g, s, a] - \\\n",
    "        (1/wip[g] + 1/dai[g]) * I[g, s, a] - I[g, s, a] / r + int(bool(a)) * I[g, s, a-1] / r\n",
    "    \n",
    "    return dIdt\n",
    "\n",
    "def dG(t, g, s, a, I=None, G=None, wip=None, dwt=None, r=None, **kwargs):\n",
    "    dGdt = I[g, s, a] / wip[g] - G[g, s, a] / dwt[g] - G[g, s, a] / r + int(bool(a)) * G[g, s, a-1] / r\n",
    "    \n",
    "    return dGdt\n",
    "\n",
    "def dP(t, g, s, a, I=None, G=None, P=None, psc=None, dai=None, dwt=None, di=None, r=None, **kwargs):\n",
    "    dPdt = psc[g] * (I[g, s, a] / dai[g] + G[g, s, a] / dwt[g]) - P[g, s, a] / di[g] - \\\n",
    "        P[g, s, a] / r + int(bool(a)) * P[g, s, a-1] / r\n",
    "    \n",
    "    return dPdt\n",
    "\n",
    "def dN(t, g, s, a, I=None, G=None, N=None, psc=None, dai=None, dwt=None, di=None, r=None, **kwargs):\n",
    "    dNdt = (1-psc[g]) * (I[g, s, a] / dai[g] + G[g, s, a] / dwt[g]) - \\\n",
    "        N[g, s ,a]/di[g] - N[g, s, a] / r + int(bool(a)) * N[g, s, a-1] / r\n",
    "    \n",
    "    return dNdt"
   ]
  },
  {
   "cell_type": "code",
   "execution_count": 4,
   "metadata": {
    "code_folding": [
     0
    ],
    "pixiedust": {
     "displayParams": {}
    }
   },
   "outputs": [],
   "source": [
    "DELTAS_FUNC = {\n",
    "    \"S\": dS, \"I\": dI, \"G\": dG, \"P\": dP, \"N\": dN\n",
    "}\n",
    "\n",
    "def system(y, t, params, framework):\n",
    "    \"\"\"System of ODEs\n",
    "    \n",
    "    Params:\n",
    "        y (array) : the current state\n",
    "        t (float) : the current time\n",
    "        sip (array) : the proportion of people in each social interaction group (sum(sip) = 1)\n",
    "        beta (array) : the transmission probabilities\n",
    "        c (array) : mean per capita at which an individual interact with a new individual from g', s', a'\n",
    "        di (array) : duration of immunity\n",
    "        wip (array) : incubation period\n",
    "        dai (array) : duration of asymptomatic infection symptoms\n",
    "        dwt (array) : duration of treatment\n",
    "        psc (array) : probability of becoming seropositive\n",
    "        r (int) : the number of days for someone to move to the upper age category\n",
    "    \"\"\"\n",
    "    params = {k: v for k, v in zip(\n",
    "        [\"sip\", \"beta\", \"c\", \"di\", \"wip\", \"dai\", \"dwt\", \"psc\", \"r\"], \n",
    "        deflatten_params(params, framework))\n",
    "    }\n",
    "    params[\"framework\"] = framework\n",
    "    \n",
    "    states_ = framework.reshape(y, (len(STATES), len(G_CATEGORIES), len(S_CATEGORIES), len(A_CATEGORIES)))\n",
    "    states = {}\n",
    "    for i, state in enumerate(STATES):\n",
    "        states[state] = states_[i]\n",
    "        \n",
    "    deltas = {\n",
    "        state: np.empty((len(G_CATEGORIES), len(S_CATEGORIES), len(A_CATEGORIES)))\n",
    "        for state in STATES\n",
    "    }\n",
    "\n",
    "    lengths = [len(STATES), len(G_CATEGORIES), len(S_CATEGORIES), len(A_CATEGORIES)]\n",
    "    \n",
    "    ret = [None]*np.prod(lengths)\n",
    "    for i_state, state in enumerate(STATES):\n",
    "        for i_g in range(len(G_CATEGORIES)):\n",
    "            for i_s in range(len(S_CATEGORIES)):\n",
    "                for i_a in range(len(A_CATEGORIES)):\n",
    "                    idx = np.dot(\n",
    "                        [i_state, i_g, i_s, i_a], \n",
    "                        [np.prod(lengths[i:] + [1]) for i in range(1, len(lengths)+1)]\n",
    "                    )\n",
    "                    ret[idx] = DELTAS_FUNC[state](t, i_g, i_s, i_a, **states, **params)\n",
    "                    \n",
    "    return ret"
   ]
  },
  {
   "cell_type": "code",
   "execution_count": 5,
   "metadata": {
    "code_folding": [
     0
    ]
   },
   "outputs": [],
   "source": [
    "def generate_initial_state(n=100, infected_ratio=0.5, seed=123):\n",
    "    \"\"\"Generate a random initial state\n",
    "    \n",
    "    Params:\n",
    "        n (int): the population size\n",
    "        infected_ratio (float): the ratio of people infected in the population\n",
    "        seed (int): the random seed to use\n",
    "    \"\"\"\n",
    "    np.random.seed(seed)\n",
    "    \n",
    "    ages = np.random.randint(len(A_CATEGORIES), size=n)\n",
    "    genders = np.random.randint(len(G_CATEGORIES), size=n)\n",
    "    social_interactions = np.random.randint(len(S_CATEGORIES), size=n)\n",
    "    \n",
    "    initial_states = {\n",
    "        state: np.zeros((len(G_CATEGORIES), len(S_CATEGORIES), len(A_CATEGORIES)), dtype=np.float32)\n",
    "        for state in STATES\n",
    "    }\n",
    "    \n",
    "    for i, (a, g, s) in enumerate(zip(ages, genders, social_interactions)):\n",
    "        if i < int(n*infected_ratio):\n",
    "            initial_states[\"I\"][g, s, a] += 1\n",
    "        else:\n",
    "            initial_states[\"S\"][g, s, a] += 1\n",
    "            \n",
    "    for state in STATES:\n",
    "        initial_states[state] = initial_states[state].flatten()\n",
    "        \n",
    "    return np.concatenate(tuple(initial_states[state] for state in STATES))"
   ]
  },
  {
   "cell_type": "code",
   "execution_count": 6,
   "metadata": {
    "code_folding": [
     0
    ]
   },
   "outputs": [],
   "source": [
    "def generate_social_interaction_matrix(flatten=False):\n",
    "    ret = np.ones((\n",
    "        len(G_CATEGORIES), len(G_CATEGORIES), \n",
    "        len(S_CATEGORIES), len(S_CATEGORIES),\n",
    "        len(A_CATEGORIES), len(A_CATEGORIES)\n",
    "    ))\n",
    "    \n",
    "    if flatten:\n",
    "        return ret.flatten()\n",
    "    return ret"
   ]
  },
  {
   "cell_type": "code",
   "execution_count": 7,
   "metadata": {
    "code_folding": [
     0,
     3
    ]
   },
   "outputs": [],
   "source": [
    "def flatten_params(*params, framework=np):\n",
    "    return framework.concat([framework.reshape(p, (-1,)) for p in params], axis=0)\n",
    "\n",
    "def deflatten_params(params, framework=np):\n",
    "    shapes = np.array([\n",
    "        (len(S_CATEGORIES),),\n",
    "        (len(G_CATEGORIES),),\n",
    "        (len(G_CATEGORIES), len(G_CATEGORIES), len(S_CATEGORIES), len(S_CATEGORIES), len(A_CATEGORIES), len(A_CATEGORIES)),\n",
    "        (len(G_CATEGORIES),),\n",
    "        (len(G_CATEGORIES),),\n",
    "        (len(G_CATEGORIES),),\n",
    "        (len(G_CATEGORIES),),\n",
    "        (2,),\n",
    "        1\n",
    "    ])\n",
    "    \n",
    "    length_parameters = [\n",
    "        np.prod(s) if s != 1 else s\n",
    "        for s in shapes\n",
    "    ]\n",
    "    \n",
    "    if framework == np:\n",
    "        splits = framework.split(params, np.cumsum(length_parameters)[:-1])\n",
    "    else:\n",
    "        splits = framework.split(params, length_parameters)\n",
    "    \n",
    "    return tuple(\n",
    "        framework.reshape(a, s) if s != 1 else a[0] \n",
    "        for s, a in zip(shapes, splits)\n",
    "    )"
   ]
  },
  {
   "cell_type": "code",
   "execution_count": 8,
   "metadata": {
    "code_folding": [
     15
    ],
    "pixiedust": {
     "displayParams": {}
    }
   },
   "outputs": [],
   "source": [
    "state0 = generate_initial_state()\n",
    "t = np.linspace(0, 100, 101)\n",
    "\n",
    "args = flatten_params(*(\n",
    "    np.array([0.8, 0.2]),                  # sip\n",
    "    np.array([0.4, 0.2]),                  # beta\n",
    "    generate_social_interaction_matrix(),  # c\n",
    "    np.array([2, 2]),                      # di\n",
    "    np.array([7, 7]),                      # wip\n",
    "    np.array([3, 3]),                      # dai\n",
    "    np.array([14, 14]),                    # dwt\n",
    "    np.array([0.5, 0.5]),                  # psc\n",
    "    np.array([1825.]),                     # r\n",
    "), framework=np).astype(np.float32)\n",
    "\n",
    "class CompartmentModel(object):\n",
    "    \n",
    "    def __init__(self, times, state0=None, framework=np):\n",
    "        self.times = times\n",
    "        self.state0 = state0 if state0 is not None else generate_initial_state()\n",
    "        self.framework = framework\n",
    "        \n",
    "    def run(self, *args):\n",
    "        return odeint(system, state0, t, args=(args, self.framework), rtol=1e-6, atol=1e-6)\n",
    "    \n",
    "    @staticmethod\n",
    "    def _build_history(sol):\n",
    "        \"\"\"Reconstruct the history from the output of the ODE solver\n",
    "\n",
    "        Params:\n",
    "            sol (array): the output of the ODE solver\n",
    "\n",
    "        Returns:\n",
    "            hist (array): the array of shape (len(t), len(G), len(S), len(A))\n",
    "        \"\"\"\n",
    "        hists = {\n",
    "            state: [] for state in STATES\n",
    "        }\n",
    "\n",
    "        for t, states_t in enumerate(sol):\n",
    "            for state, vals in zip(STATES, np.array_split(states_t, len(STATES))):\n",
    "                hists[state].append(\n",
    "                    vals.reshape((len(G_CATEGORIES), len(S_CATEGORIES), len(A_CATEGORIES)))\n",
    "                )\n",
    "\n",
    "        return {s : np.array(h) for s, h in hists.items()}\n",
    "    \n",
    "    def plot(self, sol, gender, social_interaction, age, obs=None):\n",
    "        G = G_CATEGORIES.index(gender)\n",
    "        S = S_CATEGORIES.index(social_interaction)\n",
    "        A = A_CATEGORIES.index(age)\n",
    "\n",
    "        plt.figure(figsize=(20,10))\n",
    "\n",
    "        if obs is not None:\n",
    "            obs_hists = self._build_history(obs)\n",
    "            plt.plot(self.times[1:], obs_hists[\"S\"][:, G, S, A], marker='o', color=\"C0\", linestyle='none')\n",
    "            plt.plot(self.times[1:], obs_hists[\"I\"][:, G, S, A], marker='o', color=\"C1\", linestyle='none')\n",
    "            plt.plot(self.times[1:], obs_hists[\"G\"][:, G, S, A], marker='o', color=\"C2\", linestyle='none')\n",
    "            plt.plot(self.times[1:], obs_hists[\"P\"][:, G, S, A], marker='o', color=\"C3\", linestyle='none')\n",
    "            plt.plot(self.times[1:], obs_hists[\"N\"][:, G, S, A], marker='o', color=\"C4\", linestyle='none')\n",
    "\n",
    "        hists = self._build_history(sol)\n",
    "        plt.plot(self.times, hists[\"S\"][:, G, S, A], color=\"C0\", label=f'$S(t)$')\n",
    "        plt.plot(self.times, hists[\"I\"][:, G, S, A], color=\"C1\", label=f'$I(t)$')\n",
    "        plt.plot(self.times, hists[\"G\"][:, G, S, A], color=\"C2\", label=f'$G(t)$')\n",
    "        plt.plot(self.times, hists[\"P\"][:, G, S, A], color=\"C3\", label=f'$P(t)$')\n",
    "        plt.plot(self.times, hists[\"N\"][:, G, S, A], color=\"C4\", label=f'$N(t)$')\n",
    "\n",
    "        plt.legend(loc='best')\n",
    "        plt.xlabel('t')\n",
    "        plt.grid()\n",
    "        plt.show()\n",
    "\n",
    "model = CompartmentModel(t, state0)\n",
    "sol = model.run(*args)"
   ]
  },
  {
   "cell_type": "code",
   "execution_count": 9,
   "metadata": {
    "code_folding": []
   },
   "outputs": [
    {
     "data": {
      "image/png": "[encoded data removed]",
      "text/plain": [
       "<Figure size 1440x720 with 1 Axes>"
      ]
     },
     "metadata": {
      "needs_background": "light"
     },
     "output_type": "display_data"
    }
   ],
   "source": [
    "# Observational model\n",
    "np.random.seed(123)\n",
    "\n",
    "obs = np.random.lognormal(\n",
    "    mean=np.log(sol[1::]), \n",
    "    sigma=np.random.uniform(0.1, 0.3, size=sol.shape[1])\n",
    ")\n",
    "    \n",
    "model.plot(sol, \"male\", \"high\", \"(25, 50)\", obs=obs)"
   ]
  },
  {
   "cell_type": "code",
   "execution_count": 10,
   "metadata": {
    "collapsed": true
   },
   "outputs": [
    {
     "name": "stdout",
     "output_type": "stream",
     "text": [
      "WARNING:tensorflow:5 out of the last 5 calls to <function pfor.<locals>.f at 0x153beb67a0> triggered tf.function retracing. Tracing is expensive and the excessive number of tracings could be due to (1) creating @tf.function repeatedly in a loop, (2) passing tensors with different shapes, (3) passing Python objects instead of tensors. For (1), please  define your @tf.function outside of the loop. For (2), @tf.function has experimental_relax_shapes=True option that relaxes argument shapes that can avoid unnecessary retracing. For (3), please refer to https://www.tensorflow.org/tutorials/customization/performance#python_or_tensor_args and https://www.tensorflow.org/api_docs/python/tf/function for  more details.\n",
      "WARNING:tensorflow:6 out of the last 6 calls to <function pfor.<locals>.f at 0x153ba373b0> triggered tf.function retracing. Tracing is expensive and the excessive number of tracings could be due to (1) creating @tf.function repeatedly in a loop, (2) passing tensors with different shapes, (3) passing Python objects instead of tensors. For (1), please  define your @tf.function outside of the loop. For (2), @tf.function has experimental_relax_shapes=True option that relaxes argument shapes that can avoid unnecessary retracing. For (3), please refer to https://www.tensorflow.org/tutorials/customization/performance#python_or_tensor_args and https://www.tensorflow.org/api_docs/python/tf/function for  more details.\n",
      "WARNING:tensorflow:7 out of the last 7 calls to <function pfor.<locals>.f at 0x153ba373b0> triggered tf.function retracing. Tracing is expensive and the excessive number of tracings could be due to (1) creating @tf.function repeatedly in a loop, (2) passing tensors with different shapes, (3) passing Python objects instead of tensors. For (1), please  define your @tf.function outside of the loop. For (2), @tf.function has experimental_relax_shapes=True option that relaxes argument shapes that can avoid unnecessary retracing. For (3), please refer to https://www.tensorflow.org/tutorials/customization/performance#python_or_tensor_args and https://www.tensorflow.org/api_docs/python/tf/function for  more details.\n",
      "WARNING:tensorflow:8 out of the last 8 calls to <function pfor.<locals>.f at 0x153be985f0> triggered tf.function retracing. Tracing is expensive and the excessive number of tracings could be due to (1) creating @tf.function repeatedly in a loop, (2) passing tensors with different shapes, (3) passing Python objects instead of tensors. For (1), please  define your @tf.function outside of the loop. For (2), @tf.function has experimental_relax_shapes=True option that relaxes argument shapes that can avoid unnecessary retracing. For (3), please refer to https://www.tensorflow.org/tutorials/customization/performance#python_or_tensor_args and https://www.tensorflow.org/api_docs/python/tf/function for  more details.\n",
      "WARNING:tensorflow:9 out of the last 9 calls to <function pfor.<locals>.f at 0x153be98cb0> triggered tf.function retracing. Tracing is expensive and the excessive number of tracings could be due to (1) creating @tf.function repeatedly in a loop, (2) passing tensors with different shapes, (3) passing Python objects instead of tensors. For (1), please  define your @tf.function outside of the loop. For (2), @tf.function has experimental_relax_shapes=True option that relaxes argument shapes that can avoid unnecessary retracing. For (3), please refer to https://www.tensorflow.org/tutorials/customization/performance#python_or_tensor_args and https://www.tensorflow.org/api_docs/python/tf/function for  more details.\n",
      "WARNING:tensorflow:10 out of the last 10 calls to <function pfor.<locals>.f at 0x153be985f0> triggered tf.function retracing. Tracing is expensive and the excessive number of tracings could be due to (1) creating @tf.function repeatedly in a loop, (2) passing tensors with different shapes, (3) passing Python objects instead of tensors. For (1), please  define your @tf.function outside of the loop. For (2), @tf.function has experimental_relax_shapes=True option that relaxes argument shapes that can avoid unnecessary retracing. For (3), please refer to https://www.tensorflow.org/tutorials/customization/performance#python_or_tensor_args and https://www.tensorflow.org/api_docs/python/tf/function for  more details.\n",
      "WARNING:tensorflow:11 out of the last 11 calls to <function pfor.<locals>.f at 0x153be98cb0> triggered tf.function retracing. Tracing is expensive and the excessive number of tracings could be due to (1) creating @tf.function repeatedly in a loop, (2) passing tensors with different shapes, (3) passing Python objects instead of tensors. For (1), please  define your @tf.function outside of the loop. For (2), @tf.function has experimental_relax_shapes=True option that relaxes argument shapes that can avoid unnecessary retracing. For (3), please refer to https://www.tensorflow.org/tutorials/customization/performance#python_or_tensor_args and https://www.tensorflow.org/api_docs/python/tf/function for  more details.\n",
      "WARNING:tensorflow:11 out of the last 11 calls to <function pfor.<locals>.f at 0x153be985f0> triggered tf.function retracing. Tracing is expensive and the excessive number of tracings could be due to (1) creating @tf.function repeatedly in a loop, (2) passing tensors with different shapes, (3) passing Python objects instead of tensors. For (1), please  define your @tf.function outside of the loop. For (2), @tf.function has experimental_relax_shapes=True option that relaxes argument shapes that can avoid unnecessary retracing. For (3), please refer to https://www.tensorflow.org/tutorials/customization/performance#python_or_tensor_args and https://www.tensorflow.org/api_docs/python/tf/function for  more details.\n",
      "WARNING:tensorflow:11 out of the last 11 calls to <function pfor.<locals>.f at 0x153be98cb0> triggered tf.function retracing. Tracing is expensive and the excessive number of tracings could be due to (1) creating @tf.function repeatedly in a loop, (2) passing tensors with different shapes, (3) passing Python objects instead of tensors. For (1), please  define your @tf.function outside of the loop. For (2), @tf.function has experimental_relax_shapes=True option that relaxes argument shapes that can avoid unnecessary retracing. For (3), please refer to https://www.tensorflow.org/tutorials/customization/performance#python_or_tensor_args and https://www.tensorflow.org/api_docs/python/tf/function for  more details.\n",
      "WARNING:tensorflow:11 out of the last 11 calls to <function pfor.<locals>.f at 0x153be985f0> triggered tf.function retracing. Tracing is expensive and the excessive number of tracings could be due to (1) creating @tf.function repeatedly in a loop, (2) passing tensors with different shapes, (3) passing Python objects instead of tensors. For (1), please  define your @tf.function outside of the loop. For (2), @tf.function has experimental_relax_shapes=True option that relaxes argument shapes that can avoid unnecessary retracing. For (3), please refer to https://www.tensorflow.org/tutorials/customization/performance#python_or_tensor_args and https://www.tensorflow.org/api_docs/python/tf/function for  more details.\n",
      "WARNING:tensorflow:11 out of the last 11 calls to <function pfor.<locals>.f at 0x153be98cb0> triggered tf.function retracing. Tracing is expensive and the excessive number of tracings could be due to (1) creating @tf.function repeatedly in a loop, (2) passing tensors with different shapes, (3) passing Python objects instead of tensors. For (1), please  define your @tf.function outside of the loop. For (2), @tf.function has experimental_relax_shapes=True option that relaxes argument shapes that can avoid unnecessary retracing. For (3), please refer to https://www.tensorflow.org/tutorials/customization/performance#python_or_tensor_args and https://www.tensorflow.org/api_docs/python/tf/function for  more details.\n",
      "WARNING:tensorflow:11 out of the last 11 calls to <function pfor.<locals>.f at 0x153be985f0> triggered tf.function retracing. Tracing is expensive and the excessive number of tracings could be due to (1) creating @tf.function repeatedly in a loop, (2) passing tensors with different shapes, (3) passing Python objects instead of tensors. For (1), please  define your @tf.function outside of the loop. For (2), @tf.function has experimental_relax_shapes=True option that relaxes argument shapes that can avoid unnecessary retracing. For (3), please refer to https://www.tensorflow.org/tutorials/customization/performance#python_or_tensor_args and https://www.tensorflow.org/api_docs/python/tf/function for  more details.\n"
     ]
    },
    {
     "name": "stdout",
     "output_type": "stream",
     "text": [
      "WARNING:tensorflow:11 out of the last 11 calls to <function pfor.<locals>.f at 0x153be98cb0> triggered tf.function retracing. Tracing is expensive and the excessive number of tracings could be due to (1) creating @tf.function repeatedly in a loop, (2) passing tensors with different shapes, (3) passing Python objects instead of tensors. For (1), please  define your @tf.function outside of the loop. For (2), @tf.function has experimental_relax_shapes=True option that relaxes argument shapes that can avoid unnecessary retracing. For (3), please refer to https://www.tensorflow.org/tutorials/customization/performance#python_or_tensor_args and https://www.tensorflow.org/api_docs/python/tf/function for  more details.\n",
      "WARNING:tensorflow:11 out of the last 11 calls to <function pfor.<locals>.f at 0x153be985f0> triggered tf.function retracing. Tracing is expensive and the excessive number of tracings could be due to (1) creating @tf.function repeatedly in a loop, (2) passing tensors with different shapes, (3) passing Python objects instead of tensors. For (1), please  define your @tf.function outside of the loop. For (2), @tf.function has experimental_relax_shapes=True option that relaxes argument shapes that can avoid unnecessary retracing. For (3), please refer to https://www.tensorflow.org/tutorials/customization/performance#python_or_tensor_args and https://www.tensorflow.org/api_docs/python/tf/function for  more details.\n",
      "WARNING:tensorflow:11 out of the last 11 calls to <function pfor.<locals>.f at 0x153be98cb0> triggered tf.function retracing. Tracing is expensive and the excessive number of tracings could be due to (1) creating @tf.function repeatedly in a loop, (2) passing tensors with different shapes, (3) passing Python objects instead of tensors. For (1), please  define your @tf.function outside of the loop. For (2), @tf.function has experimental_relax_shapes=True option that relaxes argument shapes that can avoid unnecessary retracing. For (3), please refer to https://www.tensorflow.org/tutorials/customization/performance#python_or_tensor_args and https://www.tensorflow.org/api_docs/python/tf/function for  more details.\n",
      "WARNING:tensorflow:11 out of the last 11 calls to <function pfor.<locals>.f at 0x153be985f0> triggered tf.function retracing. Tracing is expensive and the excessive number of tracings could be due to (1) creating @tf.function repeatedly in a loop, (2) passing tensors with different shapes, (3) passing Python objects instead of tensors. For (1), please  define your @tf.function outside of the loop. For (2), @tf.function has experimental_relax_shapes=True option that relaxes argument shapes that can avoid unnecessary retracing. For (3), please refer to https://www.tensorflow.org/tutorials/customization/performance#python_or_tensor_args and https://www.tensorflow.org/api_docs/python/tf/function for  more details.\n",
      "WARNING:tensorflow:11 out of the last 11 calls to <function pfor.<locals>.f at 0x153be98cb0> triggered tf.function retracing. Tracing is expensive and the excessive number of tracings could be due to (1) creating @tf.function repeatedly in a loop, (2) passing tensors with different shapes, (3) passing Python objects instead of tensors. For (1), please  define your @tf.function outside of the loop. For (2), @tf.function has experimental_relax_shapes=True option that relaxes argument shapes that can avoid unnecessary retracing. For (3), please refer to https://www.tensorflow.org/tutorials/customization/performance#python_or_tensor_args and https://www.tensorflow.org/api_docs/python/tf/function for  more details.\n",
      "WARNING:tensorflow:11 out of the last 11 calls to <function pfor.<locals>.f at 0x153be98cb0> triggered tf.function retracing. Tracing is expensive and the excessive number of tracings could be due to (1) creating @tf.function repeatedly in a loop, (2) passing tensors with different shapes, (3) passing Python objects instead of tensors. For (1), please  define your @tf.function outside of the loop. For (2), @tf.function has experimental_relax_shapes=True option that relaxes argument shapes that can avoid unnecessary retracing. For (3), please refer to https://www.tensorflow.org/tutorials/customization/performance#python_or_tensor_args and https://www.tensorflow.org/api_docs/python/tf/function for  more details.\n",
      "WARNING:tensorflow:11 out of the last 11 calls to <function pfor.<locals>.f at 0x153be985f0> triggered tf.function retracing. Tracing is expensive and the excessive number of tracings could be due to (1) creating @tf.function repeatedly in a loop, (2) passing tensors with different shapes, (3) passing Python objects instead of tensors. For (1), please  define your @tf.function outside of the loop. For (2), @tf.function has experimental_relax_shapes=True option that relaxes argument shapes that can avoid unnecessary retracing. For (3), please refer to https://www.tensorflow.org/tutorials/customization/performance#python_or_tensor_args and https://www.tensorflow.org/api_docs/python/tf/function for  more details.\n",
      "WARNING:tensorflow:11 out of the last 11 calls to <function pfor.<locals>.f at 0x153be98cb0> triggered tf.function retracing. Tracing is expensive and the excessive number of tracings could be due to (1) creating @tf.function repeatedly in a loop, (2) passing tensors with different shapes, (3) passing Python objects instead of tensors. For (1), please  define your @tf.function outside of the loop. For (2), @tf.function has experimental_relax_shapes=True option that relaxes argument shapes that can avoid unnecessary retracing. For (3), please refer to https://www.tensorflow.org/tutorials/customization/performance#python_or_tensor_args and https://www.tensorflow.org/api_docs/python/tf/function for  more details.\n",
      "WARNING:tensorflow:11 out of the last 11 calls to <function pfor.<locals>.f at 0x153be98cb0> triggered tf.function retracing. Tracing is expensive and the excessive number of tracings could be due to (1) creating @tf.function repeatedly in a loop, (2) passing tensors with different shapes, (3) passing Python objects instead of tensors. For (1), please  define your @tf.function outside of the loop. For (2), @tf.function has experimental_relax_shapes=True option that relaxes argument shapes that can avoid unnecessary retracing. For (3), please refer to https://www.tensorflow.org/tutorials/customization/performance#python_or_tensor_args and https://www.tensorflow.org/api_docs/python/tf/function for  more details.\n",
      "WARNING:tensorflow:11 out of the last 11 calls to <function pfor.<locals>.f at 0x153be985f0> triggered tf.function retracing. Tracing is expensive and the excessive number of tracings could be due to (1) creating @tf.function repeatedly in a loop, (2) passing tensors with different shapes, (3) passing Python objects instead of tensors. For (1), please  define your @tf.function outside of the loop. For (2), @tf.function has experimental_relax_shapes=True option that relaxes argument shapes that can avoid unnecessary retracing. For (3), please refer to https://www.tensorflow.org/tutorials/customization/performance#python_or_tensor_args and https://www.tensorflow.org/api_docs/python/tf/function for  more details.\n",
      "WARNING:tensorflow:11 out of the last 11 calls to <function pfor.<locals>.f at 0x153be98cb0> triggered tf.function retracing. Tracing is expensive and the excessive number of tracings could be due to (1) creating @tf.function repeatedly in a loop, (2) passing tensors with different shapes, (3) passing Python objects instead of tensors. For (1), please  define your @tf.function outside of the loop. For (2), @tf.function has experimental_relax_shapes=True option that relaxes argument shapes that can avoid unnecessary retracing. For (3), please refer to https://www.tensorflow.org/tutorials/customization/performance#python_or_tensor_args and https://www.tensorflow.org/api_docs/python/tf/function for  more details.\n",
      "WARNING:tensorflow:11 out of the last 11 calls to <function pfor.<locals>.f at 0x153be985f0> triggered tf.function retracing. Tracing is expensive and the excessive number of tracings could be due to (1) creating @tf.function repeatedly in a loop, (2) passing tensors with different shapes, (3) passing Python objects instead of tensors. For (1), please  define your @tf.function outside of the loop. For (2), @tf.function has experimental_relax_shapes=True option that relaxes argument shapes that can avoid unnecessary retracing. For (3), please refer to https://www.tensorflow.org/tutorials/customization/performance#python_or_tensor_args and https://www.tensorflow.org/api_docs/python/tf/function for  more details.\n"
     ]
    },
    {
     "name": "stdout",
     "output_type": "stream",
     "text": [
      "WARNING:tensorflow:11 out of the last 11 calls to <function pfor.<locals>.f at 0x153be98cb0> triggered tf.function retracing. Tracing is expensive and the excessive number of tracings could be due to (1) creating @tf.function repeatedly in a loop, (2) passing tensors with different shapes, (3) passing Python objects instead of tensors. For (1), please  define your @tf.function outside of the loop. For (2), @tf.function has experimental_relax_shapes=True option that relaxes argument shapes that can avoid unnecessary retracing. For (3), please refer to https://www.tensorflow.org/tutorials/customization/performance#python_or_tensor_args and https://www.tensorflow.org/api_docs/python/tf/function for  more details.\n",
      "WARNING:tensorflow:11 out of the last 11 calls to <function pfor.<locals>.f at 0x153be985f0> triggered tf.function retracing. Tracing is expensive and the excessive number of tracings could be due to (1) creating @tf.function repeatedly in a loop, (2) passing tensors with different shapes, (3) passing Python objects instead of tensors. For (1), please  define your @tf.function outside of the loop. For (2), @tf.function has experimental_relax_shapes=True option that relaxes argument shapes that can avoid unnecessary retracing. For (3), please refer to https://www.tensorflow.org/tutorials/customization/performance#python_or_tensor_args and https://www.tensorflow.org/api_docs/python/tf/function for  more details.\n",
      "WARNING:tensorflow:11 out of the last 11 calls to <function pfor.<locals>.f at 0x153be98cb0> triggered tf.function retracing. Tracing is expensive and the excessive number of tracings could be due to (1) creating @tf.function repeatedly in a loop, (2) passing tensors with different shapes, (3) passing Python objects instead of tensors. For (1), please  define your @tf.function outside of the loop. For (2), @tf.function has experimental_relax_shapes=True option that relaxes argument shapes that can avoid unnecessary retracing. For (3), please refer to https://www.tensorflow.org/tutorials/customization/performance#python_or_tensor_args and https://www.tensorflow.org/api_docs/python/tf/function for  more details.\n",
      "WARNING:tensorflow:11 out of the last 11 calls to <function pfor.<locals>.f at 0x153be985f0> triggered tf.function retracing. Tracing is expensive and the excessive number of tracings could be due to (1) creating @tf.function repeatedly in a loop, (2) passing tensors with different shapes, (3) passing Python objects instead of tensors. For (1), please  define your @tf.function outside of the loop. For (2), @tf.function has experimental_relax_shapes=True option that relaxes argument shapes that can avoid unnecessary retracing. For (3), please refer to https://www.tensorflow.org/tutorials/customization/performance#python_or_tensor_args and https://www.tensorflow.org/api_docs/python/tf/function for  more details.\n",
      "WARNING:tensorflow:11 out of the last 11 calls to <function pfor.<locals>.f at 0x153be985f0> triggered tf.function retracing. Tracing is expensive and the excessive number of tracings could be due to (1) creating @tf.function repeatedly in a loop, (2) passing tensors with different shapes, (3) passing Python objects instead of tensors. For (1), please  define your @tf.function outside of the loop. For (2), @tf.function has experimental_relax_shapes=True option that relaxes argument shapes that can avoid unnecessary retracing. For (3), please refer to https://www.tensorflow.org/tutorials/customization/performance#python_or_tensor_args and https://www.tensorflow.org/api_docs/python/tf/function for  more details.\n",
      "WARNING:tensorflow:11 out of the last 11 calls to <function pfor.<locals>.f at 0x153be98cb0> triggered tf.function retracing. Tracing is expensive and the excessive number of tracings could be due to (1) creating @tf.function repeatedly in a loop, (2) passing tensors with different shapes, (3) passing Python objects instead of tensors. For (1), please  define your @tf.function outside of the loop. For (2), @tf.function has experimental_relax_shapes=True option that relaxes argument shapes that can avoid unnecessary retracing. For (3), please refer to https://www.tensorflow.org/tutorials/customization/performance#python_or_tensor_args and https://www.tensorflow.org/api_docs/python/tf/function for  more details.\n",
      "WARNING:tensorflow:11 out of the last 11 calls to <function pfor.<locals>.f at 0x153be98cb0> triggered tf.function retracing. Tracing is expensive and the excessive number of tracings could be due to (1) creating @tf.function repeatedly in a loop, (2) passing tensors with different shapes, (3) passing Python objects instead of tensors. For (1), please  define your @tf.function outside of the loop. For (2), @tf.function has experimental_relax_shapes=True option that relaxes argument shapes that can avoid unnecessary retracing. For (3), please refer to https://www.tensorflow.org/tutorials/customization/performance#python_or_tensor_args and https://www.tensorflow.org/api_docs/python/tf/function for  more details.\n",
      "WARNING:tensorflow:11 out of the last 11 calls to <function pfor.<locals>.f at 0x153be98cb0> triggered tf.function retracing. Tracing is expensive and the excessive number of tracings could be due to (1) creating @tf.function repeatedly in a loop, (2) passing tensors with different shapes, (3) passing Python objects instead of tensors. For (1), please  define your @tf.function outside of the loop. For (2), @tf.function has experimental_relax_shapes=True option that relaxes argument shapes that can avoid unnecessary retracing. For (3), please refer to https://www.tensorflow.org/tutorials/customization/performance#python_or_tensor_args and https://www.tensorflow.org/api_docs/python/tf/function for  more details.\n",
      "WARNING:tensorflow:11 out of the last 11 calls to <function pfor.<locals>.f at 0x153be985f0> triggered tf.function retracing. Tracing is expensive and the excessive number of tracings could be due to (1) creating @tf.function repeatedly in a loop, (2) passing tensors with different shapes, (3) passing Python objects instead of tensors. For (1), please  define your @tf.function outside of the loop. For (2), @tf.function has experimental_relax_shapes=True option that relaxes argument shapes that can avoid unnecessary retracing. For (3), please refer to https://www.tensorflow.org/tutorials/customization/performance#python_or_tensor_args and https://www.tensorflow.org/api_docs/python/tf/function for  more details.\n",
      "WARNING:tensorflow:11 out of the last 11 calls to <function pfor.<locals>.f at 0x153be98cb0> triggered tf.function retracing. Tracing is expensive and the excessive number of tracings could be due to (1) creating @tf.function repeatedly in a loop, (2) passing tensors with different shapes, (3) passing Python objects instead of tensors. For (1), please  define your @tf.function outside of the loop. For (2), @tf.function has experimental_relax_shapes=True option that relaxes argument shapes that can avoid unnecessary retracing. For (3), please refer to https://www.tensorflow.org/tutorials/customization/performance#python_or_tensor_args and https://www.tensorflow.org/api_docs/python/tf/function for  more details.\n",
      "WARNING:tensorflow:11 out of the last 11 calls to <function pfor.<locals>.f at 0x153c317dd0> triggered tf.function retracing. Tracing is expensive and the excessive number of tracings could be due to (1) creating @tf.function repeatedly in a loop, (2) passing tensors with different shapes, (3) passing Python objects instead of tensors. For (1), please  define your @tf.function outside of the loop. For (2), @tf.function has experimental_relax_shapes=True option that relaxes argument shapes that can avoid unnecessary retracing. For (3), please refer to https://www.tensorflow.org/tutorials/customization/performance#python_or_tensor_args and https://www.tensorflow.org/api_docs/python/tf/function for  more details.\n",
      "WARNING:tensorflow:11 out of the last 11 calls to <function pfor.<locals>.f at 0x153c317b00> triggered tf.function retracing. Tracing is expensive and the excessive number of tracings could be due to (1) creating @tf.function repeatedly in a loop, (2) passing tensors with different shapes, (3) passing Python objects instead of tensors. For (1), please  define your @tf.function outside of the loop. For (2), @tf.function has experimental_relax_shapes=True option that relaxes argument shapes that can avoid unnecessary retracing. For (3), please refer to https://www.tensorflow.org/tutorials/customization/performance#python_or_tensor_args and https://www.tensorflow.org/api_docs/python/tf/function for  more details.\n"
     ]
    },
    {
     "name": "stdout",
     "output_type": "stream",
     "text": [
      "WARNING:tensorflow:11 out of the last 11 calls to <function pfor.<locals>.f at 0x153c317e60> triggered tf.function retracing. Tracing is expensive and the excessive number of tracings could be due to (1) creating @tf.function repeatedly in a loop, (2) passing tensors with different shapes, (3) passing Python objects instead of tensors. For (1), please  define your @tf.function outside of the loop. For (2), @tf.function has experimental_relax_shapes=True option that relaxes argument shapes that can avoid unnecessary retracing. For (3), please refer to https://www.tensorflow.org/tutorials/customization/performance#python_or_tensor_args and https://www.tensorflow.org/api_docs/python/tf/function for  more details.\n",
      "WARNING:tensorflow:11 out of the last 11 calls to <function pfor.<locals>.f at 0x153c317cb0> triggered tf.function retracing. Tracing is expensive and the excessive number of tracings could be due to (1) creating @tf.function repeatedly in a loop, (2) passing tensors with different shapes, (3) passing Python objects instead of tensors. For (1), please  define your @tf.function outside of the loop. For (2), @tf.function has experimental_relax_shapes=True option that relaxes argument shapes that can avoid unnecessary retracing. For (3), please refer to https://www.tensorflow.org/tutorials/customization/performance#python_or_tensor_args and https://www.tensorflow.org/api_docs/python/tf/function for  more details.\n",
      "WARNING:tensorflow:11 out of the last 11 calls to <function pfor.<locals>.f at 0x153beb6050> triggered tf.function retracing. Tracing is expensive and the excessive number of tracings could be due to (1) creating @tf.function repeatedly in a loop, (2) passing tensors with different shapes, (3) passing Python objects instead of tensors. For (1), please  define your @tf.function outside of the loop. For (2), @tf.function has experimental_relax_shapes=True option that relaxes argument shapes that can avoid unnecessary retracing. For (3), please refer to https://www.tensorflow.org/tutorials/customization/performance#python_or_tensor_args and https://www.tensorflow.org/api_docs/python/tf/function for  more details.\n",
      "WARNING:tensorflow:11 out of the last 11 calls to <function pfor.<locals>.f at 0x153beb6050> triggered tf.function retracing. Tracing is expensive and the excessive number of tracings could be due to (1) creating @tf.function repeatedly in a loop, (2) passing tensors with different shapes, (3) passing Python objects instead of tensors. For (1), please  define your @tf.function outside of the loop. For (2), @tf.function has experimental_relax_shapes=True option that relaxes argument shapes that can avoid unnecessary retracing. For (3), please refer to https://www.tensorflow.org/tutorials/customization/performance#python_or_tensor_args and https://www.tensorflow.org/api_docs/python/tf/function for  more details.\n",
      "WARNING:tensorflow:11 out of the last 11 calls to <function pfor.<locals>.f at 0x153beb6050> triggered tf.function retracing. Tracing is expensive and the excessive number of tracings could be due to (1) creating @tf.function repeatedly in a loop, (2) passing tensors with different shapes, (3) passing Python objects instead of tensors. For (1), please  define your @tf.function outside of the loop. For (2), @tf.function has experimental_relax_shapes=True option that relaxes argument shapes that can avoid unnecessary retracing. For (3), please refer to https://www.tensorflow.org/tutorials/customization/performance#python_or_tensor_args and https://www.tensorflow.org/api_docs/python/tf/function for  more details.\n",
      "WARNING:tensorflow:11 out of the last 11 calls to <function pfor.<locals>.f at 0x153beb67a0> triggered tf.function retracing. Tracing is expensive and the excessive number of tracings could be due to (1) creating @tf.function repeatedly in a loop, (2) passing tensors with different shapes, (3) passing Python objects instead of tensors. For (1), please  define your @tf.function outside of the loop. For (2), @tf.function has experimental_relax_shapes=True option that relaxes argument shapes that can avoid unnecessary retracing. For (3), please refer to https://www.tensorflow.org/tutorials/customization/performance#python_or_tensor_args and https://www.tensorflow.org/api_docs/python/tf/function for  more details.\n",
      "WARNING:tensorflow:11 out of the last 11 calls to <function pfor.<locals>.f at 0x153beb67a0> triggered tf.function retracing. Tracing is expensive and the excessive number of tracings could be due to (1) creating @tf.function repeatedly in a loop, (2) passing tensors with different shapes, (3) passing Python objects instead of tensors. For (1), please  define your @tf.function outside of the loop. For (2), @tf.function has experimental_relax_shapes=True option that relaxes argument shapes that can avoid unnecessary retracing. For (3), please refer to https://www.tensorflow.org/tutorials/customization/performance#python_or_tensor_args and https://www.tensorflow.org/api_docs/python/tf/function for  more details.\n",
      "WARNING:tensorflow:11 out of the last 11 calls to <function pfor.<locals>.f at 0x153beb67a0> triggered tf.function retracing. Tracing is expensive and the excessive number of tracings could be due to (1) creating @tf.function repeatedly in a loop, (2) passing tensors with different shapes, (3) passing Python objects instead of tensors. For (1), please  define your @tf.function outside of the loop. For (2), @tf.function has experimental_relax_shapes=True option that relaxes argument shapes that can avoid unnecessary retracing. For (3), please refer to https://www.tensorflow.org/tutorials/customization/performance#python_or_tensor_args and https://www.tensorflow.org/api_docs/python/tf/function for  more details.\n",
      "WARNING:tensorflow:11 out of the last 11 calls to <function pfor.<locals>.f at 0x153beb6050> triggered tf.function retracing. Tracing is expensive and the excessive number of tracings could be due to (1) creating @tf.function repeatedly in a loop, (2) passing tensors with different shapes, (3) passing Python objects instead of tensors. For (1), please  define your @tf.function outside of the loop. For (2), @tf.function has experimental_relax_shapes=True option that relaxes argument shapes that can avoid unnecessary retracing. For (3), please refer to https://www.tensorflow.org/tutorials/customization/performance#python_or_tensor_args and https://www.tensorflow.org/api_docs/python/tf/function for  more details.\n",
      "WARNING:tensorflow:11 out of the last 11 calls to <function pfor.<locals>.f at 0x153beb6050> triggered tf.function retracing. Tracing is expensive and the excessive number of tracings could be due to (1) creating @tf.function repeatedly in a loop, (2) passing tensors with different shapes, (3) passing Python objects instead of tensors. For (1), please  define your @tf.function outside of the loop. For (2), @tf.function has experimental_relax_shapes=True option that relaxes argument shapes that can avoid unnecessary retracing. For (3), please refer to https://www.tensorflow.org/tutorials/customization/performance#python_or_tensor_args and https://www.tensorflow.org/api_docs/python/tf/function for  more details.\n",
      "WARNING:tensorflow:11 out of the last 11 calls to <function pfor.<locals>.f at 0x153beb67a0> triggered tf.function retracing. Tracing is expensive and the excessive number of tracings could be due to (1) creating @tf.function repeatedly in a loop, (2) passing tensors with different shapes, (3) passing Python objects instead of tensors. For (1), please  define your @tf.function outside of the loop. For (2), @tf.function has experimental_relax_shapes=True option that relaxes argument shapes that can avoid unnecessary retracing. For (3), please refer to https://www.tensorflow.org/tutorials/customization/performance#python_or_tensor_args and https://www.tensorflow.org/api_docs/python/tf/function for  more details.\n",
      "WARNING:tensorflow:11 out of the last 11 calls to <function pfor.<locals>.f at 0x153beb67a0> triggered tf.function retracing. Tracing is expensive and the excessive number of tracings could be due to (1) creating @tf.function repeatedly in a loop, (2) passing tensors with different shapes, (3) passing Python objects instead of tensors. For (1), please  define your @tf.function outside of the loop. For (2), @tf.function has experimental_relax_shapes=True option that relaxes argument shapes that can avoid unnecessary retracing. For (3), please refer to https://www.tensorflow.org/tutorials/customization/performance#python_or_tensor_args and https://www.tensorflow.org/api_docs/python/tf/function for  more details.\n"
     ]
    },
    {
     "name": "stdout",
     "output_type": "stream",
     "text": [
      "WARNING:tensorflow:11 out of the last 11 calls to <function pfor.<locals>.f at 0x153beb6050> triggered tf.function retracing. Tracing is expensive and the excessive number of tracings could be due to (1) creating @tf.function repeatedly in a loop, (2) passing tensors with different shapes, (3) passing Python objects instead of tensors. For (1), please  define your @tf.function outside of the loop. For (2), @tf.function has experimental_relax_shapes=True option that relaxes argument shapes that can avoid unnecessary retracing. For (3), please refer to https://www.tensorflow.org/tutorials/customization/performance#python_or_tensor_args and https://www.tensorflow.org/api_docs/python/tf/function for  more details.\n"
     ]
    }
   ],
   "source": [
    "args = flatten_params(*(\n",
    "    tfd.Dirichlet(np.ones((len(S_CATEGORIES),))).sample(),               # sip\n",
    "    tfd.Beta(3, 2).sample(len(G_CATEGORIES)),                            # beta\n",
    "    generate_social_interaction_matrix(),                                # c\n",
    "    tfd.Exponential(1/2).sample(len(G_CATEGORIES)),                      # di\n",
    "    tfd.Exponential(1/7).sample(len(G_CATEGORIES)),                      # wip\n",
    "    tfd.Exponential(1/3).sample(len(G_CATEGORIES)),                      # dai\n",
    "    tfd.Exponential(1/14).sample(len(G_CATEGORIES)),                     # dwt\n",
    "    tfd.Dirichlet(np.ones((len(G_CATEGORIES),))).sample(),               # psc\n",
    "    np.array([1825.]),                                                   # r\n",
    "), framework=np).astype(np.float32)\n",
    "\n",
    "def func(t, y):\n",
    "    return tf.Variable(system(y, t, args, tf))\n",
    "\n",
    "results = tfp.math.ode.BDF().solve(func, 0, state0, solution_times=t[:2])"
   ]
  },
  {
   "cell_type": "markdown",
   "metadata": {},
   "source": [
    "Variational Inference (VI) methods are used to identify complex distributions as an alternative to the computationally costly (but very accurate) Markov chain Monte Carlo (MCMC) sampling. In general, MCMC provide guarantees of producing (asymptotically) exact samples from the target density [4, p.3]. In VI case, we use a less complex but still flexible **family** of distributions to approximate an intractable distribution. Some literature works on VI are\n",
    "\n",
    "1. Information Theory, Inference and Learning Algorithms, David J. C. MacKay, David J. C. Mac Kay, Cambridge University Press, 2003\n",
    "2. Bayesian Reasoning and Machine Learning, David Barber, Cambridge University Press, 2012\n",
    "3. Pattern Recognition and Machine Learning, Christopher M. Bishop, Springer New York, 2016\n",
    "4. Variational Inference: A Review for Statisticians, David M. Blei, Alp Kucukelbir, Jon D. McAuliffe, 2018\n",
    "5. High-Level Explanation of Variational Inference, Jason Eisner, 2011\n",
    "\n",
    "For business and academic projects, where Bayesian models are fitted on very large datasets (Big Data applications), approximate inference methods are a very efficient and optimised way of infering quite accurate results.\n",
    "\n",
    "\n",
    "Assume that we want to use VI on a Bayesian regression, let $x$ be the independent variables with $X$ their matrix form and $y$ the continuous responce variable. The coefficients $\\beta$ of the model follow a complex multimodal distribution. \n",
    "\n",
    "$$\n",
    "y = \\mathcal{N}(\\beta^{T}X, \\sigma^{2})\n",
    "$$\n",
    "\n",
    "in Bayesian form, we want to infer the posterior of the model, in other words the distribution of the coefficients\n",
    "\n",
    "$$\n",
    "p(\\beta|y, X) = \\frac{p(y|X, \\beta)p(\\beta|X)}{p(y)}\n",
    "$$\n",
    "\n",
    "The complexity of the posterior distribution means that we have two ways to compute the results\n",
    "\n",
    "1. Use MCMC sampling methods (Gibb's, Hamiltonian)\n",
    "2. Use approximate methods\n",
    "\n",
    "To use approximate inference we follow the steps, that are similar to [1, 2, 4]\n",
    "\n",
    "$$\n",
    "\\begin{aligned}\n",
    "KL(q(\\beta)||p(\\beta|y, X)) &= \\int q(\\beta) \\log\\bigg(\\frac{q(\\beta)}{p(\\beta|y, X)}\\bigg) d\\beta \\\\\n",
    "&= \\int q(\\beta) \\log(q(\\beta)) d\\beta - \\int q(\\beta) \\log(p(\\beta|y, X)) d\\beta \\\\\n",
    "&= \\int q(\\beta) \\log(q(\\beta)) d\\beta - \\int q(\\beta) \\log\\bigg(\\frac{p(y|\\beta, X)p(\\beta|X)}{p(y)}\\bigg)d\\beta \\\\\n",
    "&= \\int q(\\beta) \\log(q(\\beta))d\\beta - \\int q(\\beta) \\log(p(y|\\beta, X)p(\\beta|X))d\\beta + \\log(p(y)) \\\\\n",
    "&= \\int q(\\beta) \\log(q(\\beta))d\\beta - \\int q(\\beta) \\log(p(\\beta|X))d\\beta - \\int q(\\beta) \\log(p(y|\\beta, X))d\\beta + \\log(p(y)) \\\\\n",
    "&= \\int q(\\beta) \\log\\bigg(\\frac{q(\\beta)}{p(\\beta|X)}\\bigg)d\\beta - \\int q(\\beta) \\log(p(y|\\beta, X))d\\beta + \\log(p(y)) \\\\\n",
    "&= KL(q(\\beta)||p(\\beta|X)) - \\mathbb{E}_{q}(\\log(p(y|\\beta, X))) + \\log(p(y))\n",
    "\\end{aligned}\n",
    "$$\n",
    "\n",
    "the RHS of the equation shows the entropy, the average energy and the evidence (marginal of $y$).\n",
    "By setting the lower bound (and change the signs because we move the $\\log(p(y))$ on the LHS) as\n",
    "\n",
    "$$\n",
    "ELBO(q) = \\mathbb{E}_{q}(\\log(p(y|\\beta, X))) - KL(q(\\beta)||p(\\beta|X))\n",
    "$$\n",
    "\n",
    "and the previous formula becomes\n",
    "\n",
    "$$\n",
    "\\log(p(y)) = ELBO(q) + KL(q(\\beta)||p(\\beta|y, X))\n",
    "$$\n",
    "\n",
    "which is similar to the formula that Bishop has in his book [3, p.463]"
   ]
  },
  {
   "cell_type": "code",
   "execution_count": 11,
   "metadata": {},
   "outputs": [],
   "source": [
    "# sigma = tfd.HalfCauchy(\n",
    "#     1, scale=1, name='HalfCauchy'\n",
    "# )"
   ]
  },
  {
   "cell_type": "code",
   "execution_count": 12,
   "metadata": {},
   "outputs": [],
   "source": [
    "# scale_HC = tf.dtypes.cast(sigma.sample(state0.shape[0]), tf.float32)\n",
    "# score = tf.dtypes.cast(results[3][0][0], tf.float32)"
   ]
  },
  {
   "cell_type": "code",
   "execution_count": 13,
   "metadata": {},
   "outputs": [],
   "source": [
    "# tfd.Dirichlet(np.ones((len(S_CATEGORIES),))).sample(),               # sip\n",
    "#     tfd.Beta(3, 2).sample(len(G_CATEGORIES)),                            # beta\n",
    "#     generate_social_interaction_matrix(),                                # c\n",
    "#     tfd.Exponential(1/2).sample(len(G_CATEGORIES)),                      # di\n",
    "#     tfd.Exponential(1/7).sample(len(G_CATEGORIES)),                      # wip\n",
    "#     tfd.Exponential(1/3).sample(len(G_CATEGORIES)),                      # dai\n",
    "#     tfd.Exponential(1/14).sample(len(G_CATEGORIES)),                     # dwt\n",
    "#     tfd.Dirichlet(np.ones((len(G_CATEGORIES),))).sample(),               # psc\n",
    "#     1825.,              "
   ]
  },
  {
   "cell_type": "code",
   "execution_count": 11,
   "metadata": {},
   "outputs": [],
   "source": [
    "def f(t, y):\n",
    "    return tf.Variable(system(y, t, args, tf))\n",
    "bijector = tfb.FFJORD(\n",
    "    f, \n",
    "    tfp.math.ode.BDF(use_pfor_to_compute_jacobian=False).solve, \n",
    "    trace_augmentation_fn=tfb.ffjord.trace_jacobian_exact, \n",
    "    dtype=tf.float32,\n",
    "    initial_time=0.0,\n",
    "    final_time=t[1],\n",
    ")\n",
    "y = bijector.forward(results.states[0])\n",
    "x = bijector.inverse(results.states[-1])\n",
    "base = tfd.Gamma(tf.ones_like(x) * 5., tf.ones_like(x))\n",
    "out = tfd.TransformedDistribution(base, bijector)"
   ]
  },
  {
   "cell_type": "code",
   "execution_count": 12,
   "metadata": {
    "scrolled": false
   },
   "outputs": [
    {
     "data": {
      "text/plain": [
       "<tf.Tensor: shape=(80,), dtype=float32, numpy=\n",
       "array([ 0.42313626,  0.38591206,  0.39422524,  0.41592085,  0.37322626,\n",
       "        0.35243505,  0.5516175 ,  0.32558474,  1.3630904 ,  1.5728025 ,\n",
       "        1.0812663 ,  1.6269318 ,  1.1500969 ,  1.2913414 ,  1.5271677 ,\n",
       "        1.4847775 ,  8.3775015 ,  7.90877   ,  9.713022  , 10.551958  ,\n",
       "        6.053576  , 12.752644  , 10.667139  , 11.250881  , 13.600621  ,\n",
       "       17.40599   , 13.584718  , 16.396702  , 15.743464  , 14.225464  ,\n",
       "       11.988556  , 14.773691  ,  2.5650363 ,  2.9951563 ,  3.3496504 ,\n",
       "        1.877304  ,  2.352535  ,  2.5448742 ,  2.9898202 ,  2.0063927 ,\n",
       "        6.952654  ,  6.3390927 ,  4.325371  ,  4.381859  ,  3.7884252 ,\n",
       "        3.8504527 ,  2.5212545 ,  4.514849  ,  8.68363   ,  7.83141   ,\n",
       "        7.1723013 ,  8.372025  ,  4.8355565 ,  6.4123106 ,  9.254755  ,\n",
       "        6.630477  ,  2.18247   ,  3.7633035 ,  2.7609801 ,  2.3219645 ,\n",
       "        2.308621  ,  3.24376   ,  3.4878547 ,  3.3224285 ,  4.4259663 ,\n",
       "        4.2755413 ,  5.2364    ,  4.290265  ,  6.7165837 ,  4.286356  ,\n",
       "        7.7443185 ,  3.2896805 ,  4.758342  ,  4.148014  ,  2.7884347 ,\n",
       "        5.521628  ,  3.5063732 ,  3.2696114 ,  4.0802956 ,  4.0594726 ],\n",
       "      dtype=float32)>"
      ]
     },
     "execution_count": 12,
     "metadata": {},
     "output_type": "execute_result"
    }
   ],
   "source": [
    "out.sample()"
   ]
  },
  {
   "cell_type": "code",
   "execution_count": 13,
   "metadata": {},
   "outputs": [],
   "source": [
    "Root = tfd.JointDistributionCoroutine.Root\n",
    "\n",
    "sip_var = tf.Variable(tf.ones((len(S_CATEGORIES),)), name='sip_var')\n",
    "beta_shape_var = tf.Variable(3., name='beta_shape_var')\n",
    "beta_scale_var = tf.Variable(2., name='beta_scale_var')\n",
    "di_rate_var = tf.Variable(1./2., name='di_rate_var')\n",
    "wip_rate_var = tf.Variable(1./7., name='wip_rate_var')\n",
    "dai_rate_var = tf.Variable(1./7., name='dai_rate_var')\n",
    "dwt_rate_var = tf.Variable(1./3., name='dwt_rate_var')\n",
    "psc_var = tf.Variable(tf.ones((len(G_CATEGORIES),)), name='psc_var')\n",
    "\n",
    "def model_fn():\n",
    "    sip = yield Root(tfd.Dirichlet(sip_var, name=\"sip\"))\n",
    "    beta = yield Root(tfd.Sample(tfd.Beta(beta_shape_var, beta_scale_var, name=\"beta\"), sample_shape=(len(G_CATEGORIES),)))\n",
    "    di = yield Root(tfd.Sample(tfd.Exponential(di_rate_var, name=\"di\"), sample_shape=(len(G_CATEGORIES),)))\n",
    "    wip = yield Root(tfd.Sample(tfd.Exponential(wip_rate_var, name=\"wip\"), sample_shape=(len(G_CATEGORIES),)))\n",
    "    dai = yield Root(tfd.Sample(tfd.Exponential(dai_rate_var, name=\"dai\"), sample_shape=(len(G_CATEGORIES),)))\n",
    "    dwt = yield Root(tfd.Sample(tfd.Exponential(dwt_rate_var, name=\"dwt\"), sample_shape=(len(G_CATEGORIES),)))\n",
    "    psc = yield Root(tfd.Dirichlet(psc_var, name=\"psc\"))\n",
    "    \n",
    "    args_ = flatten_params(*(\n",
    "        sip, \n",
    "        beta, \n",
    "        tf.constant(generate_social_interaction_matrix(), dtype=tf.float32),\n",
    "        di, \n",
    "        wip, \n",
    "        dai, \n",
    "        dwt, \n",
    "        psc, \n",
    "        tf.constant(np.array([1825.]), dtype=tf.float32)\n",
    "    ), framework=tf)\n",
    "    \n",
    "    def f(t, y):\n",
    "        return tf.Variable(system(y, t, args_, tf))\n",
    "    bijector = tfb.FFJORD(\n",
    "        f, \n",
    "        tfp.math.ode.BDF(use_pfor_to_compute_jacobian=False).solve, \n",
    "        trace_augmentation_fn=tfb.ffjord.trace_jacobian_exact, \n",
    "        dtype=tf.float32,\n",
    "        initial_time=0.0,\n",
    "        final_time=t[1],\n",
    "    )\n",
    "    y = bijector.forward(results.states[0])\n",
    "    x = bijector.inverse(results.states[-1])\n",
    "    base = tfd.Gamma(tf.ones_like(results.states[0]) * 5., tf.ones_like(results.states[0]))\n",
    "    out = yield tfd.TransformedDistribution(base, bijector)\n",
    "    \n",
    "model = tfd.JointDistributionCoroutine(model_fn)"
   ]
  },
  {
   "cell_type": "code",
   "execution_count": 12,
   "metadata": {},
   "outputs": [
    {
     "data": {
      "text/plain": [
       "(<tf.Tensor: shape=(2,), dtype=float32, numpy=array([0.28095123, 0.71904874], dtype=float32)>,\n",
       " <tf.Tensor: shape=(2,), dtype=float32, numpy=array([0.7211737, 0.4471082], dtype=float32)>,\n",
       " <tf.Tensor: shape=(2,), dtype=float32, numpy=array([5.231157  , 0.55367357], dtype=float32)>,\n",
       " <tf.Tensor: shape=(2,), dtype=float32, numpy=array([12.878466, 32.126   ], dtype=float32)>,\n",
       " <tf.Tensor: shape=(2,), dtype=float32, numpy=array([0.84687215, 2.919092  ], dtype=float32)>,\n",
       " <tf.Tensor: shape=(2,), dtype=float32, numpy=array([11.5512705 ,  0.22644955], dtype=float32)>,\n",
       " <tf.Tensor: shape=(2,), dtype=float32, numpy=array([0.91193455, 0.0880654 ], dtype=float32)>,\n",
       " <tf.Tensor: shape=(80,), dtype=float32, numpy=\n",
       " array([ 1.0286715 ,  1.0174501 ,  0.77478456,  0.6140934 ,  1.1337287 ,\n",
       "         0.60373443,  0.5184823 ,  0.75227493,  5.414995  ,  3.439594  ,\n",
       "         4.957053  ,  5.394575  ,  5.6705194 ,  5.2676315 ,  5.301937  ,\n",
       "         4.7474284 ,  5.2254233 ,  7.3385587 ,  4.6770144 ,  3.0843313 ,\n",
       "         5.5204134 ,  2.884605  ,  2.5994768 ,  3.9079413 , 15.791502  ,\n",
       "        12.71228   , 12.276375  , 16.062016  , 17.53281   , 12.548908  ,\n",
       "        14.580318  , 14.540147  ,  2.3095074 ,  3.5138986 ,  6.123375  ,\n",
       "         3.299101  ,  8.458681  ,  1.5448842 ,  7.5545244 , 10.999818  ,\n",
       "         0.17364809,  0.11070472,  0.10540266,  0.17311682,  0.17449065,\n",
       "         0.159915  ,  0.12524754,  0.11259652, 12.495163  , 13.303627  ,\n",
       "         6.809543  ,  5.8341603 , 15.838599  ,  6.8275414 ,  6.812785  ,\n",
       "        10.886221  ,  1.2384588 ,  0.47236985,  1.388514  ,  1.0589527 ,\n",
       "         1.4832017 ,  1.1083229 ,  2.2453983 ,  1.1008046 ,  7.347753  ,\n",
       "         4.6998267 ,  5.46537   ,  5.346478  ,  4.85804   ,  4.435002  ,\n",
       "         3.2995157 ,  3.1071215 ,  4.14566   ,  3.0119226 ,  3.238218  ,\n",
       "         4.0643697 ,  4.332288  ,  3.7655256 ,  2.7817602 ,  3.4337397 ],\n",
       "       dtype=float32)>)"
      ]
     },
     "execution_count": 12,
     "metadata": {},
     "output_type": "execute_result"
    }
   ],
   "source": [
    "model.sample()"
   ]
  },
  {
   "cell_type": "code",
   "execution_count": 14,
   "metadata": {},
   "outputs": [],
   "source": [
    "q_sip_loc = tf.Variable(tf.zeros((len(S_CATEGORIES),)), name='q_sip_loc')\n",
    "q_sip_scale = tf.Variable(tf.ones((len(S_CATEGORIES),)), name='q_sip_scale')\n",
    "q_beta_loc = tf.Variable(tf.zeros((len(S_CATEGORIES),)), name='q_beta_loc')\n",
    "q_beta_scale = tf.Variable(tf.ones((len(S_CATEGORIES),)), name='q_beta_scale')\n",
    "q_di_loc = tf.Variable(tf.zeros((len(S_CATEGORIES),)), name='q_di_loc')\n",
    "q_di_scale = tf.Variable(tf.ones((len(S_CATEGORIES),)), name='q_di_scale')\n",
    "q_wip_loc = tf.Variable(tf.zeros((len(S_CATEGORIES),)), name='q_wip_loc')\n",
    "q_wip_scale = tf.Variable(tf.ones((len(S_CATEGORIES),)), name='q_wip_scale')\n",
    "q_dai_loc = tf.Variable(tf.zeros((len(S_CATEGORIES),)), name='q_dai_loc')\n",
    "q_dai_scale = tf.Variable(tf.ones((len(S_CATEGORIES),)), name='q_dai_scale')\n",
    "q_dwt_loc = tf.Variable(tf.zeros((len(S_CATEGORIES),)), name='q_dwt_loc')\n",
    "q_dwt_scale = tf.Variable(tf.ones((len(S_CATEGORIES),)), name='q_dwt_scale')\n",
    "q_psc_loc = tf.Variable(tf.zeros((len(S_CATEGORIES),)), name='q_psc_loc')\n",
    "q_psc_scale = tf.Variable(tf.ones((len(S_CATEGORIES),)), name='q_psc_scale')\n",
    "\n",
    "def variational_model_fn():\n",
    "    sip = yield Root(tfd.Normal(loc=q_sip_loc, scale=tf.nn.softplus(q_sip_scale)))\n",
    "    beta = yield Root(tfd.Normal(loc=q_beta_loc, scale=tf.nn.softplus(q_beta_scale)))\n",
    "    di = yield Root(tfd.Normal(loc=q_di_loc, scale=tf.nn.softplus(q_di_scale)))\n",
    "    wip = yield Root(tfd.Normal(loc=q_wip_loc, scale=tf.nn.softplus(q_wip_scale)))\n",
    "    dai = yield Root(tfd.Normal(loc=q_dai_loc, scale=tf.nn.softplus(q_dai_scale)))\n",
    "    dwt = yield Root(tfd.Normal(loc=q_dwt_loc, scale=tf.nn.softplus(q_dwt_scale)))\n",
    "    psc = yield Root(tfd.Normal(loc=q_psc_loc, scale=tf.nn.softplus(q_psc_scale)))\n",
    "    \n",
    "#     args_ = flatten_params(*(\n",
    "#         sip, \n",
    "#         beta, \n",
    "#         tf.constant(generate_social_interaction_matrix(), dtype=tf.float32),\n",
    "#         di, \n",
    "#         wip, \n",
    "#         dai, \n",
    "#         dwt, \n",
    "#         psc, \n",
    "#         tf.constant(np.array([1825.]), dtype=tf.float32)\n",
    "#     ), framework=tf)\n",
    "    \n",
    "#     def f(t, y):\n",
    "#         return tf.Variable(system(y, t, args_, tf))\n",
    "#     bijector = tfb.FFJORD(\n",
    "#         f, \n",
    "#         tfp.math.ode.BDF(use_pfor_to_compute_jacobian=False).solve, \n",
    "#         trace_augmentation_fn=tfb.ffjord.trace_jacobian_exact, \n",
    "#         dtype=tf.float32,\n",
    "#         initial_time=0.0,\n",
    "#         final_time=t[1],\n",
    "#     )\n",
    "#     y = bijector.forward(results.states[0])\n",
    "#     x = bijector.inverse(results.states[-1])\n",
    "#     base = tfd.Gamma(tf.ones_like(results.states[0]) * 5., tf.ones_like(results.states[0]))\n",
    "#     y = yield tfd.TransformedDistribution(base, bijector)\n",
    "    \n",
    "q = tfd.JointDistributionCoroutine(variational_model_fn)"
   ]
  },
  {
   "cell_type": "code",
   "execution_count": 67,
   "metadata": {
    "scrolled": true
   },
   "outputs": [],
   "source": [
    "q_samples = q.sample()"
   ]
  },
  {
   "cell_type": "markdown",
   "metadata": {},
   "source": [
    "### !!! TODO: FIXME !!!!"
   ]
  },
  {
   "cell_type": "code",
   "execution_count": 18,
   "metadata": {
    "code_folding": [
     154
    ],
    "hide_input": true
   },
   "outputs": [],
   "source": [
    "# Copyright 2018 The TensorFlow Probability Authors.\n",
    "#\n",
    "# Licensed under the Apache License, Version 2.0 (the \"License\");\n",
    "# you may not use this file except in compliance with the License.\n",
    "# You may obtain a copy of the License at\n",
    "#\n",
    "#     http://www.apache.org/licenses/LICENSE-2.0\n",
    "#\n",
    "# Unless required by applicable law or agreed to in writing, software\n",
    "# distributed under the License is distributed on an \"AS IS\" BASIS,\n",
    "# WITHOUT WARRANTIES OR CONDITIONS OF ANY KIND, either express or implied.\n",
    "# See the License for the specific language governing permissions and\n",
    "# limitations under the License.\n",
    "# ============================================================================\n",
    "\"\"\"Utility function to construct the diagonal of a Jacobian matrix.\"\"\"\n",
    "\n",
    "from __future__ import absolute_import\n",
    "from __future__ import division\n",
    "from __future__ import print_function\n",
    "\n",
    "import tensorflow.compat.v2 as tf\n",
    "\n",
    "from tensorflow_probability.python.math.gradient import value_and_gradient\n",
    "\n",
    "\n",
    "def diag_jacobian2(xs,\n",
    "                  ys=None,\n",
    "                  sample_shape=None,\n",
    "                  fn=None,\n",
    "                  parallel_iterations=10,\n",
    "                  name=None):\n",
    "\n",
    "    with tf.name_scope(name or 'jacobians_diag'):\n",
    "        if sample_shape is None:\n",
    "            sample_shape = [1]\n",
    "        # Output Jacobian diagonal\n",
    "        jacobians_diag_res = []\n",
    "        # Convert input `xs` to a list\n",
    "        xs = list(xs) if _is_list_like(xs) else [xs]\n",
    "        xs = [tf.convert_to_tensor(x) for x in xs]\n",
    "        if not tf.executing_eagerly():\n",
    "            if ys is None:\n",
    "                if fn is None:\n",
    "                    raise ValueError('Both `ys` and `fn` can not be `None`')\n",
    "                else:\n",
    "                    ys = fn(*xs)\n",
    "            # Convert ys to a list\n",
    "#             raise ValueError(ys)\n",
    "            ys = list(ys) if _is_list_like(ys) else [ys]\n",
    "            if len(xs) != len(ys):\n",
    "                raise ValueError('`xs` and `ys` should have the same length')\n",
    "            for y, x in zip(ys, xs):\n",
    "                # Broadcast `y` to the shape of `x`.\n",
    "                y_ = y + tf.zeros_like(x)\n",
    "                # Change `event_shape` to one-dimension\n",
    "                y_ = tf.reshape(y, tf.concat([sample_shape, [-1]], -1))\n",
    "\n",
    "                # Declare an iterator and tensor array loop variables for the gradients.\n",
    "                n = tf.size(x) / tf.cast(tf.reduce_prod(sample_shape), dtype=tf.int32)\n",
    "                n = tf.cast(n, dtype=tf.int32)\n",
    "                loop_vars = [\n",
    "                    0,\n",
    "                    tf.TensorArray(x.dtype, n)\n",
    "                ]\n",
    "\n",
    "                def loop_body(j):\n",
    "                    \"\"\"Loop function to compute gradients of the each direction.\"\"\"\n",
    "                    # Gradient along direction `j`.\n",
    "                    res = tf.gradients(ys=y_[..., j], xs=x)[0]  # pylint: disable=cell-var-from-loop\n",
    "                    if res is None:\n",
    "                    # Return zero, if the gradient is `None`.\n",
    "                        res = tf.zeros(tf.concat([sample_shape, [1]], -1),\n",
    "                           dtype=x.dtype)  # pylint: disable=cell-var-from-loop\n",
    "                    else:\n",
    "                        # Reshape `event_shape` to 1D\n",
    "                        res = tf.reshape(res, tf.concat([sample_shape, [-1]], -1))\n",
    "                        # Add artificial dimension for the case of zero shape input tensor\n",
    "                        res = res[tf.newaxis, ..., j]\n",
    "                    return res  # pylint: disable=cell-var-from-loop\n",
    "\n",
    "            # Iterate over all elements of the gradient and compute second order\n",
    "            # derivatives.\n",
    "            _, jacobian_diag_res = tf.while_loop(\n",
    "                cond=lambda j, _: j < n,  # pylint: disable=cell-var-from-loop\n",
    "                body=lambda j, result: (j + 1, result.write(j, loop_body(j))),\n",
    "                loop_vars=loop_vars,\n",
    "                parallel_iterations=parallel_iterations)\n",
    "\n",
    "            shape_x = tf.shape(x)\n",
    "            # Stack gradients together and move flattened `event_shape` to the\n",
    "            # zero position\n",
    "            reshaped_jacobian_diag = tf.transpose(a=jacobian_diag_res.stack())\n",
    "            # Reshape to the original tensor\n",
    "            reshaped_jacobian_diag = tf.reshape(reshaped_jacobian_diag, shape_x)\n",
    "            jacobians_diag_res.append(reshaped_jacobian_diag)\n",
    "\n",
    "        else:\n",
    "            if fn is None:\n",
    "                raise ValueError('`fn` can not be `None` when eager execution is '\n",
    "                         'enabled')\n",
    "            if ys is None:\n",
    "                ys = fn(*xs)\n",
    "\n",
    "            def fn_slice(i, j):\n",
    "                \"\"\"Broadcast y[i], flatten event shape of y[i], return y[i][..., j].\"\"\"\n",
    "                def fn_broadcast(*state):\n",
    "                    res = fn(*state)\n",
    "                    res = list(res) if _is_list_like(res) else [res]\n",
    "                    if len(res) != len(state):\n",
    "                        res *= len(state)\n",
    "                        res = [tf.reshape(r + tf.zeros_like(s),\n",
    "                            tf.concat([sample_shape, [-1]], -1))\n",
    "                        for r, s in zip(res, state)]\n",
    "                    return res\n",
    "                # Expand dimensions before returning in order to support 0D input `xs`\n",
    "                return lambda *state: tf.expand_dims(fn_broadcast(*state)[i], 0)[..., j]\n",
    "\n",
    "            def make_loop_body(i, x):\n",
    "                \"\"\"Loop function to compute gradients of the each direction.\"\"\"\n",
    "                def _fn(j, result):\n",
    "                    res = value_and_gradient(fn_slice(i, j), xs)[1][i]\n",
    "                    if res is None:\n",
    "                        res = tf.zeros(sample_shape, dtype=x.dtype)\n",
    "                    else:\n",
    "                        res = tf.reshape(res, tf.concat([sample_shape, [-1]], -1))\n",
    "                        res = res[..., j]\n",
    "                    return j + 1, result.write(j, res)\n",
    "                return _fn\n",
    "\n",
    "            for i, x in enumerate(xs):\n",
    "                # Declare an iterator and tensor array loop variables for the gradients.\n",
    "                n = tf.size(x) / tf.cast(tf.reduce_prod(sample_shape), dtype=tf.int32)\n",
    "                n = tf.cast(n, dtype=tf.int32)\n",
    "                loop_vars = (0, tf.TensorArray(x.dtype, n, element_shape=sample_shape))\n",
    "\n",
    "                # Iterate over all elements of the gradient and compute second order\n",
    "                # derivatives.\n",
    "                _, jacobian_diag_res = tf.while_loop(\n",
    "                    cond=lambda j, _: j < n,\n",
    "                    body=make_loop_body(i, x),\n",
    "                    loop_vars=loop_vars,\n",
    "                    parallel_iterations=parallel_iterations)\n",
    "\n",
    "                shape_x = tf.shape(x)\n",
    "                # Stack gradients together and move flattened `event_shape` to the\n",
    "                # zero position\n",
    "                reshaped_jacobian_diag = tf.transpose(a=jacobian_diag_res.stack())\n",
    "                # Reshape to the original tensor\n",
    "                reshaped_jacobian_diag = tf.reshape(reshaped_jacobian_diag, shape_x)\n",
    "                jacobians_diag_res.append(reshaped_jacobian_diag)\n",
    "\n",
    "    return ys, jacobians_diag_res\n",
    "\n",
    "\n",
    "def _is_list_like(x):\n",
    "    \"\"\"Helper which returns `True` if input is `list`-like.\"\"\"\n",
    "    return isinstance(x, (tuple, list))\n",
    "\n",
    "tfb.ffjord.tfp_math.diag_jacobian = diag_jacobian2"
   ]
  },
  {
   "cell_type": "code",
   "execution_count": null,
   "metadata": {},
   "outputs": [
    {
     "name": "stdout",
     "output_type": "stream",
     "text": [
      "WARNING:tensorflow:From /Users/leo/anaconda3/lib/python3.7/site-packages/tensorflow_probability/python/math/ode/base.py:463: calling while_loop_v2 (from tensorflow.python.ops.control_flow_ops) with back_prop=False is deprecated and will be removed in a future version.\n",
      "Instructions for updating:\n",
      "back_prop=False is deprecated. Consider using tf.stop_gradient instead.\n",
      "Instead of:\n",
      "results = tf.while_loop(c, b, vars, back_prop=False)\n",
      "Use:\n",
      "results = tf.nest.map_structure(tf.stop_gradient, tf.while_loop(c, b, vars))\n",
      "WARNING:tensorflow:Gradients do not exist for variables ['monte_carlo_variational_loss/expectation/monte_carlo_variational_loss_expectation_ffjord/forward/bdf/jacobians_diag/Variable:0', 'monte_carlo_variational_loss/expectation/monte_carlo_variational_loss_expectation_ffjord/forward/bdf/jacobians_diag_1/Variable:0', 'monte_carlo_variational_loss/expectation/monte_carlo_variational_loss_expectation_ffjord/forward/bdf/jacobians_diag_2/Variable:0', 'monte_carlo_variational_loss/expectation/monte_carlo_variational_loss_expectation_ffjord/forward/bdf/while/while/jacobians_diag/Variable:0', 'monte_carlo_variational_loss/expectation/monte_carlo_variational_loss_expectation_ffjord/forward/bdf/while/while/while_1/while/jacobians_diag/Variable:0', 'monte_carlo_variational_loss/expectation/monte_carlo_variational_loss_expectation_ffjord_1/inverse/bdf/jacobians_diag/Variable:0', 'monte_carlo_variational_loss/expectation/monte_carlo_variational_loss_expectation_ffjord_1/inverse/bdf/jacobians_diag_1/Variable:0', 'monte_carlo_variational_loss/expectation/monte_carlo_variational_loss_expectation_ffjord_1/inverse/bdf/jacobians_diag_2/Variable:0', 'monte_carlo_variational_loss/expectation/monte_carlo_variational_loss_expectation_ffjord_1/inverse/bdf/while/while/jacobians_diag/Variable:0', 'monte_carlo_variational_loss/expectation/monte_carlo_variational_loss_expectation_ffjord_1/inverse/bdf/while/while/while_1/while/jacobians_diag/Variable:0', 'monte_carlo_variational_loss/expectation/monte_carlo_variational_loss_expectation_monte_carlo_variational_loss_expectation_ffjordmonte_carlo_variational_loss_expectation_Gamma/sample/monte_carlo_variational_loss_expectation_ffjord/forward/bdf/jacobians_diag/Variable:0', 'monte_carlo_variational_loss/expectation/monte_carlo_variational_loss_expectation_monte_carlo_variational_loss_expectation_ffjordmonte_carlo_variational_loss_expectation_Gamma/sample/monte_carlo_variational_loss_expectation_ffjord/forward/bdf/jacobians_diag_1/Variable:0', 'monte_carlo_variational_loss/expectation/monte_carlo_variational_loss_expectation_monte_carlo_variational_loss_expectation_ffjordmonte_carlo_variational_loss_expectation_Gamma/sample/monte_carlo_variational_loss_expectation_ffjord/forward/bdf/jacobians_diag_2/Variable:0', 'monte_carlo_variational_loss/expectation/monte_carlo_variational_loss_expectation_monte_carlo_variational_loss_expectation_ffjordmonte_carlo_variational_loss_expectation_Gamma/sample/monte_carlo_variational_loss_expectation_ffjord/forward/bdf/while/while/jacobians_diag/Variable:0', 'monte_carlo_variational_loss/expectation/monte_carlo_variational_loss_expectation_monte_carlo_variational_loss_expectation_ffjordmonte_carlo_variational_loss_expectation_Gamma/sample/monte_carlo_variational_loss_expectation_ffjord/forward/bdf/while/while/while_1/while/jacobians_diag/Variable:0', 'monte_carlo_variational_loss/expectation/bdf/Variable:0', 'monte_carlo_variational_loss/expectation/bdf/Variable:0', 'monte_carlo_variational_loss/expectation/bdf/Variable:0', 'monte_carlo_variational_loss/expectation/bdf/while/while/Variable:0', 'monte_carlo_variational_loss/expectation/bdf/while/while/while/while/Variable:0'] when minimizing the loss.\n"
     ]
    }
   ],
   "source": [
    "import sys\n",
    "\n",
    "# @tf.function\n",
    "def target_log_prob_fn(*args):\n",
    "    ds, bs = model._flat_sample_distributions((), 42, args)\n",
    "    log_probs = [d.log_prob(b) for d, b in zip(ds[:-1], bs[:-1])]\n",
    "    loss = sum(log_probs)\n",
    "    \n",
    "    args_ = flatten_params(*(\n",
    "        args[0], \n",
    "        args[1], \n",
    "        tf.constant(generate_social_interaction_matrix(), dtype=tf.float32),\n",
    "        args[2], \n",
    "        args[3], \n",
    "        args[4], \n",
    "        args[5], \n",
    "        args[6], \n",
    "        tf.constant(np.array([1825.]), dtype=tf.float32)\n",
    "    ), framework=tf)\n",
    "    \n",
    "    def f(t, y):\n",
    "        return tf.Variable(system(y, t, args_, tf))\n",
    "    \n",
    "    out = tfp.math.ode.BDF().solve(f, 0, state0, solution_times=t[:2])\n",
    "    loss2 = tf.reduce_sum(ds[-1].log_prob(results.states[-1]))\n",
    "\n",
    "    return loss + loss2\n",
    "\n",
    "losses = tfp.vi.fit_surrogate_posterior(\n",
    "  target_log_prob_fn=target_log_prob_fn,\n",
    "  surrogate_posterior=q,\n",
    "  optimizer=tf.optimizers.Adam(learning_rate=0.1),\n",
    "  sample_size=1,\n",
    "  num_steps=500\n",
    ")"
   ]
  },
  {
   "cell_type": "code",
   "execution_count": null,
   "metadata": {},
   "outputs": [],
   "source": [
    "model.plot(\n",
    "    q.sample(101), \n",
    "    \"male\", \n",
    "    \"high\", \n",
    "    \"(25, 50)\", \n",
    "    obs=obs\n",
    ")"
   ]
  },
  {
   "cell_type": "markdown",
   "metadata": {},
   "source": [
    "## Example"
   ]
  },
  {
   "cell_type": "code",
   "execution_count": null,
   "metadata": {},
   "outputs": [],
   "source": [
    "# Toy 1D data.\n",
    "index_points = np.array([-10., -7.2, -4., -0.1, 0.1, 4., 6.2, 9.]).reshape(\n",
    "    [-1, 1]).astype(np.float32)\n",
    "observed_counts = np.array(\n",
    "    [100, 90, 60, 13, 18, 37, 55, 42]).astype(np.float32)\n",
    "\n",
    "# Trainable GP hyperparameters.\n",
    "kernel_log_amplitude = tf.Variable(0., name='kernel_log_amplitude')\n",
    "kernel_log_lengthscale = tf.Variable(0., name='kernel_log_lengthscale')\n",
    "observation_noise_log_scale = tf.Variable(\n",
    "  0., name='observation_noise_log_scale')\n",
    "\n",
    "# Generative model.\n",
    "Root = tfd.JointDistributionCoroutine.Root\n",
    "def model_fn():\n",
    "    kernel = tfp.math.psd_kernels.ExponentiatedQuadratic(\n",
    "      amplitude=tf.exp(kernel_log_amplitude),\n",
    "      length_scale=tf.exp(kernel_log_lengthscale))\n",
    "    latent_log_rates = yield Root(tfd.GaussianProcess(\n",
    "      kernel,\n",
    "      index_points=index_points,\n",
    "      observation_noise_variance=tf.exp(observation_noise_log_scale),\n",
    "      name='latent_log_rates'))\n",
    "    y = yield tfd.Independent(tfd.Poisson(log_rate=latent_log_rates, name='y'),\n",
    "                            reinterpreted_batch_ndims=1)\n",
    "model = tfd.JointDistributionCoroutine(model_fn)"
   ]
  },
  {
   "cell_type": "code",
   "execution_count": null,
   "metadata": {},
   "outputs": [],
   "source": [
    "logit_locs = tf.Variable(tf.zeros(observed_counts.shape), name='logit_locs')\n",
    "logit_softplus_scales = tf.Variable(tf.ones(observed_counts.shape) * -4,\n",
    "                                    name='logit_softplus_scales')\n",
    "def variational_model_fn():\n",
    "    latent_rates = yield Root(tfd.Independent(\n",
    "    tfd.Normal(loc=logit_locs, scale=tf.nn.softplus(logit_softplus_scales)),\n",
    "    reinterpreted_batch_ndims=1))\n",
    "    y = yield tfd.VectorDeterministic(latent_rates)\n",
    "q = tfd.JointDistributionCoroutine(variational_model_fn)"
   ]
  },
  {
   "cell_type": "code",
   "execution_count": null,
   "metadata": {},
   "outputs": [],
   "source": [
    "losses, log_amplitude_path, sample_path = tfp.vi.fit_surrogate_posterior(\n",
    "  target_log_prob_fn=lambda *args: model.log_prob(args),\n",
    "  surrogate_posterior=q,\n",
    "  optimizer=tf.optimizers.Adam(learning_rate=0.1),\n",
    "  sample_size=1,\n",
    "  num_steps=500,\n",
    "  trace_fn=lambda loss, grads, vars: (loss, kernel_log_amplitude,\n",
    "                                      q.sample(5, seed=42)[0]))"
   ]
  },
  {
   "cell_type": "code",
   "execution_count": null,
   "metadata": {},
   "outputs": [],
   "source": [
    "model.sample(), q.sample()"
   ]
  }
 ],
 "metadata": {
  "author": "mes",
  "hide_input": false,
  "kernelspec": {
   "display_name": "Python 3",
   "language": "python",
   "name": "python3"
  },
  "language_info": {
   "codemirror_mode": {
    "name": "ipython",
    "version": 3
   },
   "file_extension": ".py",
   "mimetype": "text/x-python",
   "name": "python",
   "nbconvert_exporter": "python",
   "pygments_lexer": "ipython3",
   "version": "3.7.7"
  },
  "latex_envs": {
   "LaTeX_envs_menu_present": true,
   "autoclose": false,
   "autocomplete": false,
   "bibliofile": "biblio.bib",
   "cite_by": "apalike",
   "current_citInitial": 1,
   "eqLabelWithNumbers": false,
   "eqNumInitial": 1,
   "hotkeys": {
    "equation": "Ctrl-E",
    "itemize": "Ctrl-I"
   },
   "labels_anchors": false,
   "latex_user_defs": false,
   "report_style_numbering": false,
   "user_envs_cfg": false
  },
  "toc": {
   "base_numbering": 1,
   "nav_menu": {
    "height": "106px",
    "width": "348px"
   },
   "number_sections": true,
   "sideBar": true,
   "skip_h1_title": false,
   "title_cell": "Table of Contents",
   "title_sidebar": "Contents",
   "toc_cell": false,
   "toc_position": {},
   "toc_section_display": true,
   "toc_window_display": false
  }
 },
 "nbformat": 4,
 "nbformat_minor": 4
}
