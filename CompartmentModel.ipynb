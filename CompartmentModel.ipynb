{
 "cells": [
  {
   "cell_type": "markdown",
   "metadata": {},
   "source": [
    "# COVID 19 - Compartmental Model"
   ]
  },
  {
   "cell_type": "markdown",
   "metadata": {},
   "source": [
    "## Model"
   ]
  },
  {
   "cell_type": "markdown",
   "metadata": {},
   "source": [
    "We define the following compartments:\n",
    "- **$S$** is individuals who are at risks of Covid-19 infection\n",
    "- **$I$** is infected individuals including asymptomatic and mild cases\n",
    "- **$G$** is infected people who developed more severe cases of symptoms and required hospitalization\n",
    "- **$P$** is those who recovered, and are seropositive and immune\n",
    "- **$N$** is individuals who are recovered, immune but seronegative"
   ]
  },
  {
   "cell_type": "markdown",
   "metadata": {},
   "source": [
    "We also introduce the attributes age ($a$), gender ($g$) and social activity group ($s$) differentiating individuals in a population."
   ]
  },
  {
   "cell_type": "markdown",
   "metadata": {},
   "source": [
    "Our model is formulated as a system of ordinary differential equations:"
   ]
  },
  {
   "cell_type": "markdown",
   "metadata": {},
   "source": [
    "\\begin{align*}\n",
    "\\tag{1}\n",
    "& \\dot{S}_{g,s,a} & = & -\\lambda_{g,s,a}(t)S_{g,s,a} + (P_{g,s,a} + N_{g,s,a})/DI_g + \\frac{1}{r}S_{g,s,a-1} - \\frac{1}{r}S_{g,s,a} + &\\\\\n",
    "&&& \\frac{1}{R}\\sum_{g,s}(S_{g,s,20} + I_{g,s,20} + G_{g,s,20} + P_{g,s,20} + N_{g,s,20}) \\times &\\\\\n",
    "&&& \\delta_1(a)(\\pi_1\\delta_1(s) + \\pi_2\\delta_2(s) + \\pi_3\\delta_3(s) + \\pi_4\\delta_4(s)) &\\\\ \\\\\n",
    "\\tag{2}\n",
    "& \\dot{I}_{g,s,a}  & = &  \\lambda_{g,s,a}(t)S_{g,s,a} - (1/WIP_g + 1/DAI_g)I_{g,s,a} + \\frac{1}{r}I_{g,s,a-1}-\\frac{1}{r}I_{g,s,a} &\\\\ \\\\\n",
    "\\tag{3}\n",
    "& \\dot{G}_{g,s,a}  & = &  I_{g,s,a}/WIP_g - G_{g,s,a}/DWT_g + \\frac{1}{r}G_{g,s,a-1} - \\frac{1}{r}G_{g,s,a} &\\\\ \\\\ \n",
    "\\tag{4}\n",
    "& \\dot{P}_{g,s,a}  & = &  PSC_g(I_{g,s,a}/DAI_g + G_{g,s,a}/DWT_g) - P_{g,s,a}/DI_g + \\frac{1}{r}P_{g,s,a-1} - \\frac{1}{r}P_{g,s,a} &\\\\ \\\\\n",
    "\\tag{5}\n",
    "& \\dot{N}_{g,s,a}  & = &  (1-PSC_g)(I_{g,s,a}/DAI_g + G_{g,s,a}/DWT_g) - N_{g,s,a}/DI_g + \\frac{1}{r}N_{g,s,a-1}-\\frac{1}{r}N_{g,s,a} &\\\\ \\\\\n",
    "\\end{align*}"
   ]
  },
  {
   "cell_type": "markdown",
   "metadata": {},
   "source": [
    "- $a$ : age - is 5-year band\n",
    "- $g$ : gender - male = 0, female = 1\n",
    "- $s$ : social intereaction category - active = 1, not active = 0"
   ]
  },
  {
   "cell_type": "markdown",
   "metadata": {},
   "source": [
    "$\n",
    "r = 5 * 365 = 1825 \\\\\n",
    "R = 2 * 2 * 1825 = 7300\n",
    "$"
   ]
  },
  {
   "cell_type": "markdown",
   "metadata": {},
   "source": [
    "## Code"
   ]
  },
  {
   "cell_type": "code",
   "execution_count": 1,
   "metadata": {
    "code_folding": [],
    "pixiedust": {
     "displayParams": {}
    }
   },
   "outputs": [],
   "source": [
    "import numpy as np\n",
    "from scipy.integrate import odeint, solve_ivp\n",
    "from enum import Enum\n",
    "\n",
    "STATES = ['S', 'I', 'G', 'P', 'N']\n",
    "A_CATEGORIES = list(range(int((100 - 0) / 5)))\n",
    "G_CATEGORIES = list(range(2))\n",
    "S_CATEGORIES = list(range(2))\n",
    "\n",
    "def intensity(t, g, s, a):\n",
    "    return 0.8\n",
    "\n",
    "def dS(t, g, s, a, S=None, I=None, G=None, P=None, N=None, di=None, sip=None, r=None, **kwargs):\n",
    "    dSdt = - intensity(t, g, s, a) * S[g, s, a] + \\\n",
    "        (P[g, s, a] + N[g, s, a]) / di[g] + (S[g, s, a-1] - S[g, s, a]) / r\n",
    "    \n",
    "    if a != 0:\n",
    "        return dSdt\n",
    "        \n",
    "    R = 0\n",
    "    inflow = 0\n",
    "    for g in G_CATEGORIES:\n",
    "        for s in S_CATEGORIES:\n",
    "            R += 1\n",
    "            inflow += (\n",
    "                S[g, s, A_CATEGORIES[-1]] +\n",
    "                I[g, s, A_CATEGORIES[-1]] +\n",
    "                G[g, s, A_CATEGORIES[-1]] +\n",
    "                P[g, s, A_CATEGORIES[-1]] +\n",
    "                N[g, s, A_CATEGORIES[-1]]\n",
    "            ) * sip[s] / r\n",
    "            \n",
    "    return dSdt + inflow / R\n",
    "\n",
    "def dI(t, g, s, a, S=None, I=None, wip=None, dai=None, r=None, **kwargs):\n",
    "    dIdt = intensity(t, g, s, a) * S[g, s, a] - \\\n",
    "        (1/wip[g] + 1/dai[g]) * I[g, s, a] + (I[g, s, a-1] - I[g, s, a]) / r\n",
    "    \n",
    "    return dIdt\n",
    "\n",
    "def dG(t, g, s, a, I=None, G=None, wip=None, dwt=None, r=None, **kwargs):\n",
    "    dGdt = I[g, s, a] / wip[g] - G[g, s, a] / dwt[g] + (G[g, s, a-1] - G[g, s, a]) / r\n",
    "    return dGdt\n",
    "\n",
    "def dP(t, g, s, a, I=None, G=None, P=None, psc=None, dai=None, dwt=None, di=None, r=None, **kwargs):\n",
    "    dPdt = psc[g] * (I[g, s, a] / dai[g] + G[g, s, a] / dwt[g]) - P[g, s, a] / di[g] + \\\n",
    "        (P[g, s, a-1] - P[g, s, a]) / r\n",
    "    \n",
    "    return dPdt\n",
    "\n",
    "def dN(t, g, s, a, I=None, G=None, N=None, psc=None, dai=None, dwt=None, di=None, r=None, **kwargs):\n",
    "    dNdt = (1-psc[g]) * (I[g, s, a] / dai[g] + G[g, s, a] / dwt[g]) - \\\n",
    "        N[g, s ,a]/di[g] + (N[g, s, a-1] - N[g, s, a]) / r\n",
    "    \n",
    "    return dNdt\n",
    "\n",
    "DELTAS_FUNC = {\n",
    "    \"S\": dS, \"I\": dI, \"G\": dG, \"P\": dP, \"N\": dN\n",
    "}\n",
    "\n",
    "def system(y, t, sip, di, wip, dai, dwt, psc, r):\n",
    "    \"\"\"System of ODEs\n",
    "    \n",
    "    Params:\n",
    "        y (array) : the current state\n",
    "        t (float) : the current time\n",
    "        sip (array) : the proportion of people in each social interaction group (sum(sip) = 1)\n",
    "        di (array) : duration of immunity\n",
    "        wip (array) : incubation period\n",
    "        dai (array) : duration of asymptomatic infection symptoms\n",
    "        dwt (array) : duration of treatment\n",
    "        psc (array) : probability of becoming seropositive\n",
    "        r (int) : the number of days for someone to move to the upper age category\n",
    "    \"\"\"\n",
    "    states = dict(zip(STATES, np.array_split(y, len(STATES))))\n",
    "    params = {\n",
    "        \"sip\": sip, \"di\": di, \"wip\": wip, \"dai\": dai, \"dwt\": dwt, \"psc\": psc, \"r\": r\n",
    "    }\n",
    "    \n",
    "    for state in STATES:\n",
    "        states[state] = states[state].reshape((len(G_CATEGORIES), len(S_CATEGORIES), len(A_CATEGORIES)))\n",
    "        \n",
    "    deltas = {\n",
    "        state: np.zeros((len(G_CATEGORIES), len(S_CATEGORIES), len(A_CATEGORIES))) \n",
    "        for state in STATES\n",
    "    }\n",
    "\n",
    "    for a in reversed(A_CATEGORIES):\n",
    "        for g in reversed(G_CATEGORIES):\n",
    "            for s in reversed(S_CATEGORIES):\n",
    "                for state in STATES:\n",
    "                    deltas[state][g, s, a] = DELTAS_FUNC[state](t, g, s, a, **states, **params)\n",
    "                    \n",
    "    for state in STATES:\n",
    "        deltas[state] = deltas[state].flatten()\n",
    "        \n",
    "    ret = np.concatenate(tuple(deltas[state] for state in STATES))\n",
    "    return ret\n",
    "\n",
    "def generate_initial_state(n=100, infected_ratio=0.5, seed=123):\n",
    "    \"\"\"Generate a random initial state\n",
    "    \n",
    "    Params:\n",
    "        n (int): the population size\n",
    "        infected_ratio (float): the ratio of people infected in the population\n",
    "        seed (int): the random seed to use\n",
    "    \"\"\"\n",
    "    np.random.seed(seed)\n",
    "    \n",
    "    ages = np.random.randint(len(A_CATEGORIES), size=n)\n",
    "    genders = np.random.randint(len(G_CATEGORIES), size=n)\n",
    "    social_interactions = np.random.randint(len(S_CATEGORIES), size=n)\n",
    "    \n",
    "    initial_states = {\n",
    "        state: np.zeros((len(G_CATEGORIES), len(S_CATEGORIES), len(A_CATEGORIES)))\n",
    "        for state in STATES\n",
    "    }\n",
    "    \n",
    "    for i, (a, g, s) in enumerate(zip(ages, genders, social_interactions)):\n",
    "        if i < int(n*infected_ratio):\n",
    "            initial_states[\"I\"][g, s, a] += 1\n",
    "        else:\n",
    "            initial_states[\"S\"][g, s, a] += 1\n",
    "            \n",
    "    for state in STATES:\n",
    "        initial_states[state] = initial_states[state].flatten()\n",
    "        \n",
    "    return np.concatenate(tuple(initial_states[state] for state in STATES))\n",
    "\n",
    "state0 = generate_initial_state()\n",
    "\n",
    "args = (\n",
    "    [0.8, 0.2], # sip\n",
    "    [2, 2], # di\n",
    "    [7, 7], # wip\n",
    "    [3, 3], # dai\n",
    "    [14, 14], # dwt\n",
    "    [0.5, 0.5], # psc\n",
    "    1825, # r\n",
    ")\n",
    "\n",
    "\n",
    "t = np.linspace(0, 100, 101)\n",
    "sol = odeint(system, state0, t, args=args)\n",
    "\n",
    "def build_history(sol):\n",
    "    \"\"\"Reconstruct the history from the output of the ODE solver\n",
    "    \n",
    "    Params:\n",
    "        sol (array): the output of the ODE solver\n",
    "        \n",
    "    Returns:\n",
    "        hist (array): the array of shape (len(t), len(G), len(S), len(A))\n",
    "    \"\"\"\n",
    "    hists = {\n",
    "        state: [] for state in STATES\n",
    "    }\n",
    "    \n",
    "    for t, states_t in enumerate(sol):\n",
    "        for state, vals in zip(STATES, np.array_split(states_t, len(STATES))):\n",
    "            hists[state].append(\n",
    "                vals.reshape((len(G_CATEGORIES), len(S_CATEGORIES), len(A_CATEGORIES)))\n",
    "            )\n",
    "            \n",
    "    return {s : np.array(h) for s, h in hists.items()}\n",
    "\n",
    "hists = build_history(sol)"
   ]
  },
  {
   "cell_type": "code",
   "execution_count": 2,
   "metadata": {},
   "outputs": [
    {
     "data": {
      "image/png": "[encoded data removed]",
      "text/plain": [
       "<Figure size 432x288 with 1 Axes>"
      ]
     },
     "metadata": {
      "needs_background": "light"
     },
     "output_type": "display_data"
    }
   ],
   "source": [
    "import matplotlib.pyplot as plt\n",
    "%matplotlib inline\n",
    "\n",
    "G = 0\n",
    "S = 1\n",
    "A = 5\n",
    "\n",
    "plt.plot(t, hists[\"S\"][:, G, S, A], label='S')\n",
    "plt.plot(t, hists[\"I\"][:, G, S, A], label='I')\n",
    "plt.plot(t, hists[\"G\"][:, G, S, A], label='G')\n",
    "plt.plot(t, hists[\"P\"][:, G, S, A], label='P')\n",
    "plt.plot(t, hists[\"N\"][:, G, S, A], label='N')\n",
    "plt.legend(loc='best')\n",
    "plt.xlabel('t')\n",
    "plt.grid()\n",
    "plt.show()"
   ]
  }
 ],
 "metadata": {
  "author": "mes",
  "hide_input": false,
  "kernelspec": {
   "display_name": "Python 3",
   "language": "python",
   "name": "python3"
  },
  "language_info": {
   "codemirror_mode": {
    "name": "ipython",
    "version": 3
   },
   "file_extension": ".py",
   "mimetype": "text/x-python",
   "name": "python",
   "nbconvert_exporter": "python",
   "pygments_lexer": "ipython3",
   "version": "3.7.3"
  },
  "latex_envs": {
   "LaTeX_envs_menu_present": true,
   "autoclose": false,
   "autocomplete": false,
   "bibliofile": "biblio.bib",
   "cite_by": "apalike",
   "current_citInitial": 1,
   "eqLabelWithNumbers": false,
   "eqNumInitial": 1,
   "hotkeys": {
    "equation": "Ctrl-E",
    "itemize": "Ctrl-I"
   },
   "labels_anchors": false,
   "latex_user_defs": false,
   "report_style_numbering": false,
   "user_envs_cfg": false
  },
  "toc": {
   "base_numbering": 1,
   "nav_menu": {},
   "number_sections": true,
   "sideBar": true,
   "skip_h1_title": false,
   "title_cell": "Table of Contents",
   "title_sidebar": "Contents",
   "toc_cell": false,
   "toc_position": {},
   "toc_section_display": true,
   "toc_window_display": false
  }
 },
 "nbformat": 4,
 "nbformat_minor": 4
}
